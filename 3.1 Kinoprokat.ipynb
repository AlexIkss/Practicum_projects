{
 "cells": [
  {
   "cell_type": "markdown",
   "id": "ea562257-54d6-4d86-92c7-df356aee3e1a",
   "metadata": {},
   "source": [
    "<div style=\"border:solid steelblue 1px; padding: 20px\">\n",
    "    \n",
    "<font size=\"7\"><p style=\"text-align:center\"><b>**Анализ рынка российского кинопроката и выявление текущих трендов** </b></p></font>"
   ]
  },
  {
   "cell_type": "markdown",
   "id": "cdb849dd-16eb-41fb-bc06-f37ef4777a4d",
   "metadata": {},
   "source": [
    "# 1 Читаем файлы, выводим общую информацию"
   ]
  },
  {
   "cell_type": "code",
   "execution_count": 1,
   "id": "14b92331-9225-4d7c-88a4-97dbd03d752a",
   "metadata": {
    "scrolled": true
   },
   "outputs": [
    {
     "name": "stdout",
     "output_type": "stream",
     "text": [
      "<class 'pandas.core.frame.DataFrame'>\n",
      "RangeIndex: 7486 entries, 0 to 7485\n",
      "Data columns (total 15 columns):\n",
      " #   Column                 Non-Null Count  Dtype  \n",
      "---  ------                 --------------  -----  \n",
      " 0   title                  7486 non-null   object \n",
      " 1   puNumber               7486 non-null   object \n",
      " 2   show_start_date        7486 non-null   object \n",
      " 3   type                   7486 non-null   object \n",
      " 4   film_studio            7468 non-null   object \n",
      " 5   production_country     7484 non-null   object \n",
      " 6   director               7477 non-null   object \n",
      " 7   producer               6918 non-null   object \n",
      " 8   age_restriction        7486 non-null   object \n",
      " 9   refundable_support     332 non-null    float64\n",
      " 10  nonrefundable_support  332 non-null    float64\n",
      " 11  budget                 332 non-null    float64\n",
      " 12  financing_source       332 non-null    object \n",
      " 13  ratings                6519 non-null   object \n",
      " 14  genres                 6510 non-null   object \n",
      "dtypes: float64(3), object(12)\n",
      "memory usage: 877.4+ KB\n"
     ]
    },
    {
     "data": {
      "text/plain": [
       "None"
      ]
     },
     "metadata": {},
     "output_type": "display_data"
    },
    {
     "name": "stdout",
     "output_type": "stream",
     "text": [
      "<class 'pandas.core.frame.DataFrame'>\n",
      "RangeIndex: 3158 entries, 0 to 3157\n",
      "Data columns (total 2 columns):\n",
      " #   Column      Non-Null Count  Dtype  \n",
      "---  ------      --------------  -----  \n",
      " 0   puNumber    3158 non-null   int64  \n",
      " 1   box_office  3158 non-null   float64\n",
      "dtypes: float64(1), int64(1)\n",
      "memory usage: 49.5 KB\n"
     ]
    },
    {
     "data": {
      "text/plain": [
       "None"
      ]
     },
     "metadata": {},
     "output_type": "display_data"
    },
    {
     "data": {
      "text/html": [
       "<div>\n",
       "<style scoped>\n",
       "    .dataframe tbody tr th:only-of-type {\n",
       "        vertical-align: middle;\n",
       "    }\n",
       "\n",
       "    .dataframe tbody tr th {\n",
       "        vertical-align: top;\n",
       "    }\n",
       "\n",
       "    .dataframe thead th {\n",
       "        text-align: right;\n",
       "    }\n",
       "</style>\n",
       "<table border=\"1\" class=\"dataframe\">\n",
       "  <thead>\n",
       "    <tr style=\"text-align: right;\">\n",
       "      <th></th>\n",
       "      <th>title</th>\n",
       "      <th>puNumber</th>\n",
       "      <th>show_start_date</th>\n",
       "      <th>type</th>\n",
       "      <th>film_studio</th>\n",
       "      <th>production_country</th>\n",
       "      <th>director</th>\n",
       "      <th>producer</th>\n",
       "      <th>age_restriction</th>\n",
       "      <th>refundable_support</th>\n",
       "      <th>nonrefundable_support</th>\n",
       "      <th>budget</th>\n",
       "      <th>financing_source</th>\n",
       "      <th>ratings</th>\n",
       "      <th>genres</th>\n",
       "    </tr>\n",
       "  </thead>\n",
       "  <tbody>\n",
       "    <tr>\n",
       "      <th>0</th>\n",
       "      <td>Открытый простор</td>\n",
       "      <td>221048915</td>\n",
       "      <td>2015-11-27T12:00:00.000Z</td>\n",
       "      <td>Художественный</td>\n",
       "      <td>Тачстоун Пикчерз, Кобальт Пикчерз, Бикон Пикче...</td>\n",
       "      <td>США</td>\n",
       "      <td>Кевин Костнер</td>\n",
       "      <td>Дэвид Валдес, Кевин Костнер, Джейк Эбертс</td>\n",
       "      <td>«18+» - запрещено для детей</td>\n",
       "      <td>NaN</td>\n",
       "      <td>NaN</td>\n",
       "      <td>NaN</td>\n",
       "      <td>NaN</td>\n",
       "      <td>7.2</td>\n",
       "      <td>боевик,драма,мелодрама</td>\n",
       "    </tr>\n",
       "    <tr>\n",
       "      <th>1</th>\n",
       "      <td>Особо важное задание</td>\n",
       "      <td>111013716</td>\n",
       "      <td>2016-09-13T12:00:00.000Z</td>\n",
       "      <td>Художественный</td>\n",
       "      <td>Киностудия \"Мосфильм\"</td>\n",
       "      <td>СССР</td>\n",
       "      <td>Е.Матвеев</td>\n",
       "      <td>NaN</td>\n",
       "      <td>«6+» - для детей старше 6 лет</td>\n",
       "      <td>NaN</td>\n",
       "      <td>NaN</td>\n",
       "      <td>NaN</td>\n",
       "      <td>NaN</td>\n",
       "      <td>6.6</td>\n",
       "      <td>драма,военный</td>\n",
       "    </tr>\n",
       "    <tr>\n",
       "      <th>2</th>\n",
       "      <td>Особо опасен</td>\n",
       "      <td>221038416</td>\n",
       "      <td>2016-10-10T12:00:00.000Z</td>\n",
       "      <td>Художественный</td>\n",
       "      <td>Юниверсал Пикчерз, Кикстарт Продакшнз, Марк Пл...</td>\n",
       "      <td>США</td>\n",
       "      <td>Тимур Бекмамбетов</td>\n",
       "      <td>Джим Лемли, Джейсон Нетер, Марк Е.Платт, Яйн Смит</td>\n",
       "      <td>«18+» - запрещено для детей</td>\n",
       "      <td>NaN</td>\n",
       "      <td>NaN</td>\n",
       "      <td>NaN</td>\n",
       "      <td>NaN</td>\n",
       "      <td>6.8</td>\n",
       "      <td>фантастика,боевик,триллер</td>\n",
       "    </tr>\n",
       "    <tr>\n",
       "      <th>3</th>\n",
       "      <td>Особо опасен</td>\n",
       "      <td>221026916</td>\n",
       "      <td>2016-06-10T12:00:00.000Z</td>\n",
       "      <td>Художественный</td>\n",
       "      <td>Юниверсал Пикчерз, Кикстарт Продакшнз, Марк Пл...</td>\n",
       "      <td>США</td>\n",
       "      <td>Тимур Бекмамбетов</td>\n",
       "      <td>Джим Лемли, Джейсон Нетер, Марк Е.Платт, Яйн Смит</td>\n",
       "      <td>«18+» - запрещено для детей</td>\n",
       "      <td>NaN</td>\n",
       "      <td>NaN</td>\n",
       "      <td>NaN</td>\n",
       "      <td>NaN</td>\n",
       "      <td>6.8</td>\n",
       "      <td>фантастика,боевик,триллер</td>\n",
       "    </tr>\n",
       "    <tr>\n",
       "      <th>4</th>\n",
       "      <td>Особо опасен</td>\n",
       "      <td>221030815</td>\n",
       "      <td>2015-07-29T12:00:00.000Z</td>\n",
       "      <td>Художественный</td>\n",
       "      <td>Юниверсал Пикчерз, Кикстарт Продакшнз, Марк Пл...</td>\n",
       "      <td>США</td>\n",
       "      <td>Тимур Бекмамбетов</td>\n",
       "      <td>Джим Лемли, Джейсон Нетер, Марк Е.Платт, Яйн Смит</td>\n",
       "      <td>«18+» - запрещено для детей</td>\n",
       "      <td>NaN</td>\n",
       "      <td>NaN</td>\n",
       "      <td>NaN</td>\n",
       "      <td>NaN</td>\n",
       "      <td>6.8</td>\n",
       "      <td>фантастика,боевик,триллер</td>\n",
       "    </tr>\n",
       "  </tbody>\n",
       "</table>\n",
       "</div>"
      ],
      "text/plain": [
       "                  title   puNumber           show_start_date            type  \\\n",
       "0      Открытый простор  221048915  2015-11-27T12:00:00.000Z  Художественный   \n",
       "1  Особо важное задание  111013716  2016-09-13T12:00:00.000Z  Художественный   \n",
       "2          Особо опасен  221038416  2016-10-10T12:00:00.000Z  Художественный   \n",
       "3          Особо опасен  221026916  2016-06-10T12:00:00.000Z  Художественный   \n",
       "4          Особо опасен  221030815  2015-07-29T12:00:00.000Z  Художественный   \n",
       "\n",
       "                                         film_studio production_country  \\\n",
       "0  Тачстоун Пикчерз, Кобальт Пикчерз, Бикон Пикче...                США   \n",
       "1                              Киностудия \"Мосфильм\"               СССР   \n",
       "2  Юниверсал Пикчерз, Кикстарт Продакшнз, Марк Пл...                США   \n",
       "3  Юниверсал Пикчерз, Кикстарт Продакшнз, Марк Пл...                США   \n",
       "4  Юниверсал Пикчерз, Кикстарт Продакшнз, Марк Пл...                США   \n",
       "\n",
       "            director                                           producer  \\\n",
       "0      Кевин Костнер          Дэвид Валдес, Кевин Костнер, Джейк Эбертс   \n",
       "1          Е.Матвеев                                                NaN   \n",
       "2  Тимур Бекмамбетов  Джим Лемли, Джейсон Нетер, Марк Е.Платт, Яйн Смит   \n",
       "3  Тимур Бекмамбетов  Джим Лемли, Джейсон Нетер, Марк Е.Платт, Яйн Смит   \n",
       "4  Тимур Бекмамбетов  Джим Лемли, Джейсон Нетер, Марк Е.Платт, Яйн Смит   \n",
       "\n",
       "                 age_restriction  refundable_support  nonrefundable_support  \\\n",
       "0    «18+» - запрещено для детей                 NaN                    NaN   \n",
       "1  «6+» - для детей старше 6 лет                 NaN                    NaN   \n",
       "2    «18+» - запрещено для детей                 NaN                    NaN   \n",
       "3    «18+» - запрещено для детей                 NaN                    NaN   \n",
       "4    «18+» - запрещено для детей                 NaN                    NaN   \n",
       "\n",
       "   budget financing_source ratings                     genres  \n",
       "0     NaN              NaN     7.2     боевик,драма,мелодрама  \n",
       "1     NaN              NaN     6.6              драма,военный  \n",
       "2     NaN              NaN     6.8  фантастика,боевик,триллер  \n",
       "3     NaN              NaN     6.8  фантастика,боевик,триллер  \n",
       "4     NaN              NaN     6.8  фантастика,боевик,триллер  "
      ]
     },
     "metadata": {},
     "output_type": "display_data"
    },
    {
     "data": {
      "text/html": [
       "<div>\n",
       "<style scoped>\n",
       "    .dataframe tbody tr th:only-of-type {\n",
       "        vertical-align: middle;\n",
       "    }\n",
       "\n",
       "    .dataframe tbody tr th {\n",
       "        vertical-align: top;\n",
       "    }\n",
       "\n",
       "    .dataframe thead th {\n",
       "        text-align: right;\n",
       "    }\n",
       "</style>\n",
       "<table border=\"1\" class=\"dataframe\">\n",
       "  <thead>\n",
       "    <tr style=\"text-align: right;\">\n",
       "      <th></th>\n",
       "      <th>puNumber</th>\n",
       "      <th>box_office</th>\n",
       "    </tr>\n",
       "  </thead>\n",
       "  <tbody>\n",
       "    <tr>\n",
       "      <th>0</th>\n",
       "      <td>111000113</td>\n",
       "      <td>2,450.0</td>\n",
       "    </tr>\n",
       "    <tr>\n",
       "      <th>1</th>\n",
       "      <td>111000115</td>\n",
       "      <td>61,040.0</td>\n",
       "    </tr>\n",
       "    <tr>\n",
       "      <th>2</th>\n",
       "      <td>111000116</td>\n",
       "      <td>153,030,013.4</td>\n",
       "    </tr>\n",
       "    <tr>\n",
       "      <th>3</th>\n",
       "      <td>111000117</td>\n",
       "      <td>12,260,956.0</td>\n",
       "    </tr>\n",
       "    <tr>\n",
       "      <th>4</th>\n",
       "      <td>111000118</td>\n",
       "      <td>163,684,057.8</td>\n",
       "    </tr>\n",
       "  </tbody>\n",
       "</table>\n",
       "</div>"
      ],
      "text/plain": [
       "    puNumber    box_office\n",
       "0  111000113       2,450.0\n",
       "1  111000115      61,040.0\n",
       "2  111000116 153,030,013.4\n",
       "3  111000117  12,260,956.0\n",
       "4  111000118 163,684,057.8"
      ]
     },
     "metadata": {},
     "output_type": "display_data"
    }
   ],
   "source": [
    "import warnings\n",
    "from numpy import nan\n",
    "# Отключаем все предупреждения\n",
    "warnings.filterwarnings('ignore')\n",
    "import matplotlib.pyplot as plt\n",
    "import pandas as pd\n",
    "data = pd.read_csv('https://code.s3.yandex.net/datasets/mkrf_movies.csv')\n",
    "pd.options.display.float_format = '{:,.1f}'.format\n",
    "data_tmp = pd.read_csv('https://code.s3.yandex.net/datasets/mkrf_shows.csv')\n",
    "display(data.info())\n",
    "display(data_tmp.info())\n",
    "display(data.head())\n",
    "display(data_tmp.head())"
   ]
  },
  {
   "cell_type": "markdown",
   "id": "0382a994-e32a-4d05-a337-6d341af5397c",
   "metadata": {},
   "source": [
    "У двух датасетов есть общее поле **puNumber**, но при этом данное поле имеет разный тип"
   ]
  },
  {
   "cell_type": "markdown",
   "id": "3d546cca-7181-4399-8c31-6e63ec31c64b",
   "metadata": {},
   "source": [
    "## Объединяем датасеты"
   ]
  },
  {
   "cell_type": "code",
   "execution_count": 2,
   "id": "d9dba026",
   "metadata": {},
   "outputs": [],
   "source": [
    "data = data.rename(columns={'puNumber': 'pu_number'})\n",
    "data_tmp = data_tmp.rename(columns={'puNumber': 'pu_number'})"
   ]
  },
  {
   "cell_type": "code",
   "execution_count": 3,
   "id": "fdcc0f7b",
   "metadata": {},
   "outputs": [
    {
     "data": {
      "text/html": [
       "<div>\n",
       "<style scoped>\n",
       "    .dataframe tbody tr th:only-of-type {\n",
       "        vertical-align: middle;\n",
       "    }\n",
       "\n",
       "    .dataframe tbody tr th {\n",
       "        vertical-align: top;\n",
       "    }\n",
       "\n",
       "    .dataframe thead th {\n",
       "        text-align: right;\n",
       "    }\n",
       "</style>\n",
       "<table border=\"1\" class=\"dataframe\">\n",
       "  <thead>\n",
       "    <tr style=\"text-align: right;\">\n",
       "      <th></th>\n",
       "      <th>title</th>\n",
       "      <th>pu_number</th>\n",
       "      <th>show_start_date</th>\n",
       "      <th>type</th>\n",
       "      <th>film_studio</th>\n",
       "      <th>production_country</th>\n",
       "      <th>director</th>\n",
       "      <th>producer</th>\n",
       "      <th>age_restriction</th>\n",
       "      <th>refundable_support</th>\n",
       "      <th>nonrefundable_support</th>\n",
       "      <th>budget</th>\n",
       "      <th>financing_source</th>\n",
       "      <th>ratings</th>\n",
       "      <th>genres</th>\n",
       "    </tr>\n",
       "  </thead>\n",
       "  <tbody>\n",
       "    <tr>\n",
       "      <th>4639</th>\n",
       "      <td>Иоанна - женщина на папском престоле /По роман...</td>\n",
       "      <td>221154310</td>\n",
       "      <td>2010-12-17T12:00:00.000Z</td>\n",
       "      <td>Художественный</td>\n",
       "      <td>Константин Фильм, А Эр Ди Дегето Фильм, Дюне ...</td>\n",
       "      <td>Германия - Великобритания - Италия - Испания</td>\n",
       "      <td>Зенке Вортманн</td>\n",
       "      <td>Оливер Бербен, Дорис Д.Хайнце, Фарук Элтан</td>\n",
       "      <td>«16+» - для детей старше 16 лет</td>\n",
       "      <td>NaN</td>\n",
       "      <td>NaN</td>\n",
       "      <td>NaN</td>\n",
       "      <td>NaN</td>\n",
       "      <td>7.6</td>\n",
       "      <td>драма,мелодрама,история</td>\n",
       "    </tr>\n",
       "    <tr>\n",
       "      <th>5068</th>\n",
       "      <td>Анализируй то!</td>\n",
       "      <td>221054410</td>\n",
       "      <td>2010-05-25T12:00:00.000Z</td>\n",
       "      <td>Художественный</td>\n",
       "      <td>Уорнер Бразерс, Виллидж Роадшоу Пикчерз, Эн-Пи...</td>\n",
       "      <td>США</td>\n",
       "      <td>Гарольд Реймис</td>\n",
       "      <td>Джейн Розенталь, Паул Уэйнстейн</td>\n",
       "      <td>«12+» - для детей старше 12 лет</td>\n",
       "      <td>NaN</td>\n",
       "      <td>NaN</td>\n",
       "      <td>NaN</td>\n",
       "      <td>NaN</td>\n",
       "      <td>6.8</td>\n",
       "      <td>комедия,криминал</td>\n",
       "    </tr>\n",
       "  </tbody>\n",
       "</table>\n",
       "</div>"
      ],
      "text/plain": [
       "                                                  title  pu_number  \\\n",
       "4639  Иоанна - женщина на папском престоле /По роман...  221154310   \n",
       "5068                                     Анализируй то!  221054410   \n",
       "\n",
       "               show_start_date            type  \\\n",
       "4639  2010-12-17T12:00:00.000Z  Художественный   \n",
       "5068  2010-05-25T12:00:00.000Z  Художественный   \n",
       "\n",
       "                                            film_studio  \\\n",
       "4639   Константин Фильм, А Эр Ди Дегето Фильм, Дюне ...   \n",
       "5068  Уорнер Бразерс, Виллидж Роадшоу Пикчерз, Эн-Пи...   \n",
       "\n",
       "                                production_country        director  \\\n",
       "4639  Германия - Великобритания - Италия - Испания  Зенке Вортманн   \n",
       "5068                                           США  Гарольд Реймис   \n",
       "\n",
       "                                        producer  \\\n",
       "4639  Оливер Бербен, Дорис Д.Хайнце, Фарук Элтан   \n",
       "5068             Джейн Розенталь, Паул Уэйнстейн   \n",
       "\n",
       "                      age_restriction  refundable_support  \\\n",
       "4639  «16+» - для детей старше 16 лет                 NaN   \n",
       "5068  «12+» - для детей старше 12 лет                 NaN   \n",
       "\n",
       "      nonrefundable_support  budget financing_source ratings  \\\n",
       "4639                    NaN     NaN              NaN     7.6   \n",
       "5068                    NaN     NaN              NaN     6.8   \n",
       "\n",
       "                       genres  \n",
       "4639  драма,мелодрама,история  \n",
       "5068         комедия,криминал  "
      ]
     },
     "metadata": {},
     "output_type": "display_data"
    },
    {
     "data": {
      "text/html": [
       "<div>\n",
       "<style scoped>\n",
       "    .dataframe tbody tr th:only-of-type {\n",
       "        vertical-align: middle;\n",
       "    }\n",
       "\n",
       "    .dataframe tbody tr th {\n",
       "        vertical-align: top;\n",
       "    }\n",
       "\n",
       "    .dataframe thead th {\n",
       "        text-align: right;\n",
       "    }\n",
       "</style>\n",
       "<table border=\"1\" class=\"dataframe\">\n",
       "  <thead>\n",
       "    <tr style=\"text-align: right;\">\n",
       "      <th></th>\n",
       "      <th>pu_number</th>\n",
       "      <th>box_office</th>\n",
       "    </tr>\n",
       "  </thead>\n",
       "  <tbody>\n",
       "  </tbody>\n",
       "</table>\n",
       "</div>"
      ],
      "text/plain": [
       "Empty DataFrame\n",
       "Columns: [pu_number, box_office]\n",
       "Index: []"
      ]
     },
     "metadata": {},
     "output_type": "display_data"
    }
   ],
   "source": [
    "display(data[data['pu_number'].duplicated()]) #находит два дулбя 221154310 и 221054410\n",
    "display(data_tmp.query('pu_number in (\"221154310\",\"221054410\")')) #в таблице mkrf_shows таких нет\n",
    "data = data.drop_duplicates('pu_number') #можем удалять так как нет критичной инорфмации"
   ]
  },
  {
   "cell_type": "code",
   "execution_count": 4,
   "id": "649c8c38-0be4-4f0a-b18e-9c30fe620583",
   "metadata": {
    "scrolled": true
   },
   "outputs": [],
   "source": [
    "#приводим к одному типу данных поле 'pu_number'\n",
    "data['pu_number'] = data['pu_number'].astype('str')\n",
    "data_tmp['pu_number'] = data_tmp['pu_number'].astype('str')\n",
    "\n",
    "#объединяем таблицы\n",
    "data_union = pd.merge(data, data_tmp, on='pu_number', how='left')"
   ]
  },
  {
   "cell_type": "code",
   "execution_count": 5,
   "id": "58b4ede4-e014-4e4c-91d3-ea8ce9ae80c0",
   "metadata": {
    "scrolled": true
   },
   "outputs": [
    {
     "name": "stdout",
     "output_type": "stream",
     "text": [
      "<class 'pandas.core.frame.DataFrame'>\n",
      "RangeIndex: 7484 entries, 0 to 7483\n",
      "Data columns (total 16 columns):\n",
      " #   Column                 Non-Null Count  Dtype  \n",
      "---  ------                 --------------  -----  \n",
      " 0   title                  7484 non-null   object \n",
      " 1   pu_number              7484 non-null   object \n",
      " 2   show_start_date        7484 non-null   object \n",
      " 3   type                   7484 non-null   object \n",
      " 4   film_studio            7466 non-null   object \n",
      " 5   production_country     7482 non-null   object \n",
      " 6   director               7475 non-null   object \n",
      " 7   producer               6916 non-null   object \n",
      " 8   age_restriction        7484 non-null   object \n",
      " 9   refundable_support     332 non-null    float64\n",
      " 10  nonrefundable_support  332 non-null    float64\n",
      " 11  budget                 332 non-null    float64\n",
      " 12  financing_source       332 non-null    object \n",
      " 13  ratings                6517 non-null   object \n",
      " 14  genres                 6508 non-null   object \n",
      " 15  box_office             3158 non-null   float64\n",
      "dtypes: float64(4), object(12)\n",
      "memory usage: 935.6+ KB\n"
     ]
    }
   ],
   "source": [
    "#проверяем что в итоговой таблице не потеряли записи\n",
    "data_union.info()"
   ]
  },
  {
   "cell_type": "markdown",
   "id": "6a25d2ce-6001-42d2-83a7-95348d9eb9a5",
   "metadata": {},
   "source": [
    "# 2 Предобработка данных"
   ]
  },
  {
   "cell_type": "markdown",
   "id": "cac7055d-de00-414d-87ec-f3103b455276",
   "metadata": {},
   "source": [
    "## Проверяем типы данных, проверяем дубликаты, изучаем пропуски"
   ]
  },
  {
   "cell_type": "markdown",
   "id": "75dbcae7-58a7-474f-bf56-be258f4d51af",
   "metadata": {},
   "source": [
    "### Анализируем дубли"
   ]
  },
  {
   "cell_type": "code",
   "execution_count": 7,
   "id": "74349692-b1eb-4d31-9901-4b29f3d02504",
   "metadata": {},
   "outputs": [
    {
     "name": "stdout",
     "output_type": "stream",
     "text": [
      "type ['Художественный' 'Анимационный' 'Прочие' 'Документальный'\n",
      " 'Научно-популярный' 'Музыкально-развлекательный']\n",
      "age_restriction ['«18+» - запрещено для детей' '«6+» - для детей старше 6 лет'\n",
      " '«12+» - для детей старше 12 лет' '«16+» - для детей старше 16 лет'\n",
      " '«0+» - для любой зрительской аудитории']\n",
      "financing_source [nan 'Министерство культуры' 'Фонд кино'\n",
      " 'Министерство культуры, Фонд кино']\n"
     ]
    }
   ],
   "source": [
    "#сжимаем пробелы и после этого ищем не явные дубли\n",
    "for col in data_union:\n",
    "    try:\n",
    "        data_union[col] = data_union[col].str.strip()\n",
    "    except:\n",
    "        pass\n",
    "\n",
    "for col in data_union:\n",
    "    if len(data_union[col].unique()) < 30:\n",
    "        print(col, data_union[col].unique())"
   ]
  },
  {
   "cell_type": "code",
   "execution_count": 8,
   "id": "9f3de13e-8e48-4903-bd84-5d5ce6ceb3de",
   "metadata": {},
   "outputs": [],
   "source": [
    "data_union = data_union.drop_duplicates()"
   ]
  },
  {
   "cell_type": "code",
   "execution_count": 9,
   "id": "7669943b-48b0-4689-b53d-245f6af45d7c",
   "metadata": {},
   "outputs": [
    {
     "data": {
      "text/html": [
       "<div>\n",
       "<style scoped>\n",
       "    .dataframe tbody tr th:only-of-type {\n",
       "        vertical-align: middle;\n",
       "    }\n",
       "\n",
       "    .dataframe tbody tr th {\n",
       "        vertical-align: top;\n",
       "    }\n",
       "\n",
       "    .dataframe thead th {\n",
       "        text-align: right;\n",
       "    }\n",
       "</style>\n",
       "<table border=\"1\" class=\"dataframe\">\n",
       "  <thead>\n",
       "    <tr style=\"text-align: right;\">\n",
       "      <th></th>\n",
       "      <th>title</th>\n",
       "      <th>pu_number</th>\n",
       "      <th>show_start_date</th>\n",
       "      <th>type</th>\n",
       "      <th>film_studio</th>\n",
       "      <th>production_country</th>\n",
       "      <th>director</th>\n",
       "      <th>producer</th>\n",
       "      <th>age_restriction</th>\n",
       "      <th>refundable_support</th>\n",
       "      <th>nonrefundable_support</th>\n",
       "      <th>budget</th>\n",
       "      <th>financing_source</th>\n",
       "      <th>ratings</th>\n",
       "      <th>genres</th>\n",
       "      <th>box_office</th>\n",
       "    </tr>\n",
       "  </thead>\n",
       "  <tbody>\n",
       "    <tr>\n",
       "      <th>2</th>\n",
       "      <td>Особо опасен</td>\n",
       "      <td>221038416</td>\n",
       "      <td>2016-10-10T12:00:00.000Z</td>\n",
       "      <td>Художественный</td>\n",
       "      <td>Юниверсал Пикчерз, Кикстарт Продакшнз, Марк Пл...</td>\n",
       "      <td>США</td>\n",
       "      <td>Тимур Бекмамбетов</td>\n",
       "      <td>Джим Лемли, Джейсон Нетер, Марк Е.Платт, Яйн Смит</td>\n",
       "      <td>«18+» - запрещено для детей</td>\n",
       "      <td>NaN</td>\n",
       "      <td>NaN</td>\n",
       "      <td>NaN</td>\n",
       "      <td>NaN</td>\n",
       "      <td>6.8</td>\n",
       "      <td>фантастика,боевик,триллер</td>\n",
       "      <td>NaN</td>\n",
       "    </tr>\n",
       "    <tr>\n",
       "      <th>3</th>\n",
       "      <td>Особо опасен</td>\n",
       "      <td>221026916</td>\n",
       "      <td>2016-06-10T12:00:00.000Z</td>\n",
       "      <td>Художественный</td>\n",
       "      <td>Юниверсал Пикчерз, Кикстарт Продакшнз, Марк Пл...</td>\n",
       "      <td>США</td>\n",
       "      <td>Тимур Бекмамбетов</td>\n",
       "      <td>Джим Лемли, Джейсон Нетер, Марк Е.Платт, Яйн Смит</td>\n",
       "      <td>«18+» - запрещено для детей</td>\n",
       "      <td>NaN</td>\n",
       "      <td>NaN</td>\n",
       "      <td>NaN</td>\n",
       "      <td>NaN</td>\n",
       "      <td>6.8</td>\n",
       "      <td>фантастика,боевик,триллер</td>\n",
       "      <td>NaN</td>\n",
       "    </tr>\n",
       "    <tr>\n",
       "      <th>4</th>\n",
       "      <td>Особо опасен</td>\n",
       "      <td>221030815</td>\n",
       "      <td>2015-07-29T12:00:00.000Z</td>\n",
       "      <td>Художественный</td>\n",
       "      <td>Юниверсал Пикчерз, Кикстарт Продакшнз, Марк Пл...</td>\n",
       "      <td>США</td>\n",
       "      <td>Тимур Бекмамбетов</td>\n",
       "      <td>Джим Лемли, Джейсон Нетер, Марк Е.Платт, Яйн Смит</td>\n",
       "      <td>«18+» - запрещено для детей</td>\n",
       "      <td>NaN</td>\n",
       "      <td>NaN</td>\n",
       "      <td>NaN</td>\n",
       "      <td>NaN</td>\n",
       "      <td>6.8</td>\n",
       "      <td>фантастика,боевик,триллер</td>\n",
       "      <td>NaN</td>\n",
       "    </tr>\n",
       "    <tr>\n",
       "      <th>12</th>\n",
       "      <td>Малышка на миллион /По мотивам рассказов Ф.Х.Т...</td>\n",
       "      <td>221011415</td>\n",
       "      <td>2015-04-03T12:00:00.000Z</td>\n",
       "      <td>Художественный</td>\n",
       "      <td>Уорнер Бразерс, Лейкшор Интертейнмент, Малпасо...</td>\n",
       "      <td>США</td>\n",
       "      <td>Клинт Иствуд</td>\n",
       "      <td>Клинт Иствуд, Том Розенберг, Альберт С.Рудди, ...</td>\n",
       "      <td>«16+» - для детей старше 16 лет</td>\n",
       "      <td>NaN</td>\n",
       "      <td>NaN</td>\n",
       "      <td>NaN</td>\n",
       "      <td>NaN</td>\n",
       "      <td>8.1</td>\n",
       "      <td>драма,спорт</td>\n",
       "      <td>NaN</td>\n",
       "    </tr>\n",
       "    <tr>\n",
       "      <th>26</th>\n",
       "      <td>Оружейный барон</td>\n",
       "      <td>221012515</td>\n",
       "      <td>2015-04-03T12:00:00.000Z</td>\n",
       "      <td>Художественный</td>\n",
       "      <td>Вэ И Пэ Медиенфондс 3, Асендант Пикчерз, Сатур...</td>\n",
       "      <td>США - Франция - Турция</td>\n",
       "      <td>Эндрю Никкол</td>\n",
       "      <td>Норман Голуайтли, Энди Грош, Николас Кейдж, Эн...</td>\n",
       "      <td>«18+» - запрещено для детей</td>\n",
       "      <td>NaN</td>\n",
       "      <td>NaN</td>\n",
       "      <td>NaN</td>\n",
       "      <td>NaN</td>\n",
       "      <td>7.7</td>\n",
       "      <td>боевик,драма,криминал</td>\n",
       "      <td>NaN</td>\n",
       "    </tr>\n",
       "    <tr>\n",
       "      <th>...</th>\n",
       "      <td>...</td>\n",
       "      <td>...</td>\n",
       "      <td>...</td>\n",
       "      <td>...</td>\n",
       "      <td>...</td>\n",
       "      <td>...</td>\n",
       "      <td>...</td>\n",
       "      <td>...</td>\n",
       "      <td>...</td>\n",
       "      <td>...</td>\n",
       "      <td>...</td>\n",
       "      <td>...</td>\n",
       "      <td>...</td>\n",
       "      <td>...</td>\n",
       "      <td>...</td>\n",
       "      <td>...</td>\n",
       "    </tr>\n",
       "    <tr>\n",
       "      <th>7299</th>\n",
       "      <td>Ночь живых мертвецов</td>\n",
       "      <td>121029119</td>\n",
       "      <td>2019-10-30T12:00:00.000Z</td>\n",
       "      <td>Художественный</td>\n",
       "      <td>Имейдж Тен, Лаурель Групп, Маркет Скьяр Продакшнз</td>\n",
       "      <td>США</td>\n",
       "      <td>Джордж А.Ромеро</td>\n",
       "      <td>Расселл Страйнер, Карл Хардмен</td>\n",
       "      <td>«18+» - запрещено для детей</td>\n",
       "      <td>NaN</td>\n",
       "      <td>NaN</td>\n",
       "      <td>NaN</td>\n",
       "      <td>NaN</td>\n",
       "      <td>7.3</td>\n",
       "      <td>ужасы,триллер</td>\n",
       "      <td>NaN</td>\n",
       "    </tr>\n",
       "    <tr>\n",
       "      <th>7311</th>\n",
       "      <td>Безумный Макс: Дорога ярости</td>\n",
       "      <td>121030019</td>\n",
       "      <td>2019-12-06T12:00:00.000Z</td>\n",
       "      <td>Художественный</td>\n",
       "      <td>Уорнер Бразерс Пикчерс</td>\n",
       "      <td>Австралия, США</td>\n",
       "      <td>Джордж Миллер</td>\n",
       "      <td>Джордж Миллер, Даг Митчелл, Брюс Берман</td>\n",
       "      <td>«18+» - запрещено для детей</td>\n",
       "      <td>NaN</td>\n",
       "      <td>NaN</td>\n",
       "      <td>NaN</td>\n",
       "      <td>NaN</td>\n",
       "      <td>7.8</td>\n",
       "      <td>боевик,фантастика,приключения</td>\n",
       "      <td>NaN</td>\n",
       "    </tr>\n",
       "    <tr>\n",
       "      <th>7367</th>\n",
       "      <td>Невиновен</td>\n",
       "      <td>111019319</td>\n",
       "      <td>2019-11-07T12:00:00.000Z</td>\n",
       "      <td>Художественный</td>\n",
       "      <td>ООО \"Кавказфильм\"</td>\n",
       "      <td>Россия</td>\n",
       "      <td>А.Емкужев</td>\n",
       "      <td>А.Емкужев, А.Хуажева, ООО \"Корпорация Русская ...</td>\n",
       "      <td>«16+» - для детей старше 16 лет</td>\n",
       "      <td>NaN</td>\n",
       "      <td>NaN</td>\n",
       "      <td>NaN</td>\n",
       "      <td>NaN</td>\n",
       "      <td>7.5</td>\n",
       "      <td>триллер,детектив,криминал</td>\n",
       "      <td>NaN</td>\n",
       "    </tr>\n",
       "    <tr>\n",
       "      <th>7414</th>\n",
       "      <td>Отель \"Гранд Будапешт\"</td>\n",
       "      <td>121035119</td>\n",
       "      <td>2019-12-13T12:00:00.000Z</td>\n",
       "      <td>Художественный</td>\n",
       "      <td>Американ Эмпирикал, Индиан Пэинтбраш, Скотт Ру...</td>\n",
       "      <td>Германия, США</td>\n",
       "      <td>Уэс Андерсен</td>\n",
       "      <td>Уэс Андерсон, Джереми Доусон, Стивен Рейлс</td>\n",
       "      <td>«16+» - для детей старше 16 лет</td>\n",
       "      <td>NaN</td>\n",
       "      <td>NaN</td>\n",
       "      <td>NaN</td>\n",
       "      <td>NaN</td>\n",
       "      <td>7.9</td>\n",
       "      <td>комедия,приключения,детектив</td>\n",
       "      <td>NaN</td>\n",
       "    </tr>\n",
       "    <tr>\n",
       "      <th>7448</th>\n",
       "      <td>В тихом омуте</td>\n",
       "      <td>121036919</td>\n",
       "      <td>2019-12-09T12:00:00.000Z</td>\n",
       "      <td>Художественный</td>\n",
       "      <td>Хэд Гир Филмз, Крео Филмз, Локал Хироу, Метрол...</td>\n",
       "      <td>США</td>\n",
       "      <td>Адам Рэндолл</td>\n",
       "      <td>Мэтт Уолдек</td>\n",
       "      <td>«18+» - запрещено для детей</td>\n",
       "      <td>NaN</td>\n",
       "      <td>NaN</td>\n",
       "      <td>NaN</td>\n",
       "      <td>NaN</td>\n",
       "      <td>6.8</td>\n",
       "      <td>триллер,криминал,детектив</td>\n",
       "      <td>NaN</td>\n",
       "    </tr>\n",
       "  </tbody>\n",
       "</table>\n",
       "<p>1042 rows × 16 columns</p>\n",
       "</div>"
      ],
      "text/plain": [
       "                                                  title  pu_number  \\\n",
       "2                                          Особо опасен  221038416   \n",
       "3                                          Особо опасен  221026916   \n",
       "4                                          Особо опасен  221030815   \n",
       "12    Малышка на миллион /По мотивам рассказов Ф.Х.Т...  221011415   \n",
       "26                                      Оружейный барон  221012515   \n",
       "...                                                 ...        ...   \n",
       "7299                               Ночь живых мертвецов  121029119   \n",
       "7311                       Безумный Макс: Дорога ярости  121030019   \n",
       "7367                                          Невиновен  111019319   \n",
       "7414                             Отель \"Гранд Будапешт\"  121035119   \n",
       "7448                                      В тихом омуте  121036919   \n",
       "\n",
       "               show_start_date            type  \\\n",
       "2     2016-10-10T12:00:00.000Z  Художественный   \n",
       "3     2016-06-10T12:00:00.000Z  Художественный   \n",
       "4     2015-07-29T12:00:00.000Z  Художественный   \n",
       "12    2015-04-03T12:00:00.000Z  Художественный   \n",
       "26    2015-04-03T12:00:00.000Z  Художественный   \n",
       "...                        ...             ...   \n",
       "7299  2019-10-30T12:00:00.000Z  Художественный   \n",
       "7311  2019-12-06T12:00:00.000Z  Художественный   \n",
       "7367  2019-11-07T12:00:00.000Z  Художественный   \n",
       "7414  2019-12-13T12:00:00.000Z  Художественный   \n",
       "7448  2019-12-09T12:00:00.000Z  Художественный   \n",
       "\n",
       "                                            film_studio  \\\n",
       "2     Юниверсал Пикчерз, Кикстарт Продакшнз, Марк Пл...   \n",
       "3     Юниверсал Пикчерз, Кикстарт Продакшнз, Марк Пл...   \n",
       "4     Юниверсал Пикчерз, Кикстарт Продакшнз, Марк Пл...   \n",
       "12    Уорнер Бразерс, Лейкшор Интертейнмент, Малпасо...   \n",
       "26    Вэ И Пэ Медиенфондс 3, Асендант Пикчерз, Сатур...   \n",
       "...                                                 ...   \n",
       "7299  Имейдж Тен, Лаурель Групп, Маркет Скьяр Продакшнз   \n",
       "7311                             Уорнер Бразерс Пикчерс   \n",
       "7367                                  ООО \"Кавказфильм\"   \n",
       "7414  Американ Эмпирикал, Индиан Пэинтбраш, Скотт Ру...   \n",
       "7448  Хэд Гир Филмз, Крео Филмз, Локал Хироу, Метрол...   \n",
       "\n",
       "          production_country           director  \\\n",
       "2                        США  Тимур Бекмамбетов   \n",
       "3                        США  Тимур Бекмамбетов   \n",
       "4                        США  Тимур Бекмамбетов   \n",
       "12                       США       Клинт Иствуд   \n",
       "26    США - Франция - Турция       Эндрю Никкол   \n",
       "...                      ...                ...   \n",
       "7299                     США    Джордж А.Ромеро   \n",
       "7311          Австралия, США      Джордж Миллер   \n",
       "7367                  Россия          А.Емкужев   \n",
       "7414           Германия, США       Уэс Андерсен   \n",
       "7448                     США       Адам Рэндолл   \n",
       "\n",
       "                                               producer  \\\n",
       "2     Джим Лемли, Джейсон Нетер, Марк Е.Платт, Яйн Смит   \n",
       "3     Джим Лемли, Джейсон Нетер, Марк Е.Платт, Яйн Смит   \n",
       "4     Джим Лемли, Джейсон Нетер, Марк Е.Платт, Яйн Смит   \n",
       "12    Клинт Иствуд, Том Розенберг, Альберт С.Рудди, ...   \n",
       "26    Норман Голуайтли, Энди Грош, Николас Кейдж, Эн...   \n",
       "...                                                 ...   \n",
       "7299                     Расселл Страйнер, Карл Хардмен   \n",
       "7311            Джордж Миллер, Даг Митчелл, Брюс Берман   \n",
       "7367  А.Емкужев, А.Хуажева, ООО \"Корпорация Русская ...   \n",
       "7414         Уэс Андерсон, Джереми Доусон, Стивен Рейлс   \n",
       "7448                                        Мэтт Уолдек   \n",
       "\n",
       "                      age_restriction  refundable_support  \\\n",
       "2         «18+» - запрещено для детей                 NaN   \n",
       "3         «18+» - запрещено для детей                 NaN   \n",
       "4         «18+» - запрещено для детей                 NaN   \n",
       "12    «16+» - для детей старше 16 лет                 NaN   \n",
       "26        «18+» - запрещено для детей                 NaN   \n",
       "...                               ...                 ...   \n",
       "7299      «18+» - запрещено для детей                 NaN   \n",
       "7311      «18+» - запрещено для детей                 NaN   \n",
       "7367  «16+» - для детей старше 16 лет                 NaN   \n",
       "7414  «16+» - для детей старше 16 лет                 NaN   \n",
       "7448      «18+» - запрещено для детей                 NaN   \n",
       "\n",
       "      nonrefundable_support  budget financing_source ratings  \\\n",
       "2                       NaN     NaN              NaN     6.8   \n",
       "3                       NaN     NaN              NaN     6.8   \n",
       "4                       NaN     NaN              NaN     6.8   \n",
       "12                      NaN     NaN              NaN     8.1   \n",
       "26                      NaN     NaN              NaN     7.7   \n",
       "...                     ...     ...              ...     ...   \n",
       "7299                    NaN     NaN              NaN     7.3   \n",
       "7311                    NaN     NaN              NaN     7.8   \n",
       "7367                    NaN     NaN              NaN     7.5   \n",
       "7414                    NaN     NaN              NaN     7.9   \n",
       "7448                    NaN     NaN              NaN     6.8   \n",
       "\n",
       "                             genres  box_office  \n",
       "2         фантастика,боевик,триллер         NaN  \n",
       "3         фантастика,боевик,триллер         NaN  \n",
       "4         фантастика,боевик,триллер         NaN  \n",
       "12                      драма,спорт         NaN  \n",
       "26            боевик,драма,криминал         NaN  \n",
       "...                             ...         ...  \n",
       "7299                  ужасы,триллер         NaN  \n",
       "7311  боевик,фантастика,приключения         NaN  \n",
       "7367      триллер,детектив,криминал         NaN  \n",
       "7414   комедия,приключения,детектив         NaN  \n",
       "7448      триллер,криминал,детектив         NaN  \n",
       "\n",
       "[1042 rows x 16 columns]"
      ]
     },
     "execution_count": 9,
     "metadata": {},
     "output_type": "execute_result"
    }
   ],
   "source": [
    "data_union[(data_union['title'].duplicated(keep=False)) & (data_union['box_office'].isna()) & (data_union['budget'].isna())]"
   ]
  },
  {
   "cell_type": "code",
   "execution_count": 10,
   "id": "8fd5746a-f35b-475c-9c0c-cbfadbaa91f8",
   "metadata": {},
   "outputs": [],
   "source": [
    "ind = data_union[(data_union['title'].duplicated()) & (data_union['box_office'].isna()) & (data_union['budget'].isna())].index"
   ]
  },
  {
   "cell_type": "code",
   "execution_count": 11,
   "id": "1c00347d-1842-4c6d-8917-24583e63775e",
   "metadata": {
    "scrolled": true
   },
   "outputs": [
    {
     "name": "stdout",
     "output_type": "stream",
     "text": [
      "<class 'pandas.core.frame.DataFrame'>\n",
      "Index: 6913 entries, 0 to 7483\n",
      "Data columns (total 16 columns):\n",
      " #   Column                 Non-Null Count  Dtype  \n",
      "---  ------                 --------------  -----  \n",
      " 0   title                  6913 non-null   object \n",
      " 1   pu_number              6913 non-null   object \n",
      " 2   show_start_date        6913 non-null   object \n",
      " 3   type                   6913 non-null   object \n",
      " 4   film_studio            6896 non-null   object \n",
      " 5   production_country     6911 non-null   object \n",
      " 6   director               6904 non-null   object \n",
      " 7   producer               6354 non-null   object \n",
      " 8   age_restriction        6913 non-null   object \n",
      " 9   refundable_support     332 non-null    float64\n",
      " 10  nonrefundable_support  332 non-null    float64\n",
      " 11  budget                 332 non-null    float64\n",
      " 12  financing_source       332 non-null    object \n",
      " 13  ratings                5955 non-null   object \n",
      " 14  genres                 5946 non-null   object \n",
      " 15  box_office             3158 non-null   float64\n",
      "dtypes: float64(4), object(12)\n",
      "memory usage: 918.1+ KB\n"
     ]
    }
   ],
   "source": [
    "data_union = data_union.drop(ind)\n",
    "data_union.info()"
   ]
  },
  {
   "cell_type": "markdown",
   "id": "08ca0c93-ab0a-4ae6-b5f7-e6fd801f15b8",
   "metadata": {},
   "source": [
    "Выборка уменьшилась на 500 строк или 7%"
   ]
  },
  {
   "cell_type": "markdown",
   "id": "41f4e38a",
   "metadata": {},
   "source": [
    "<div style>\n",
    "<font size=\"4\"><b></b></font>\n",
    "<font size=\"5\", color = \"black\">\n",
    "🤝"
   ]
  },
  {
   "cell_type": "markdown",
   "id": "edb49cb0-00d7-4a90-9536-cf8b0fe864f1",
   "metadata": {},
   "source": [
    "### Переводим в тысячи"
   ]
  },
  {
   "cell_type": "code",
   "execution_count": 12,
   "id": "87802e2a-fbc3-4760-903f-c6d103367ddc",
   "metadata": {},
   "outputs": [],
   "source": [
    "#переводим руб. в тыс.руб. - проще анализировать\n",
    "array = ['refundable_support','nonrefundable_support','budget','box_office']\n",
    "for i in array:\n",
    "    try:\n",
    "        data_union[[i]] = data_union[[i]] / 1000\n",
    "        data_union[[i]] = data_union[[i]].round(decimals=0)\n",
    "        data_union[[i]] = data_union[[i]].astype('int')\n",
    "    except:\n",
    "        pass"
   ]
  },
  {
   "cell_type": "markdown",
   "id": "d83589f2-5216-4390-9a2e-a2644d290644",
   "metadata": {},
   "source": [
    "### Меняем тип данных даты проката"
   ]
  },
  {
   "cell_type": "code",
   "execution_count": 13,
   "id": "3df68fda-b8a6-4ada-95b8-dafb292f8189",
   "metadata": {
    "scrolled": true
   },
   "outputs": [],
   "source": [
    "#переводим текст в дату\n",
    "data_union['show_start_date']= data_union['show_start_date'].str[:10]\n",
    "data_union['show_start_date'] = pd.to_datetime(data_union['show_start_date'])"
   ]
  },
  {
   "cell_type": "markdown",
   "id": "5326b529-2a5d-4189-aafc-1cdd54a02b96",
   "metadata": {},
   "source": [
    "### Обрабатываем рейтинги"
   ]
  },
  {
   "cell_type": "code",
   "execution_count": 14,
   "id": "68cb69d4-f46f-4166-9db2-9f250b9f5e2f",
   "metadata": {},
   "outputs": [
    {
     "data": {
      "text/plain": [
       "array(['7.2', '6.6', '6.8', '7.7', '8.3', '8.0', '7.8', '8.1', '7.1',\n",
       "       '6.0', '7.4', '5.8', '8.7', '6.3', '6.9', '5.0', '4.3', '7.3',\n",
       "       '7.0', '6.4', nan, '8.2', '7.5', '6.7', '7.9', '5.9', '6.2', '5.6',\n",
       "       '6.5', '2.4', '7.6', '6.1', '8.6', '8.5', '8.8', '5.5', '5.1',\n",
       "       '5.7', '5.4', '99%', '4.4', '4.5', '5.3', '4.1', '8.4', '2.6',\n",
       "       '3.8', '4.6', '4.8', '4.0', '3.0', '1.6', '4.2', '5.2', '4.7',\n",
       "       '4.9', '3.9', '2.7', '3.3', '2.9', '28%', '3.7', '1.4', '3.1',\n",
       "       '97%', '3.5', '3.2', '2.8', '1.5', '2.1', '2.5', '9.2', '3.4',\n",
       "       '1.1', '3.6', '83%', '64%', '91%', '94%', '62%', '79%', '90%',\n",
       "       '19%', '88%', '1.0', '89%', '1.3', '1.9', '1.8', '1.2', '1.7',\n",
       "       '9.0', '98%', '8.9', '9.1'], dtype=object)"
      ]
     },
     "execution_count": 14,
     "metadata": {},
     "output_type": "execute_result"
    }
   ],
   "source": [
    "data_union['ratings'].unique()"
   ]
  },
  {
   "cell_type": "code",
   "execution_count": 15,
   "id": "4244f3f2-b01b-42f5-92fe-ea9d0a0aee7f",
   "metadata": {},
   "outputs": [],
   "source": [
    "data_union = data_union.reset_index(drop=True) #на всякий случай сбрасываем индексы\n",
    "\n",
    "#циклом ищем проценты и помечаем к удалению\n",
    "count = 0\n",
    "r = 0\n",
    "for i in data_union['ratings']:  \n",
    "    try:\n",
    "        if '%' in i:\n",
    "            data_union.loc[count,'ratings'] = 'delete'\n",
    "    except:\n",
    "        pass\n",
    "    count+=1\n",
    "\n",
    "#data_union['ratings'] = data_union['ratings'].fillna('0') #null меняем на 0\n"
   ]
  },
  {
   "cell_type": "code",
   "execution_count": 16,
   "id": "9ffbea9f",
   "metadata": {},
   "outputs": [],
   "source": [
    "data_union = data_union.drop(data_union.query('ratings == \"delete\"').index)"
   ]
  },
  {
   "cell_type": "code",
   "execution_count": 17,
   "id": "4b02659d",
   "metadata": {},
   "outputs": [],
   "source": [
    "data_union['ratings'] = data_union['ratings'].astype(float).round(decimals=2) #переводим тип в числа"
   ]
  },
  {
   "cell_type": "code",
   "execution_count": 18,
   "id": "4a5fb1d5-73f8-40ea-98fd-1d863d6b1bc4",
   "metadata": {
    "scrolled": true
   },
   "outputs": [
    {
     "data": {
      "text/plain": [
       "array(['«18+» - запрещено для детей', '«6+» - для детей старше 6 лет',\n",
       "       '«12+» - для детей старше 12 лет',\n",
       "       '«16+» - для детей старше 16 лет',\n",
       "       '«0+» - для любой зрительской аудитории'], dtype=object)"
      ]
     },
     "execution_count": 18,
     "metadata": {},
     "output_type": "execute_result"
    }
   ],
   "source": [
    "data_union['age_restriction'].unique()"
   ]
  },
  {
   "cell_type": "code",
   "execution_count": 19,
   "id": "1cdb1123-abfa-4861-8f61-a91baca15ad5",
   "metadata": {},
   "outputs": [],
   "source": [
    "data_union = data_union.replace('«16+» - для детей старше 16 лет', '«16+»')\n",
    "data_union = data_union.replace('«18+» - запрещено для детей', '«18+»')\n",
    "data_union = data_union.replace('«0+» - для любой зрительской аудитории', '«0+»')\n",
    "data_union = data_union.replace('«6+» - для детей старше 6 лет', '«6+»')\n",
    "data_union = data_union.replace('«12+» - для детей старше 12 лет', '«12+»')"
   ]
  },
  {
   "cell_type": "markdown",
   "id": "b4d407a1-9070-4579-9537-82dd78ed726c",
   "metadata": {},
   "source": [
    "### Исследуем колонки 'film_studio', 'production_country', 'director', 'producer',  'genres'"
   ]
  },
  {
   "cell_type": "markdown",
   "id": "6684a7d3-f07f-4441-9ae2-48e7bd8f1837",
   "metadata": {},
   "source": [
    "#### film_studio"
   ]
  },
  {
   "cell_type": "code",
   "execution_count": 20,
   "id": "91de51d4-ed8c-4791-8260-ac8d4fce3f92",
   "metadata": {},
   "outputs": [
    {
     "data": {
      "text/html": [
       "<div>\n",
       "<style scoped>\n",
       "    .dataframe tbody tr th:only-of-type {\n",
       "        vertical-align: middle;\n",
       "    }\n",
       "\n",
       "    .dataframe tbody tr th {\n",
       "        vertical-align: top;\n",
       "    }\n",
       "\n",
       "    .dataframe thead th {\n",
       "        text-align: right;\n",
       "    }\n",
       "</style>\n",
       "<table border=\"1\" class=\"dataframe\">\n",
       "  <thead>\n",
       "    <tr style=\"text-align: right;\">\n",
       "      <th></th>\n",
       "      <th>title</th>\n",
       "      <th>pu_number</th>\n",
       "      <th>show_start_date</th>\n",
       "      <th>type</th>\n",
       "      <th>film_studio</th>\n",
       "      <th>production_country</th>\n",
       "      <th>director</th>\n",
       "      <th>producer</th>\n",
       "      <th>age_restriction</th>\n",
       "      <th>refundable_support</th>\n",
       "      <th>nonrefundable_support</th>\n",
       "      <th>budget</th>\n",
       "      <th>financing_source</th>\n",
       "      <th>ratings</th>\n",
       "      <th>genres</th>\n",
       "      <th>box_office</th>\n",
       "    </tr>\n",
       "  </thead>\n",
       "  <tbody>\n",
       "    <tr>\n",
       "      <th>1197</th>\n",
       "      <td>Stars in Shorts</td>\n",
       "      <td>121011114</td>\n",
       "      <td>2014-06-03</td>\n",
       "      <td>Художественный</td>\n",
       "      <td>NaN</td>\n",
       "      <td>США, Великобритания</td>\n",
       "      <td>Роберт Фестингер, Руперт Френд, Джей Камен, Ни...</td>\n",
       "      <td>Татьяна Келли, Роберта Мунро, Руперт Френд, До...</td>\n",
       "      <td>«16+»</td>\n",
       "      <td>NaN</td>\n",
       "      <td>NaN</td>\n",
       "      <td>NaN</td>\n",
       "      <td>NaN</td>\n",
       "      <td>7.3</td>\n",
       "      <td>комедия</td>\n",
       "      <td>NaN</td>\n",
       "    </tr>\n",
       "    <tr>\n",
       "      <th>4165</th>\n",
       "      <td>Мульт личности. Выпуск 5</td>\n",
       "      <td>214000410</td>\n",
       "      <td>2010-01-25</td>\n",
       "      <td>Художественный</td>\n",
       "      <td>NaN</td>\n",
       "      <td>NaN</td>\n",
       "      <td>NaN</td>\n",
       "      <td>NaN</td>\n",
       "      <td>«0+»</td>\n",
       "      <td>NaN</td>\n",
       "      <td>NaN</td>\n",
       "      <td>NaN</td>\n",
       "      <td>NaN</td>\n",
       "      <td>4.0</td>\n",
       "      <td>мультфильм,комедия</td>\n",
       "      <td>NaN</td>\n",
       "    </tr>\n",
       "    <tr>\n",
       "      <th>5571</th>\n",
       "      <td>Значит любит</td>\n",
       "      <td>111013818</td>\n",
       "      <td>2018-08-10</td>\n",
       "      <td>Художественный</td>\n",
       "      <td>NaN</td>\n",
       "      <td>Россия</td>\n",
       "      <td>А.Краевский</td>\n",
       "      <td>Е.Щербакова</td>\n",
       "      <td>«18+»</td>\n",
       "      <td>NaN</td>\n",
       "      <td>NaN</td>\n",
       "      <td>NaN</td>\n",
       "      <td>NaN</td>\n",
       "      <td>NaN</td>\n",
       "      <td>NaN</td>\n",
       "      <td>NaN</td>\n",
       "    </tr>\n",
       "    <tr>\n",
       "      <th>5647</th>\n",
       "      <td>Несейка. Младшая дочь</td>\n",
       "      <td>112007018</td>\n",
       "      <td>2018-09-01</td>\n",
       "      <td>Документальный</td>\n",
       "      <td>NaN</td>\n",
       "      <td>Россия</td>\n",
       "      <td>В.Марин</td>\n",
       "      <td>Д.Якунин, Ф.Абрютин, О.Филонова</td>\n",
       "      <td>«6+»</td>\n",
       "      <td>NaN</td>\n",
       "      <td>NaN</td>\n",
       "      <td>NaN</td>\n",
       "      <td>NaN</td>\n",
       "      <td>NaN</td>\n",
       "      <td>NaN</td>\n",
       "      <td>NaN</td>\n",
       "    </tr>\n",
       "    <tr>\n",
       "      <th>5839</th>\n",
       "      <td>Ян Антонышев</td>\n",
       "      <td>112011818</td>\n",
       "      <td>2018-11-15</td>\n",
       "      <td>Документальный</td>\n",
       "      <td>NaN</td>\n",
       "      <td>Россия</td>\n",
       "      <td>Е.Окопная</td>\n",
       "      <td>Е.Герасимов</td>\n",
       "      <td>«12+»</td>\n",
       "      <td>NaN</td>\n",
       "      <td>NaN</td>\n",
       "      <td>NaN</td>\n",
       "      <td>NaN</td>\n",
       "      <td>NaN</td>\n",
       "      <td>NaN</td>\n",
       "      <td>NaN</td>\n",
       "    </tr>\n",
       "    <tr>\n",
       "      <th>5858</th>\n",
       "      <td>Доживем до каникул?..</td>\n",
       "      <td>111021918</td>\n",
       "      <td>2018-11-15</td>\n",
       "      <td>Художественный</td>\n",
       "      <td>NaN</td>\n",
       "      <td>Россия</td>\n",
       "      <td>Я.Хальпукова (псевдоним Яна Мартынец)</td>\n",
       "      <td>Я.Хальпукова (псевдоним Яна Мартынец)</td>\n",
       "      <td>«12+»</td>\n",
       "      <td>NaN</td>\n",
       "      <td>NaN</td>\n",
       "      <td>NaN</td>\n",
       "      <td>NaN</td>\n",
       "      <td>NaN</td>\n",
       "      <td>NaN</td>\n",
       "      <td>41.0</td>\n",
       "    </tr>\n",
       "    <tr>\n",
       "      <th>5943</th>\n",
       "      <td>До и После</td>\n",
       "      <td>112014418</td>\n",
       "      <td>2018-12-05</td>\n",
       "      <td>Документальный</td>\n",
       "      <td>NaN</td>\n",
       "      <td>Россия</td>\n",
       "      <td>А.Новокреповская</td>\n",
       "      <td>А.Новокреповская</td>\n",
       "      <td>«6+»</td>\n",
       "      <td>NaN</td>\n",
       "      <td>NaN</td>\n",
       "      <td>NaN</td>\n",
       "      <td>NaN</td>\n",
       "      <td>6.9</td>\n",
       "      <td>драма,криминал,детектив</td>\n",
       "      <td>NaN</td>\n",
       "    </tr>\n",
       "    <tr>\n",
       "      <th>5952</th>\n",
       "      <td>Калмыцкий геше Нгаванг Вангьял</td>\n",
       "      <td>113002018</td>\n",
       "      <td>2018-12-05</td>\n",
       "      <td>Научно-популярный</td>\n",
       "      <td>NaN</td>\n",
       "      <td>Россия</td>\n",
       "      <td>И.Долгина</td>\n",
       "      <td>И.Долгина</td>\n",
       "      <td>«12+»</td>\n",
       "      <td>NaN</td>\n",
       "      <td>NaN</td>\n",
       "      <td>NaN</td>\n",
       "      <td>NaN</td>\n",
       "      <td>NaN</td>\n",
       "      <td>NaN</td>\n",
       "      <td>NaN</td>\n",
       "    </tr>\n",
       "    <tr>\n",
       "      <th>5955</th>\n",
       "      <td>Мой папа Чингисхан</td>\n",
       "      <td>112014918</td>\n",
       "      <td>2018-12-06</td>\n",
       "      <td>Документальный</td>\n",
       "      <td>NaN</td>\n",
       "      <td>Россия</td>\n",
       "      <td>А.Сайфуллина</td>\n",
       "      <td>А.Сайфуллина</td>\n",
       "      <td>«12+»</td>\n",
       "      <td>NaN</td>\n",
       "      <td>NaN</td>\n",
       "      <td>NaN</td>\n",
       "      <td>NaN</td>\n",
       "      <td>NaN</td>\n",
       "      <td>NaN</td>\n",
       "      <td>NaN</td>\n",
       "    </tr>\n",
       "    <tr>\n",
       "      <th>5956</th>\n",
       "      <td>В плену города грёз</td>\n",
       "      <td>112014818</td>\n",
       "      <td>2018-12-06</td>\n",
       "      <td>Документальный</td>\n",
       "      <td>NaN</td>\n",
       "      <td>Россия</td>\n",
       "      <td>В.Витовцев</td>\n",
       "      <td>О.Мичи</td>\n",
       "      <td>«18+»</td>\n",
       "      <td>NaN</td>\n",
       "      <td>NaN</td>\n",
       "      <td>NaN</td>\n",
       "      <td>NaN</td>\n",
       "      <td>7.9</td>\n",
       "      <td>фантастика,боевик,триллер</td>\n",
       "      <td>NaN</td>\n",
       "    </tr>\n",
       "    <tr>\n",
       "      <th>5957</th>\n",
       "      <td>Последнее фото</td>\n",
       "      <td>112014518</td>\n",
       "      <td>2018-12-06</td>\n",
       "      <td>Документальный</td>\n",
       "      <td>NaN</td>\n",
       "      <td>Россия</td>\n",
       "      <td>Е.Севастьянов</td>\n",
       "      <td>Е.Севастьянов</td>\n",
       "      <td>«18+»</td>\n",
       "      <td>NaN</td>\n",
       "      <td>NaN</td>\n",
       "      <td>NaN</td>\n",
       "      <td>NaN</td>\n",
       "      <td>NaN</td>\n",
       "      <td>NaN</td>\n",
       "      <td>NaN</td>\n",
       "    </tr>\n",
       "    <tr>\n",
       "      <th>5965</th>\n",
       "      <td>Мой селфхарм</td>\n",
       "      <td>113001918</td>\n",
       "      <td>2018-12-06</td>\n",
       "      <td>Научно-популярный</td>\n",
       "      <td>NaN</td>\n",
       "      <td>Россия</td>\n",
       "      <td>Я.Лаптев (псевдоним Яков Раскалов)</td>\n",
       "      <td>Я.Лаптев (псевдоним Яков Раскалов)</td>\n",
       "      <td>«18+»</td>\n",
       "      <td>NaN</td>\n",
       "      <td>NaN</td>\n",
       "      <td>NaN</td>\n",
       "      <td>NaN</td>\n",
       "      <td>NaN</td>\n",
       "      <td>NaN</td>\n",
       "      <td>NaN</td>\n",
       "    </tr>\n",
       "    <tr>\n",
       "      <th>5969</th>\n",
       "      <td>Обстоятельства места и времени</td>\n",
       "      <td>112015018</td>\n",
       "      <td>2018-12-12</td>\n",
       "      <td>Документальный</td>\n",
       "      <td>NaN</td>\n",
       "      <td>Россия</td>\n",
       "      <td>Д.Кабаков</td>\n",
       "      <td>Д.Кабаков</td>\n",
       "      <td>«12+»</td>\n",
       "      <td>NaN</td>\n",
       "      <td>NaN</td>\n",
       "      <td>NaN</td>\n",
       "      <td>NaN</td>\n",
       "      <td>NaN</td>\n",
       "      <td>NaN</td>\n",
       "      <td>NaN</td>\n",
       "    </tr>\n",
       "    <tr>\n",
       "      <th>6095</th>\n",
       "      <td>Эрик Булатов. Моя Третьяковка, серии 1-2</td>\n",
       "      <td>113000319</td>\n",
       "      <td>2019-01-28</td>\n",
       "      <td>Научно-популярный</td>\n",
       "      <td>NaN</td>\n",
       "      <td>Россия</td>\n",
       "      <td>С.Гарькавый</td>\n",
       "      <td>Т.Пинская</td>\n",
       "      <td>«6+»</td>\n",
       "      <td>NaN</td>\n",
       "      <td>NaN</td>\n",
       "      <td>NaN</td>\n",
       "      <td>NaN</td>\n",
       "      <td>NaN</td>\n",
       "      <td>NaN</td>\n",
       "      <td>NaN</td>\n",
       "    </tr>\n",
       "    <tr>\n",
       "      <th>6096</th>\n",
       "      <td>Брови</td>\n",
       "      <td>111000719</td>\n",
       "      <td>2019-03-01</td>\n",
       "      <td>Художественный</td>\n",
       "      <td>NaN</td>\n",
       "      <td>Россия</td>\n",
       "      <td>О.Штром</td>\n",
       "      <td>В.Максимов, В.Степанов, Г.Киракосян, О.Штром</td>\n",
       "      <td>«16+»</td>\n",
       "      <td>NaN</td>\n",
       "      <td>NaN</td>\n",
       "      <td>NaN</td>\n",
       "      <td>NaN</td>\n",
       "      <td>NaN</td>\n",
       "      <td>NaN</td>\n",
       "      <td>NaN</td>\n",
       "    </tr>\n",
       "    <tr>\n",
       "      <th>6119</th>\n",
       "      <td>Топливо</td>\n",
       "      <td>111001419</td>\n",
       "      <td>2019-02-12</td>\n",
       "      <td>Художественный</td>\n",
       "      <td>NaN</td>\n",
       "      <td>Россия</td>\n",
       "      <td>М.Архипов</td>\n",
       "      <td>М.Архипов</td>\n",
       "      <td>«12+»</td>\n",
       "      <td>NaN</td>\n",
       "      <td>NaN</td>\n",
       "      <td>NaN</td>\n",
       "      <td>NaN</td>\n",
       "      <td>6.1</td>\n",
       "      <td>короткометражка,фантастика</td>\n",
       "      <td>NaN</td>\n",
       "    </tr>\n",
       "    <tr>\n",
       "      <th>6177</th>\n",
       "      <td>Путешествие в Париж</td>\n",
       "      <td>111002919</td>\n",
       "      <td>2019-03-01</td>\n",
       "      <td>Художественный</td>\n",
       "      <td>NaN</td>\n",
       "      <td>Россия</td>\n",
       "      <td>М.Олейник (псевдоним - Мария Полякова)</td>\n",
       "      <td>Н.Савко</td>\n",
       "      <td>«16+»</td>\n",
       "      <td>NaN</td>\n",
       "      <td>NaN</td>\n",
       "      <td>NaN</td>\n",
       "      <td>NaN</td>\n",
       "      <td>NaN</td>\n",
       "      <td>NaN</td>\n",
       "      <td>NaN</td>\n",
       "    </tr>\n",
       "  </tbody>\n",
       "</table>\n",
       "</div>"
      ],
      "text/plain": [
       "                                         title  pu_number show_start_date  \\\n",
       "1197                           Stars in Shorts  121011114      2014-06-03   \n",
       "4165                  Мульт личности. Выпуск 5  214000410      2010-01-25   \n",
       "5571                              Значит любит  111013818      2018-08-10   \n",
       "5647                     Несейка. Младшая дочь  112007018      2018-09-01   \n",
       "5839                              Ян Антонышев  112011818      2018-11-15   \n",
       "5858                     Доживем до каникул?..  111021918      2018-11-15   \n",
       "5943                                До и После  112014418      2018-12-05   \n",
       "5952            Калмыцкий геше Нгаванг Вангьял  113002018      2018-12-05   \n",
       "5955                        Мой папа Чингисхан  112014918      2018-12-06   \n",
       "5956                       В плену города грёз  112014818      2018-12-06   \n",
       "5957                            Последнее фото  112014518      2018-12-06   \n",
       "5965                              Мой селфхарм  113001918      2018-12-06   \n",
       "5969            Обстоятельства места и времени  112015018      2018-12-12   \n",
       "6095  Эрик Булатов. Моя Третьяковка, серии 1-2  113000319      2019-01-28   \n",
       "6096                                     Брови  111000719      2019-03-01   \n",
       "6119                                   Топливо  111001419      2019-02-12   \n",
       "6177                       Путешествие в Париж  111002919      2019-03-01   \n",
       "\n",
       "                   type film_studio   production_country  \\\n",
       "1197     Художественный         NaN  США, Великобритания   \n",
       "4165     Художественный         NaN                  NaN   \n",
       "5571     Художественный         NaN               Россия   \n",
       "5647     Документальный         NaN               Россия   \n",
       "5839     Документальный         NaN               Россия   \n",
       "5858     Художественный         NaN               Россия   \n",
       "5943     Документальный         NaN               Россия   \n",
       "5952  Научно-популярный         NaN               Россия   \n",
       "5955     Документальный         NaN               Россия   \n",
       "5956     Документальный         NaN               Россия   \n",
       "5957     Документальный         NaN               Россия   \n",
       "5965  Научно-популярный         NaN               Россия   \n",
       "5969     Документальный         NaN               Россия   \n",
       "6095  Научно-популярный         NaN               Россия   \n",
       "6096     Художественный         NaN               Россия   \n",
       "6119     Художественный         NaN               Россия   \n",
       "6177     Художественный         NaN               Россия   \n",
       "\n",
       "                                               director  \\\n",
       "1197  Роберт Фестингер, Руперт Френд, Джей Камен, Ни...   \n",
       "4165                                                NaN   \n",
       "5571                                        А.Краевский   \n",
       "5647                                            В.Марин   \n",
       "5839                                          Е.Окопная   \n",
       "5858              Я.Хальпукова (псевдоним Яна Мартынец)   \n",
       "5943                                   А.Новокреповская   \n",
       "5952                                          И.Долгина   \n",
       "5955                                       А.Сайфуллина   \n",
       "5956                                         В.Витовцев   \n",
       "5957                                      Е.Севастьянов   \n",
       "5965                 Я.Лаптев (псевдоним Яков Раскалов)   \n",
       "5969                                          Д.Кабаков   \n",
       "6095                                        С.Гарькавый   \n",
       "6096                                            О.Штром   \n",
       "6119                                          М.Архипов   \n",
       "6177             М.Олейник (псевдоним - Мария Полякова)   \n",
       "\n",
       "                                               producer age_restriction  \\\n",
       "1197  Татьяна Келли, Роберта Мунро, Руперт Френд, До...           «16+»   \n",
       "4165                                                NaN            «0+»   \n",
       "5571                                        Е.Щербакова           «18+»   \n",
       "5647                    Д.Якунин, Ф.Абрютин, О.Филонова            «6+»   \n",
       "5839                                        Е.Герасимов           «12+»   \n",
       "5858              Я.Хальпукова (псевдоним Яна Мартынец)           «12+»   \n",
       "5943                                   А.Новокреповская            «6+»   \n",
       "5952                                          И.Долгина           «12+»   \n",
       "5955                                       А.Сайфуллина           «12+»   \n",
       "5956                                             О.Мичи           «18+»   \n",
       "5957                                      Е.Севастьянов           «18+»   \n",
       "5965                 Я.Лаптев (псевдоним Яков Раскалов)           «18+»   \n",
       "5969                                          Д.Кабаков           «12+»   \n",
       "6095                                          Т.Пинская            «6+»   \n",
       "6096       В.Максимов, В.Степанов, Г.Киракосян, О.Штром           «16+»   \n",
       "6119                                          М.Архипов           «12+»   \n",
       "6177                                            Н.Савко           «16+»   \n",
       "\n",
       "      refundable_support  nonrefundable_support  budget financing_source  \\\n",
       "1197                 NaN                    NaN     NaN              NaN   \n",
       "4165                 NaN                    NaN     NaN              NaN   \n",
       "5571                 NaN                    NaN     NaN              NaN   \n",
       "5647                 NaN                    NaN     NaN              NaN   \n",
       "5839                 NaN                    NaN     NaN              NaN   \n",
       "5858                 NaN                    NaN     NaN              NaN   \n",
       "5943                 NaN                    NaN     NaN              NaN   \n",
       "5952                 NaN                    NaN     NaN              NaN   \n",
       "5955                 NaN                    NaN     NaN              NaN   \n",
       "5956                 NaN                    NaN     NaN              NaN   \n",
       "5957                 NaN                    NaN     NaN              NaN   \n",
       "5965                 NaN                    NaN     NaN              NaN   \n",
       "5969                 NaN                    NaN     NaN              NaN   \n",
       "6095                 NaN                    NaN     NaN              NaN   \n",
       "6096                 NaN                    NaN     NaN              NaN   \n",
       "6119                 NaN                    NaN     NaN              NaN   \n",
       "6177                 NaN                    NaN     NaN              NaN   \n",
       "\n",
       "      ratings                      genres  box_office  \n",
       "1197      7.3                     комедия         NaN  \n",
       "4165      4.0          мультфильм,комедия         NaN  \n",
       "5571      NaN                         NaN         NaN  \n",
       "5647      NaN                         NaN         NaN  \n",
       "5839      NaN                         NaN         NaN  \n",
       "5858      NaN                         NaN        41.0  \n",
       "5943      6.9     драма,криминал,детектив         NaN  \n",
       "5952      NaN                         NaN         NaN  \n",
       "5955      NaN                         NaN         NaN  \n",
       "5956      7.9   фантастика,боевик,триллер         NaN  \n",
       "5957      NaN                         NaN         NaN  \n",
       "5965      NaN                         NaN         NaN  \n",
       "5969      NaN                         NaN         NaN  \n",
       "6095      NaN                         NaN         NaN  \n",
       "6096      NaN                         NaN         NaN  \n",
       "6119      6.1  короткометражка,фантастика         NaN  \n",
       "6177      NaN                         NaN         NaN  "
      ]
     },
     "execution_count": 20,
     "metadata": {},
     "output_type": "execute_result"
    }
   ],
   "source": [
    "data_union.query('film_studio.isna()')"
   ]
  },
  {
   "cell_type": "markdown",
   "id": "e0c974ef-ce06-4735-a6b6-826b596319bf",
   "metadata": {},
   "source": [
    "Не представляется возможным сделать однозначный вывод с чем связаны пропуски. Заполняем пропуски значением \"прочее\""
   ]
  },
  {
   "cell_type": "code",
   "execution_count": 21,
   "id": "fe9939f7-4cee-4616-8bac-ccd946254961",
   "metadata": {},
   "outputs": [
    {
     "data": {
      "text/plain": [
       "0"
      ]
     },
     "execution_count": 21,
     "metadata": {},
     "output_type": "execute_result"
    }
   ],
   "source": [
    "data_union.loc[data_union['film_studio'].isna(), 'film_studio'] = 'прочее'\n",
    "data_union['film_studio'].isna().sum()"
   ]
  },
  {
   "cell_type": "markdown",
   "id": "d1789b0f-8c74-420a-97e4-d8ff75851edb",
   "metadata": {},
   "source": [
    "#### production_country"
   ]
  },
  {
   "cell_type": "code",
   "execution_count": 22,
   "id": "5b261adc-4541-40e7-8e46-a4be2b387548",
   "metadata": {},
   "outputs": [
    {
     "data": {
      "text/plain": [
       "array(['США', 'СССР', 'Франция', 'СССР, Венгрия',\n",
       "       'Германия-Великобритания', 'Великобритания - Италия',\n",
       "       'Чехословакия', 'США - Франция - Турция', 'Новая Зеландия',\n",
       "       'Канада - Франция - Испания', 'США-Германия',\n",
       "       'США - Великобритания', 'Великобритания', 'США - Германия',\n",
       "       'Франция - Мексика - США', 'Россия, Казахстан, США',\n",
       "       'СССР, Швеция', 'СССР, Франция, Англия, Куба, ГДР', 'Германия',\n",
       "       'Великобритания-США-Германия-КНР',\n",
       "       'СССР, ЧССР, Западный Берлин, ПНР', 'СССР, Италия', 'Гонконг, КНР',\n",
       "       'США - Франция', 'США - Япония - Франция - Великобритания',\n",
       "       'Гонконг - Сингапур - Таиланд - Великобритания', 'США-Канада',\n",
       "       'Франция - Италия - Великобритания - США', 'Франция - США',\n",
       "       'Ирландия-Великобритания-Германия', 'Чехия', 'США-Австралия',\n",
       "       'СССР, Финляндия', 'США-Франция-Великобритания-Австрия',\n",
       "       'США - Бельгия', 'США - Ирландия - Великобритания',\n",
       "       'Великобритания - США',\n",
       "       'Люксембург - Нидерланды - Испания - Великобритания - США - Италия',\n",
       "       'Великобритания - Франция - США', 'Новая Зеландия - США',\n",
       "       'США - Великобритания - Чехия',\n",
       "       'Канада - Франция - Великобритания', 'Ирландия',\n",
       "       'Великобритания - Германия - США',\n",
       "       'США - Франция - Великобритания', 'Япония', 'СССР, Польша',\n",
       "       'Франция - Испания', 'Канада-Франция', 'Германия - Италия - США',\n",
       "       'Дания - Швейцария - Бельгия - Франция', 'США - Испания',\n",
       "       'Германия - США', 'Франция - Австрия - Германия - Италия - США',\n",
       "       'Австрия', 'США - Канада - Германия', 'США - Канада',\n",
       "       'СССР - Швейцария - Франция', 'Россия - Казахстан', 'Гонконг',\n",
       "       'Италия', 'США - ОАЭ', 'Россия',\n",
       "       'США - Франция - Испания - Великобритания',\n",
       "       'Великобритания - Франция', 'США-Италия-Испания-Аргентина',\n",
       "       'Франция-Великобритания', 'КНР - Гонконг',\n",
       "       'Франция - Италия - Швейцария', 'США - Новая Зеландия',\n",
       "       'Франция - Бельгия', 'КНР', 'Германия - Великобритания - Австрия',\n",
       "       'Великобритания - Израиль - Франция - Япония - США', 'Швеция',\n",
       "       'Испания', 'Дания', 'Франция - Бельгия - Люксембург',\n",
       "       'США - Индия - ОАЭ',\n",
       "       'Германия-Канада-Великобритания-Швейцария-Франция',\n",
       "       'Мексика - Чили', 'Аргентина', 'Бразилия', 'Чили', 'Австралия',\n",
       "       'Португалия - Франция', 'США - ЮАР', 'Исландия-Ирландия-Германия',\n",
       "       'США-Индонезия', 'Южная Корея', 'Мексика - Испания - Дания - США',\n",
       "       'Великобритания-США', 'Франция - Италия', 'США-Франция',\n",
       "       'США - Венгрия - Великобритания', 'Бельгия-Франция-Италия',\n",
       "       'Чехия - Германия', 'Германия - Франция', 'США-Нидерланды',\n",
       "       'Украина', 'Великобритания - Германия', 'Франция-Бельгия',\n",
       "       'США-Франция-Испания', 'Италия - Франция', 'Канада',\n",
       "       'Швеция-Франция-Дания', 'Германия-Франция-Польша',\n",
       "       'Франция-Великобритания - Германия',\n",
       "       'США - Бразилия - Франция - Австралия - Великобритания - Германия',\n",
       "       'Германия-Австрия', 'Германия-Италия- Шри-Ланка',\n",
       "       'Великобритания - Испания',\n",
       "       'США - Великобритания - Канада - Швеция',\n",
       "       'Босния и Герцеговина - Франция - Великобритания - Германия - Словения - Бельгия - Сербия',\n",
       "       'Великобритания - Франция - Италия - США', 'США-ОАЭ',\n",
       "       'Испания - Франция', 'США-Великобритания', 'США-ЮАР',\n",
       "       'Великобритания-Австралия - США',\n",
       "       'Норвегия - Швеция - Дания - Германия', 'Норвегия', 'Швейцария',\n",
       "       'Греция - Германия - Франция', 'Норвения', 'Южная Корея - США',\n",
       "       'Чили - Франция - США', 'Австрия - Германия - Франция',\n",
       "       'Швеция - Дания', 'Великобритания - Франция - Бельгия - Италия',\n",
       "       'Франция - Германия', 'Грузия - Франция - Люксембург',\n",
       "       'США - Франция - Великобритания - Бразилия', 'США - КНР',\n",
       "       'Мексика - Франция', 'США - Германия - Гонконг - Сингапур',\n",
       "       'Финляндия - Австрия - Россия', 'Испания - Куба',\n",
       "       'Великобритания - ЮАР', 'Великобритания - Ирландия', 'Израиль',\n",
       "       'Бразилия - Германия - Порртугалия - Франция',\n",
       "       'Франция - Канада - Бельгия', 'Франция-Испания',\n",
       "       'Испания - Канада - Япония', 'Иран', 'Швеция-Куба',\n",
       "       'США-Великобритания-Ирландия', 'Гонконг - КНР', 'Нидерланды',\n",
       "       'Испания - Канада', 'Япония-Великобритания',\n",
       "       'Великобритания - Норвегия - Дания - Германия',\n",
       "       'Финляндия - Франция - Германия',\n",
       "       'Мексика - Франция - Нидерланды - Германия', 'США - Индия',\n",
       "       'США-Великобритания-Индия', 'США-Канада-Бельгия',\n",
       "       'Республика Узбекистан', 'Турция',\n",
       "       'Сербия - Словения - Хорватия - Черногория - Македония',\n",
       "       'Киргизия', 'Германия - Нидерланды - Беларусь - Россия - Латвия',\n",
       "       'Индия', 'Нидерланды - Россия - Германия',\n",
       "       'Великобритания - Нидерланды - Франция - Хорватия',\n",
       "       'Канада - Южная Корея',\n",
       "       'Великобритания - Польша - КНР - Индия - Норвегия',\n",
       "       'Япония - Франция - США - Южная Корея - Турция',\n",
       "       'Мексика - Аргентина - Великобритания', 'Израиль - Франция',\n",
       "       'Польша - Португалия - Франция - Великобритания',\n",
       "       'Австралия - США', 'Франция - Люксембург - Бельгия', 'Армения',\n",
       "       'Бельгия - Люксембург - Франция - Швейцария',\n",
       "       'США - Великобритания - Канада', 'Норвегия - Швеция',\n",
       "       'Канада - Франция', 'КНР - Гонконг - США',\n",
       "       'США - Сингапур - Малайзия - Индонезия', 'Германия - Россия',\n",
       "       'Япония - Канада', 'Финляндия - Дания - Германия - Ирландия',\n",
       "       'Франция - Люксембург - Германия - Бельгия - Швейцария - Великобритания',\n",
       "       'Канада - США', 'США-Италия-Испания', 'США-Испания',\n",
       "       'США - Швейцария - Франция', 'Испания - США - Колумбия',\n",
       "       'Канада-ЮАР', 'Франция - Россия',\n",
       "       'Германия - Финляндия - Австралия', 'Дания - Швеция', 'Бельгия',\n",
       "       'Германия - Франция - Австрия', 'Франция-Индия', 'ЮАР',\n",
       "       'Франция-Перу', 'Франция - Канада', 'Республика Беларусь',\n",
       "       'Великобритания - Австрия - Франция - США',\n",
       "       'Австрия-Германия-Франция', 'США-Россия', 'Германия-США',\n",
       "       'США - Южная Корея', 'Канада - КНР',\n",
       "       'Дания - Швеция - Италия - Франция - Германия',\n",
       "       'Франция-Италия-Испания-Венгрия', 'Франция - Германия - Бельгия',\n",
       "       'Франция-Великобритания-Чехия', 'Румыния - Франция - Бельгия',\n",
       "       'Болгария - Франция - Изриль',\n",
       "       'Израиль - Германия - Польша - Бельгия - Франция - Люксембург',\n",
       "       'Россия, Германия, Франция, Бельгия', 'Индонезия',\n",
       "       'Франция - Португалия', 'Великобритания - Пуэрто-Рико',\n",
       "       'СССР, ФРГ, Западный Берлин', 'Россия, Республика Беларусь',\n",
       "       'США, Великобритания', 'Франция - Австрия', 'Бельгия-Нидерланды',\n",
       "       'Великобритания - США - Индия', 'США - Великобритания - Австралия',\n",
       "       'Канада - Франция - США - ОАЭ - Великобритания',\n",
       "       'США - Австралия - Франция',\n",
       "       'Дания-Франция-Бельгия-Германия-Великобритания',\n",
       "       'Испания - Аргентина', 'Исландия - Финляндия',\n",
       "       'Россия-Польша-Голландия-Словакия', 'Дания - Германия - Швеция',\n",
       "       'Южная Корея - США - Канада', 'Таиланд', 'США-Мальта',\n",
       "       'США -Германия',\n",
       "       'Великобритания - Германия - Франция - Кипр - США', 'Мексика',\n",
       "       'США - Великобритания - Ирландия', 'США - Украина',\n",
       "       'США - Финляндия - Испания - Великобритания - Франция',\n",
       "       'Австралия-Великобритания',\n",
       "       'США - Канада - Афганистан - Бельгия - Франция',\n",
       "       'США - Великобритания - Германия - Новая Зеландия - Бельгия - Франция',\n",
       "       'Франция-Канада',\n",
       "       'Ирландия - Финляндия - Бельгия - Великобритания - США - Швейцария',\n",
       "       'Малайзия - США', 'Германия - Италия',\n",
       "       'США - Франция - Бельгия - Италия', 'Франция - Ирландия - Швеция',\n",
       "       'Азербайджан-Россия', 'Великобритания - Италия - Швейцария',\n",
       "       'США - Германия - Великобритания',\n",
       "       'Германия - Бельгия - США -Франция', 'США-Китай', 'Чили - Испания',\n",
       "       'Франция - Швейцария', 'Канада - Испания',\n",
       "       'США - Румыния - Великобритания', 'США - Япония',\n",
       "       'США - Россия - Франция', 'Франция-США', 'Парагвай',\n",
       "       'Германия - Канада', 'США - Канада - Великобритания',\n",
       "       'Финляндия - Канада', 'Уругвай-Мексика-Германия', 'США - Чили',\n",
       "       'Германия - Аргентина - Нидерланды - Чили',\n",
       "       'США - Канада - Индонезия', 'Армения - Казахстан', 'Финляндия',\n",
       "       'Испания - Италия - Франция',\n",
       "       'Бельгия - Испания - Канада - Нидерланды',\n",
       "       'Великобритания - Франция - Швеция - Бельгия',\n",
       "       'Мексика - Эквадор - Канада - США - Франция - Малайзия - Италия - Аргентина - Германия - Индия',\n",
       "       'Франция - Бенльгия', 'Индия - Великобритания',\n",
       "       'Япония - Великобритания - Франция',\n",
       "       'Испания - Уругвай - Аргентина',\n",
       "       'Франция - Италия - Бельгия - Люксембург',\n",
       "       'Франция - Украина - Грузия - Армения',\n",
       "       'Сербия - Германия - Венгрия', 'Франция-Польша', 'Румыния-США',\n",
       "       'Россия-Азербайджан',\n",
       "       'США - Нидерланды - Бельгия - Венгрия - Греция - Канада',\n",
       "       'Германия - Франция - Люксембург', 'США - Россия',\n",
       "       'Великобритания - США - Франция', 'США - Австралия - Дания',\n",
       "       'Бельгия-Франция', 'США-Мексика',\n",
       "       'Норвегия - Азербайджан - Россия - Колумбия - Великобритания - Венгрия - Румыния - Франция - Грузия',\n",
       "       'СЩА', 'Бразилия - Испания', 'Россия, Франция, Латвия',\n",
       "       'Уругвай - Колумбия', 'США - Испания - Болгария',\n",
       "       'Армения - Германия', 'США - Великобритания- Франция - Швеция',\n",
       "       'США - Мексика', 'Австралия-Турция-США', 'Швеция - Германия',\n",
       "       'Польша - Италия - Россия', 'Франция - Бразилия',\n",
       "       'США - Канада - КНР', 'СССР, Венгрия, ЧССР, ГДР',\n",
       "       'Бельгия - Германия - Люксембург', 'США - Австралия',\n",
       "       'Бразилия - США', 'США - Великобритания - Канада - КНР',\n",
       "       'Франция - Чили',\n",
       "       'Франция - США - Великобритания - Колумбия - Бельгия - Россия',\n",
       "       'Дания - Великобритания - ЮАР', 'Россия-США-Канада-Люксембург',\n",
       "       'Россия - Республика Кипр', 'Германия - США - Швеция - Франция',\n",
       "       'Великобритания-Германия-Канада-ЮАР', 'Ирландия, Канада',\n",
       "       'Япония - Великобритания - Швейцария - Ирландия - Дания - Франция - Польша - Австралия - Канада',\n",
       "       'Великобритания, Канада', 'Бельгия - США',\n",
       "       'Великобритания - США - Россия', 'Россия-Украина',\n",
       "       'Германия - США - Великобритания - Израиль', 'Канада - Германия',\n",
       "       'США- Ю.Корея', 'Индия - Мексика',\n",
       "       'Великобритания - Франция - Республика Кипр - Швейцария - США - Сербия',\n",
       "       'Испания - Аргентина - Индия - США',\n",
       "       'Норвегия - Исландия - США - Великобритания',\n",
       "       'Турция - Германя - Франция', 'Германия - Великобритания',\n",
       "       'Австралия - Германия', 'Мексика - Испания',\n",
       "       'Великобритания - США - Германия - Бельгия',\n",
       "       'США - Чехия - Франция', 'Россия - Италия', 'Франция-Россия',\n",
       "       'Норвегия - Дания - Швеция', 'Франция - Швейцария - Германия',\n",
       "       'Грузия - Украина', 'Россия - Эстония - Финляндия - Беларусь',\n",
       "       'США - Франция - ЮАР', 'Великобритания - США - Швейцария',\n",
       "       'Канада-США', 'Мексика - Нидерланды - Германия - Франция',\n",
       "       'США - Испания - Франция', 'США - Великобритания - КНР',\n",
       "       'США-Франция-Канада',\n",
       "       'Япония, Великобритания, Австрия, Германия, Ю.Корея',\n",
       "       'Великобритания - Ирландия - США', 'Бельгия - Италия - Франция',\n",
       "       'Швейцария-Германия-ЮАР', 'Великобритания - США - Германия',\n",
       "       'Германия - Исландия', 'Испания - США', 'Хорватия',\n",
       "       'Финляндия - Исландия - Швеция',\n",
       "       'Канада - США - Германия - Франция',\n",
       "       'США - Великобритания - Испания', 'Ирландия-Великобритания',\n",
       "       'Аргентина - Испания', 'Австрия - Германия',\n",
       "       'Германия - Швейцария - Франция - Южная Корея - США',\n",
       "       'Украина - Нидерланды', 'Венгрия - Германия - Швеция',\n",
       "       'Германия - Франция -  Польша - Турция - Канада - Италия - Россия',\n",
       "       'СССР, Афганистан', 'СССР, Монголия', 'Россия-Кипр',\n",
       "       'Россия, Грузия, Испания', 'Аргентина - Бразилия',\n",
       "       'Великобритания - Нидерланды - Германия - Франция - Бельгия - Австрия',\n",
       "       'Испания - Великобритания - Франция',\n",
       "       'Дания - Норвегия - Великобритания',\n",
       "       'Бельгия - Франция - Люксембург',\n",
       "       'Италия - Франция - Швейцария - Великобритания',\n",
       "       'Франция - Бельгия - Великобритания - Испания - Германия - США',\n",
       "       'Швейцария - Израиль - Франция - Великобритания',\n",
       "       'Великобритания - США - Канада - Нидерланды - Франция',\n",
       "       'Россия, Италия', 'СССР, Албания',\n",
       "       'Россия, Украина, Республика Беларусь, Литва',\n",
       "       'Финляндия - Великобритания - Германия', 'Россия, Украина, Польша',\n",
       "       'Франция - Италия - Бельгия - КНР',\n",
       "       'Германия - Бельгия - Люксембург - Ирландия', 'КНР - Сингапур',\n",
       "       'Франция - Бельгия - Великобритания - США - Нидерланды - Канада',\n",
       "       'США - Россия - Польша - Германия - Пуэрто Рико',\n",
       "       'Франция - Бельгия - Канада', 'Мексика - США',\n",
       "       'США - Гонконг - КНР', 'Греция - Россия',\n",
       "       'Ирландия - Дания - Бельгия - Люксембург - Франция',\n",
       "       'Эстония - Россия',\n",
       "       'Великобритания - Исландия - Испания - Швейцария - США',\n",
       "       'Австралия - Великобритания - Бельгия - Индия',\n",
       "       'Швеция - Германия - Франция - Норвегия',\n",
       "       'Нидерланды - Бельгия - Германия - Ирландия',\n",
       "       'Нидерланды - Великобритания - Бельгия',\n",
       "       'США - Колумбия - Испания', 'Франция-Испания-Бельгия-Панама',\n",
       "       'США-Великобритания-Чехия-Румыния',\n",
       "       'Аргентина - Уругвай - Россия - Германия - Франция - Нидерланды',\n",
       "       'Швеция - Франция - Норвегия - Дания',\n",
       "       'Италия-Франция-Великобритания', 'Великобритания, Франция',\n",
       "       'Австралия, США', 'Венесуэла',\n",
       "       'Великобритания - США - Австралия - Ирландия - Германия - Куба - Канада',\n",
       "       'Южная Корея - КНР',\n",
       "       'Аргентина - Мексика - Бразилия - Франция - США', 'Швеция - США',\n",
       "       'Франция - Германия - Турция - Катар', 'Франция-Китай',\n",
       "       'Россия, Германия, Великобритания',\n",
       "       'Великобритания - Италия - Испания', 'Италия - Россия',\n",
       "       'Япония - КНР - Южная Корея', 'Россия, Германия',\n",
       "       'Россия-Ирландия', 'Македония - Франция - Великобритания',\n",
       "       'Франция - Бразилия - Италия', 'Россия-США', 'Армения-Россия',\n",
       "       'Россия, Румыния', 'Франция -  Бельгия', 'Грузия-Франция',\n",
       "       'ЮАР - США', 'Великобритания-США-Франция',\n",
       "       'Великобритания - США - Германия - Канада - Австралия',\n",
       "       'США-Ирландия', 'Россия, Республика Кипр',\n",
       "       'Германия - Люксембург - Франция', 'Россия-Франция',\n",
       "       'США - Нидерланды - Финляндия - Великобритания - Италия',\n",
       "       'Республика Кипр', 'Венгрия', 'Франция - США - Норвегия - Дания',\n",
       "       'Германия - Австрия - Ирландия', 'США - Финляндия',\n",
       "       'Италия-Великобритания', 'Россия, Испания',\n",
       "       'США - Великобритания - Болгария', 'Великобритания - Люксембург',\n",
       "       'Индия - США', 'США - Канада - Россия - Франция - Чили - Ирландия',\n",
       "       'Грузия-Россия',\n",
       "       'Дания - Австрия - Ирландия - Финляндия - Норвегия - Швеция - Нидерланды',\n",
       "       'США-КНР', 'Грузия', 'Австралия - Ирландия',\n",
       "       'Великобритания - Канада', 'Италия - Аргентина - Словения',\n",
       "       'Испания - Франция - Нидерланды - Германия - Бельгия - Великобритания - Канада',\n",
       "       'Франция - Чехия - Бельгия',\n",
       "       'Великобритания - Франция - Германия - США',\n",
       "       'Ирландия - Великобритания - Франция - США - Германия - Нидерланды',\n",
       "       'США - Канада - Япония - КНР', 'Италия-Франция',\n",
       "       'США - Великобритания - Исландия', 'Великобритания-Франция',\n",
       "       'Франция - Германия - Нидерланды',\n",
       "       'Франция - Германия - Швеция - США - Чехия - Словакия - Великобритания - Нидерланды',\n",
       "       'Франция - Канада - Н.Зеландия - США - Нидерланды - Германия - Швеция - Россия',\n",
       "       'Турция - США',\n",
       "       'Великобритания - США - Канада - Бельгия - Нидерланды - Австрия - Германия',\n",
       "       'Израиль - Франция - Германия - Палестина - США - Австрия - Великобритания',\n",
       "       'Аргентина - Франция - Испания', 'СССР, Россия',\n",
       "       'Великобритания - Франция - Италия - Индия - Дания - КНР - Бангладеш - Камбоджа - Гаити - Уганда',\n",
       "       'Италия - Франция - Швейцария',\n",
       "       'Ирландия - Великобритания - Канада', 'Перу', 'США - Норвегия',\n",
       "       'Испания-Канада', 'Китай-Гонконг', 'США - Германия - КНР',\n",
       "       'Великобритания - Новая Зеландия',\n",
       "       'Франция - Дания - Швеция - КНР',\n",
       "       'США - Великобритания - Германия - Бельгия - Дания',\n",
       "       'США - Франция - Канада - Германия - Австралия - Индия', nan,\n",
       "       'СССР, Румыния, Франция', 'СССР, ГДР', 'Австралия-Ирландия',\n",
       "       'США - Китай', 'Великобритания - Франция - Австрия - Швеция',\n",
       "       'Россия, Таджикистан', 'Нидерланды - Бельгия - Болгария',\n",
       "       'Великобритания - Канада - США', 'Франция - Бельгия - Испания',\n",
       "       'Китай-Гонконг-США', 'Франция - Великобритания', 'США - Вьетнам',\n",
       "       'США - Германия - Франция', 'Германия - Франция - Бельгия',\n",
       "       'США - Италия',\n",
       "       'Германия - Дания - Испания - Швеция - Канада - Эстония - Франция',\n",
       "       'Княжество Андорра - Украина', 'Германия - Люксембург - Бельгия',\n",
       "       'Великобритания - Россия - Украина - США',\n",
       "       'Германия - Бельгия - Люксембург - Норвегия',\n",
       "       'США - Австралия - Новая Зеландия - Великобритания',\n",
       "       'США - Франция - Канада - Великобритания', 'Испания-Колумбия',\n",
       "       'Великобритания - Чехия - Франция', 'Россия, Украина', 'Исландия',\n",
       "       'Великобритания - Франция - Венгрия',\n",
       "       'Россия, Франция, Германия, Бельгия', 'Франция - Македония',\n",
       "       'Нидерланды - Франция - Германия - Бельгия - Швеция - Великобритания',\n",
       "       'Испания - США - Великобритания - Канада', 'Германия - Австрия',\n",
       "       'Франция - Испания - Дания - Венгрия - Швейцария', 'Франция-КНР',\n",
       "       'Мексика - Тайвань - США',\n",
       "       'Великобритания - Испания - Непал - Индия - Венгрия - Гонконг - Германия - Дания - Бахрейн',\n",
       "       'КНР - США', 'Италия - США', 'Финляндия - Швеция - Германия',\n",
       "       'Канада- Испания', 'Франция - Бельгия - Чехия',\n",
       "       'Франция-Бельгия-Канада', 'Франция - Германия - США',\n",
       "       'США - Дания', 'Индия - КНР', 'Чехия-Великобритания-США',\n",
       "       'США-ФРГ-Россия', 'Ирландия-Нидерланды-Франция-США-Великобритания',\n",
       "       'Финляндия - Швеция - Норвегия', 'Сербия - Великобритания - США',\n",
       "       'США - Великобритания - Франция - Гонконг', 'Швейцария - Франция',\n",
       "       'Швейцария - Великобритания', 'ОАЭ - США',\n",
       "       'США - Франция - Германия - Канада - Австралия',\n",
       "       'Германия - Австралия', 'Иран, Франция',\n",
       "       'США - Великобритания - Новая Зеландия', 'США-Колумбия',\n",
       "       'США-Франция-Ирландия', 'Великобритания - Франция - Бельгия',\n",
       "       'США - Великобритания - Япония', 'США - Франция - Германия',\n",
       "       'Республика Казахстан', 'Польша - Ирландия',\n",
       "       'Ирландия - Великобритания - Франция - США',\n",
       "       'США - Бельгия - Великобритания', 'СССР, ВНР',\n",
       "       'Испания - Франция - США - Великобритания - Бельгия',\n",
       "       'Франция - Дания - США', 'США - Гонконг', 'Бразилия - К;анада',\n",
       "       'Франция-Германия', 'США - Колумбия',\n",
       "       'США - Ирландия - Великобритания - Франция',\n",
       "       'Великобритания - США - Канада', 'Польша - Франция',\n",
       "       'Канада - США - Нидерланды - Великобритания - Аргентина',\n",
       "       'Великобритания - Дания', 'Франция - Бельгия - Япония',\n",
       "       'Россия,  Испания', 'Франция -Бельгия',\n",
       "       'США - Канада - Германия - Франция', 'США-Канада-Франция',\n",
       "       'Россия - Германия', 'Россия-Италия', 'Китай - Гонконг',\n",
       "       'Германия-Австрия-Франция-Италия', 'США-Япония',\n",
       "       'США - Германия - Канада', 'Испания-Мексика',\n",
       "       'США - Япония - Канада - Великобритания - Германия - Франция',\n",
       "       'США -Великобритания - Австралия', 'Россия-Украина-Германия',\n",
       "       'Израиль - Франция - Великобритания - Германия', 'Корея',\n",
       "       'Россия - Болгария', 'США-Индия',\n",
       "       'Германия-Канада-Франция-Бельгия', 'Германия-Кения',\n",
       "       'Франция - Монако', 'Франция-Испания-Швейцария',\n",
       "       'Австрия-Франция-Германия', 'Румыния',\n",
       "       'США-Великобритания-Франция', 'Канада-Великобритания',\n",
       "       'Канада-Бразилия-Япония', 'Германия - Дания - Норвегия',\n",
       "       'Дания - Германия', 'СССР - Италия',\n",
       "       'СССР - ГДР - Польша - Италия',\n",
       "       'США - Испания - Франция - Великобритания', 'Китай',\n",
       "       'Мексика-Аргентина',\n",
       "       'Германия - Великобритания - Италия - Испания',\n",
       "       'Франция-Германия-Великобритания', 'Россия - Германия - Швейцария',\n",
       "       'Франция-Австралия', 'Голландия', 'Швейцария-Франция',\n",
       "       'Россия-Белоруссия', 'Франция - Испания - Тайвань',\n",
       "       'США-Южная Корея-Новая Зеландия', 'Великобритания-Венгрия',\n",
       "       'Россия-Германия', 'Великобритания-Франция-Германия',\n",
       "       'Франция-Германия-Италия', 'Швеция-Финляндия-Франция-Норвегия',\n",
       "       'Франция-Италия', 'Германия-Израиль',\n",
       "       'Швеция - Германия - Дания - Норвегия', 'США-Бельгия',\n",
       "       'Франция-Гонконг-Ирландия', 'Эстония', 'Литва-Россия-Украина',\n",
       "       'Германия - Италия - Франция',\n",
       "       'Великобритания - Австрия - Германия', 'Бельгия - Франция',\n",
       "       'Россия-Казахстан', 'Испания - Мальта',\n",
       "       'Франция-Россия-Румыния-Италия-Бельгия', 'Россия - Польша',\n",
       "       'Испания - Мексика', 'США-Аргентина', 'Израиль-США-Франция',\n",
       "       'США - Новая Зеландия - Япония',\n",
       "       'Франция - Чехия - Великобритания', 'Россия-Польша',\n",
       "       'Германия-Франция-Великобритания', 'США-Германия-Канада',\n",
       "       'США-Гонконг-Китай', 'США - Великобритания - Германия',\n",
       "       'США-Канада-Австралия', 'Япония-США-Франция',\n",
       "       'Франция-Испания-Германия', 'США - Хорватия - Босния-Герцеговина',\n",
       "       'Великобритания - Чехия - Франция - Италия',\n",
       "       'США - Германия - Нидерланды', 'Германия - Франция - Канада',\n",
       "       'Франция-Грузия-Германия-Россия-Украина-Бельгия',\n",
       "       'Великобритания - Франция - Италия', 'Россия - США',\n",
       "       'Франция - Италия - Иран', 'Россия - Азербайджан', 'Греция',\n",
       "       'Дания - США', 'США-Великобритания-Новая Зеландия',\n",
       "       'США-Германия-Австралия', 'США-Канада-Италия',\n",
       "       'США - Япония - Германия', 'Австралия-США',\n",
       "       'Франция - Великобритания - Багамские острова - США',\n",
       "       'Швейцария - Люксембург', 'Швейцария - Австрия',\n",
       "       'Германия - Швейцария', 'Дания-Швеция-Франция-Германия', 'Польша',\n",
       "       'Швейцария-Австрия', 'Бразилия - Канада - США',\n",
       "       'Нидерланды - Россия', 'Португалия', 'Франция-Аргентина',\n",
       "       'Швеция-Франция', 'Франция-Украина', 'Германия-Украина-Нидерланды',\n",
       "       'Италия-Швейцария', 'США-Германия-Великобритания',\n",
       "       'Латвия - Россия', 'Германия-Франция-Великобритания-США',\n",
       "       'Канада - Италия', 'США - Объединенные Арабские Эмираты',\n",
       "       'США-Венгрия', 'Малайзия', 'Россия - Германия - Украина',\n",
       "       'США - Австралия - Мексика', 'Литва - Венгрия', 'Германия - Китай',\n",
       "       'Казахстан', 'Республика Корея',\n",
       "       'США - Германия - Франция - Великобритания - Канада',\n",
       "       'Бельгия - Германия - Люксембург - Франция', 'Франция - Греция',\n",
       "       'Италия - Канада', 'США - Великобритания - Франция',\n",
       "       'США-Италия-Греция', 'Германия - США - Великобритания - Ирландия',\n",
       "       'Великобритания - Франция - Германия',\n",
       "       'Германия - Нидерланды - ЮАР',\n",
       "       'США-Япония-Германия-Великобритания-Нидерланды',\n",
       "       'США-Япония-Германия-Великобритания',\n",
       "       'Германия - Франция - Польша',\n",
       "       'Таиланд-Великобритания-Франция-Германия-Испания-Нидерланды',\n",
       "       'Германия-Италия-Швейцария',\n",
       "       'Дания - Швеция - Великобритания - Франция - Германия - Нидерланды - Норвегия - Финляндия',\n",
       "       'Франция - Великобритания - Нидерланды - Люксембург',\n",
       "       'Нидерланды-Великобритания-Франция-Италия-Япония',\n",
       "       'Финляндия-Дания-Германия-Ирландия', 'Испания-Аргентина',\n",
       "       'Великобритания - Нидерланды - Франция - США', 'Канада - Мексика',\n",
       "       'США, Франция', 'Канада-Южная Корея-США',\n",
       "       'Великобритания - Франция - Бельгия - США', 'КНР - Канада - США',\n",
       "       'Италия - Франция - Германия',\n",
       "       'Швеция - Германия - Франция - Дания', 'Франция - США - Бельгия',\n",
       "       'Украина - Германия - Латвия - Эстония', 'Австрия - Люксембург',\n",
       "       'Великобритания - КНР', 'Монголия', 'Франция - Дания',\n",
       "       'Швеция - Дания - Финляндия',\n",
       "       'Сингапур - Великобритания - Индонезия - Канада - США',\n",
       "       'США - Германия - Япония', 'Таиланд - США', 'Франция - Нидерланды',\n",
       "       'Великобритания - Румыния', 'США - Мальта',\n",
       "       'Великобритания - Германия - Нидерланды - Дания',\n",
       "       'Франция - Германия - Литва - Нидерланды - Россия',\n",
       "       'США - ЮАР - Гонконг', 'Австралия - Колумбия',\n",
       "       'Великобритания - Польша', 'США - Великобритания - Швеция',\n",
       "       'Франция - Швеция - Дания - Норвегия', 'Болгария - США',\n",
       "       'СССР, ФРГ', 'Бельгия - Нидерланды - Франция',\n",
       "       'Финляндия - Германия', 'Болгария',\n",
       "       'Грузия - Россия - Украина - Хорватия - Германия',\n",
       "       'Франция - Люксембург', 'Франция - Германия - Австрия',\n",
       "       'Норвегия - США', 'Германия-Швеция', 'Франция - Германия - Италия',\n",
       "       'Франция-Германия-Австрия', 'КНР-США',\n",
       "       'Дания - Латвия - Россия - США', 'Финляндия - Польша',\n",
       "       'Германия - Бельгия', 'Германия - США - Франция - Испания',\n",
       "       'Нидерланды - Бельгия - Люксембург', 'Канада-Германия',\n",
       "       'Люксембург - Бельгия - Франция', 'США-Великобритания-Австралия',\n",
       "       'Великобритания, Новая Зеландия', 'Бельгия, Великобритания, США',\n",
       "       'Великобритания, Австралия', 'Исландия, Бельгия',\n",
       "       'Испания - Швейцария - Великобритания - Германия - Новая Зеландия - Нидерланды - Канада',\n",
       "       'Франция, Бельгия', 'Великобритания, США', 'Киргизия-Россия',\n",
       "       'Германия, США', 'Великобритания, США, Испания',\n",
       "       'Италия - Швейцария - Германия', 'Россия, Армения',\n",
       "       'Франция, Германия', 'Китай, Канада, США', 'Германия, Австралия',\n",
       "       'КНР, США', 'США, Великобритания, Люксембург',\n",
       "       'Испания, Ирландия, Бельгия, Франция',\n",
       "       'Великобритания - Гонконг - Венгрия - США - Ирландия',\n",
       "       'США - Пуэрто Рико', 'Аргентина - Испания - Уругвай',\n",
       "       'Израиль - Германия - Франция - Швейцария',\n",
       "       'Великобритания - Мексика - США', 'Испания - Болгария - США',\n",
       "       'Россия-Словакия-Чехия',\n",
       "       'Швейцария - КНР - США - Россия - Республика Корея - Великобритания',\n",
       "       'Россия, Нидерланды, Финляндия',\n",
       "       'Испания - Бельгия - Франция - Португалия - Великобритания',\n",
       "       'Бразилия - Португалия - Франция', 'Швеция - Норвегия',\n",
       "       'Франция - Польша - Бельгия', 'CША', 'Китай, США',\n",
       "       'Италия, Франция, Германия', 'Германия - Австрия - Франция',\n",
       "       'Чехия - Словакия - Хорватия', 'Россия, Польша, Финляндия',\n",
       "       'Россия, Латвия, Чешская Республика',\n",
       "       'Франция - Великобритания - Камбоджа - США - КНР',\n",
       "       'Чехия - Испания - США', 'Германия - Люксембург - Дания',\n",
       "       'Великобритания - Испания - Германия', 'Дания - Исландия',\n",
       "       'Великобритания - Испания - Италия - Латвия - Франция - Эстония',\n",
       "       'Польша - Франция - Великобритания',\n",
       "       'Дания, Норвегия, Венгрия, Чехия',\n",
       "       'Дания - Франция - Германия - Швеция',\n",
       "       'Великобритания, Швеция, США',\n",
       "       'Канада, Франция, Италия, Швейцария, США', 'США, Индия',\n",
       "       'США - Великобритания - Германия - - Швеция - Канада',\n",
       "       'Италия, Франция', 'Республика Беларусь, Германия, США, Россия',\n",
       "       'Италия-Швейцария-Франция-Германия',\n",
       "       'Россия - Франция - Великобритания - Латвия', 'Россия-Беларусь',\n",
       "       'Франция - Испания - Румыния - США - Бельгия', 'Италия-США',\n",
       "       'Россия, Австрия', 'Ирландия - Великобритания - США',\n",
       "       'Швейцария, Великобритания, Франция, США, Ирландия',\n",
       "       'Мексика, Франция, Германия, Дания, Швеция', 'Нидерланды, Бельгия',\n",
       "       'Швеция, Норвегия, Финляндия, Франция', 'Испания, Франция, Италия',\n",
       "       'Испания-Франция-Греция-Индия-США-Россия-Великобритания',\n",
       "       'Великобритания - Япония - США',\n",
       "       'Дания, Канада, Норвегия, Австралия, США', 'Аргентина, Испания',\n",
       "       'Россия, Германия, Казахстан, Польша, Китай',\n",
       "       'Португалия, Франция, Польша, США', 'США - Канада - Аргентина',\n",
       "       'Ливан-США', 'Япония - США', 'США, Гонконг', 'Аргентина-Испания',\n",
       "       'Россия, Сербия', 'США - Болгария - Мексика',\n",
       "       'США - Великобритания - Швейцария - Франция',\n",
       "       'Таиланд - КНР - США',\n",
       "       'Великобритания, Нидерланды, Польша, Швейцария, Франция',\n",
       "       'Ирландия - США',\n",
       "       'Германия - Франция - Великобритания - Польша - США',\n",
       "       'США - Австралия - Индия', 'Франция - КНР',\n",
       "       'Великобритания - Израиль',\n",
       "       'Великобритания - Норвегия - Кения - Хорватия',\n",
       "       'США - Бразилия - Великобритания - Канада', 'Германия, Бельгия',\n",
       "       'Австралия, Канада', 'США, Великобритания, Франция',\n",
       "       'Кения, Германия', 'Нидерланды, Бельгия, Люксембург', 'Колумбия',\n",
       "       'Латвия - Франция', 'Ирландия, Великобритания',\n",
       "       'Франция - Израиль - Германия', 'Швеция, Франция, Великобритания',\n",
       "       'Бельгия - Люксембург', 'Германия - Бельгия - Великобритания',\n",
       "       'Испания, Франция, Великобритания, Дания, Бельгия, Германия',\n",
       "       'Румыния, ЮАР, Иран, Франция, Канада, Великобритания',\n",
       "       'Германия, Франция', 'США, Япония',\n",
       "       'США, Великобритания, Ирландия, Люксембург', 'Республика Армения',\n",
       "       'США, Франция, Япония', 'Япония, США', 'Канада, США',\n",
       "       'Республика Кипр - Россия',\n",
       "       'Дания - Франция - Италия - Бельгия - Нидерланды',\n",
       "       'Россия - Грузия', 'Италия, Германия', 'Норвегия, Швеция, Дания',\n",
       "       'Республика Кипр, Россия', 'КНР, Индия, Гонконг, США',\n",
       "       'Израиль, Украина', 'США, Россия', 'США - КНР - Индия - Ю.Корея',\n",
       "       'США - Швеция', 'Россия-Китай', 'Канада, Великобритания',\n",
       "       'Канада, США, Каймановы острова',\n",
       "       'Бразилия, Уругвай, Дания, Норвегия, Чили, Швеция',\n",
       "       'Пуэрто-Рико, Великобритания, США',\n",
       "       'Уругвай - Аргентина - Испания',\n",
       "       'США - Великобритания - Италия - Израиль - Сербия - Индия',\n",
       "       'США - Канада - Франция - Индия', 'Великобритания - Россия - КНР',\n",
       "       'Франция, Новая Зеландия', 'Франция, Люксембург, Бельгия',\n",
       "       'Канада, США, Норвегия', 'Италия, Испания',\n",
       "       'Испания - Германия - Нидерланды', 'Бразилия - США - КНР',\n",
       "       'Великобритания, Германия, Дания, США', '2019',\n",
       "       'Италия - Фрация - Бразилия - Германия',\n",
       "       'Норвегия - Швеция - Россия', 'Великобритания, Япония, США',\n",
       "       'Сша, Канада', 'Бельгия, Канада',\n",
       "       'Великобритания - Австралия - США', 'США, Канада',\n",
       "       'Франция - Финляндия', 'Колумбия - США',\n",
       "       'Великобритания, Франция, Бельгия', 'Норвегия - Нидерланды',\n",
       "       'Великобритания, Канада, США', 'Япония, Великобритания',\n",
       "       'Италия - Бельгия - Франция', 'Россия, Бельгия, Финляндия',\n",
       "       'США, Украина', 'Франция, Норвегия',\n",
       "       'Великобритания, Южная Корея, Канада, США, Индия, Китай, Япония',\n",
       "       'Канада - Норвегия', 'Республика Кипр-Россия', 'Германия, Россия',\n",
       "       'Польша - Франция - Испания - Бразилия - Швеция',\n",
       "       'Австрия, Великобритания, Германия', 'Франция - Сенегал - Бельгия',\n",
       "       'Франция, Бельгия, Люксембург', 'Финляндия, Латвия', 'Пакистан',\n",
       "       'Германия, Франция, США', 'Германия - Великобритания - США',\n",
       "       'КНР - Франция', 'Дания, Норвегия, Швеция, Исландия',\n",
       "       'Республика Кипр, США, Россия', 'Новая Зеландия - КНР',\n",
       "       'Дания - Канада - Швеция - Франция - Германия - Великобритания - США'],\n",
       "      dtype=object)"
      ]
     },
     "metadata": {},
     "output_type": "display_data"
    },
    {
     "data": {
      "text/html": [
       "<div>\n",
       "<style scoped>\n",
       "    .dataframe tbody tr th:only-of-type {\n",
       "        vertical-align: middle;\n",
       "    }\n",
       "\n",
       "    .dataframe tbody tr th {\n",
       "        vertical-align: top;\n",
       "    }\n",
       "\n",
       "    .dataframe thead th {\n",
       "        text-align: right;\n",
       "    }\n",
       "</style>\n",
       "<table border=\"1\" class=\"dataframe\">\n",
       "  <thead>\n",
       "    <tr style=\"text-align: right;\">\n",
       "      <th></th>\n",
       "      <th>title</th>\n",
       "      <th>pu_number</th>\n",
       "      <th>show_start_date</th>\n",
       "      <th>type</th>\n",
       "      <th>film_studio</th>\n",
       "      <th>production_country</th>\n",
       "      <th>director</th>\n",
       "      <th>producer</th>\n",
       "      <th>age_restriction</th>\n",
       "      <th>refundable_support</th>\n",
       "      <th>nonrefundable_support</th>\n",
       "      <th>budget</th>\n",
       "      <th>financing_source</th>\n",
       "      <th>ratings</th>\n",
       "      <th>genres</th>\n",
       "      <th>box_office</th>\n",
       "    </tr>\n",
       "  </thead>\n",
       "  <tbody>\n",
       "    <tr>\n",
       "      <th>2999</th>\n",
       "      <td>Детский юмористический киножурнал \"Ералаш. Ну ...</td>\n",
       "      <td>111001216</td>\n",
       "      <td>2016-02-09</td>\n",
       "      <td>Художественный</td>\n",
       "      <td>ООО \"Продюсерский центр ЕРАЛАШ\"</td>\n",
       "      <td>NaN</td>\n",
       "      <td>Р.Светлов, И.Магитон, А.Арутюнян, Л.Мирский, А...</td>\n",
       "      <td>ООО \"Продюсерский центр ЕРАЛАШ\"</td>\n",
       "      <td>«0+»</td>\n",
       "      <td>NaN</td>\n",
       "      <td>NaN</td>\n",
       "      <td>NaN</td>\n",
       "      <td>NaN</td>\n",
       "      <td>7.2</td>\n",
       "      <td>детский,комедия</td>\n",
       "      <td>195.0</td>\n",
       "    </tr>\n",
       "    <tr>\n",
       "      <th>4165</th>\n",
       "      <td>Мульт личности. Выпуск 5</td>\n",
       "      <td>214000410</td>\n",
       "      <td>2010-01-25</td>\n",
       "      <td>Художественный</td>\n",
       "      <td>прочее</td>\n",
       "      <td>NaN</td>\n",
       "      <td>NaN</td>\n",
       "      <td>NaN</td>\n",
       "      <td>«0+»</td>\n",
       "      <td>NaN</td>\n",
       "      <td>NaN</td>\n",
       "      <td>NaN</td>\n",
       "      <td>NaN</td>\n",
       "      <td>4.0</td>\n",
       "      <td>мультфильм,комедия</td>\n",
       "      <td>NaN</td>\n",
       "    </tr>\n",
       "  </tbody>\n",
       "</table>\n",
       "</div>"
      ],
      "text/plain": [
       "                                                  title  pu_number  \\\n",
       "2999  Детский юмористический киножурнал \"Ералаш. Ну ...  111001216   \n",
       "4165                           Мульт личности. Выпуск 5  214000410   \n",
       "\n",
       "     show_start_date            type                      film_studio  \\\n",
       "2999      2016-02-09  Художественный  ООО \"Продюсерский центр ЕРАЛАШ\"   \n",
       "4165      2010-01-25  Художественный                           прочее   \n",
       "\n",
       "     production_country                                           director  \\\n",
       "2999                NaN  Р.Светлов, И.Магитон, А.Арутюнян, Л.Мирский, А...   \n",
       "4165                NaN                                                NaN   \n",
       "\n",
       "                             producer age_restriction  refundable_support  \\\n",
       "2999  ООО \"Продюсерский центр ЕРАЛАШ\"            «0+»                 NaN   \n",
       "4165                              NaN            «0+»                 NaN   \n",
       "\n",
       "      nonrefundable_support  budget financing_source  ratings  \\\n",
       "2999                    NaN     NaN              NaN      7.2   \n",
       "4165                    NaN     NaN              NaN      4.0   \n",
       "\n",
       "                  genres  box_office  \n",
       "2999     детский,комедия       195.0  \n",
       "4165  мультфильм,комедия         NaN  "
      ]
     },
     "execution_count": 22,
     "metadata": {},
     "output_type": "execute_result"
    }
   ],
   "source": [
    "display(data_union['production_country'].unique())\n",
    "data_union.query('production_country.isna()')"
   ]
  },
  {
   "cell_type": "markdown",
   "id": "4e515c49-41d0-40db-bffc-85a0e570f085",
   "metadata": {},
   "source": [
    "Заменяем пропуски на значение \"Россия\""
   ]
  },
  {
   "cell_type": "code",
   "execution_count": 23,
   "id": "034beb3a-e13f-45eb-83d1-7a8b9292bf0f",
   "metadata": {},
   "outputs": [
    {
     "data": {
      "text/plain": [
       "0"
      ]
     },
     "execution_count": 23,
     "metadata": {},
     "output_type": "execute_result"
    }
   ],
   "source": [
    "data_union.loc[data_union['production_country'].isna(), 'production_country'] = 'Россия'\n",
    "data_union['production_country'].isna().sum()"
   ]
  },
  {
   "cell_type": "markdown",
   "id": "82daa4ec-7417-4540-8d59-396ad8080793",
   "metadata": {},
   "source": [
    "#### director"
   ]
  },
  {
   "cell_type": "code",
   "execution_count": 24,
   "id": "21eb40e3-b383-4471-b9e3-856b0cee1bb7",
   "metadata": {},
   "outputs": [
    {
     "data": {
      "text/html": [
       "<div>\n",
       "<style scoped>\n",
       "    .dataframe tbody tr th:only-of-type {\n",
       "        vertical-align: middle;\n",
       "    }\n",
       "\n",
       "    .dataframe tbody tr th {\n",
       "        vertical-align: top;\n",
       "    }\n",
       "\n",
       "    .dataframe thead th {\n",
       "        text-align: right;\n",
       "    }\n",
       "</style>\n",
       "<table border=\"1\" class=\"dataframe\">\n",
       "  <thead>\n",
       "    <tr style=\"text-align: right;\">\n",
       "      <th></th>\n",
       "      <th>title</th>\n",
       "      <th>pu_number</th>\n",
       "      <th>show_start_date</th>\n",
       "      <th>type</th>\n",
       "      <th>film_studio</th>\n",
       "      <th>production_country</th>\n",
       "      <th>director</th>\n",
       "      <th>producer</th>\n",
       "      <th>age_restriction</th>\n",
       "      <th>refundable_support</th>\n",
       "      <th>nonrefundable_support</th>\n",
       "      <th>budget</th>\n",
       "      <th>financing_source</th>\n",
       "      <th>ratings</th>\n",
       "      <th>genres</th>\n",
       "      <th>box_office</th>\n",
       "    </tr>\n",
       "  </thead>\n",
       "  <tbody>\n",
       "    <tr>\n",
       "      <th>707</th>\n",
       "      <td>Три звезды. Концерт в Waldbuhne Theater, Берли...</td>\n",
       "      <td>126003512</td>\n",
       "      <td>2012-12-04</td>\n",
       "      <td>Прочие</td>\n",
       "      <td>Райзинг Алтернатив</td>\n",
       "      <td>Великобритания</td>\n",
       "      <td>NaN</td>\n",
       "      <td>Вальдбюне Театр</td>\n",
       "      <td>«0+»</td>\n",
       "      <td>NaN</td>\n",
       "      <td>NaN</td>\n",
       "      <td>NaN</td>\n",
       "      <td>NaN</td>\n",
       "      <td>NaN</td>\n",
       "      <td>NaN</td>\n",
       "      <td>44.0</td>\n",
       "    </tr>\n",
       "    <tr>\n",
       "      <th>1607</th>\n",
       "      <td>Помпеи. Британский музей</td>\n",
       "      <td>126003413</td>\n",
       "      <td>2013-09-11</td>\n",
       "      <td>Прочие</td>\n",
       "      <td>МортуСкрин, Британский музей</td>\n",
       "      <td>Великобритания</td>\n",
       "      <td>NaN</td>\n",
       "      <td>Британский музей</td>\n",
       "      <td>«0+»</td>\n",
       "      <td>NaN</td>\n",
       "      <td>NaN</td>\n",
       "      <td>NaN</td>\n",
       "      <td>NaN</td>\n",
       "      <td>NaN</td>\n",
       "      <td>NaN</td>\n",
       "      <td>NaN</td>\n",
       "    </tr>\n",
       "    <tr>\n",
       "      <th>3651</th>\n",
       "      <td>Зур концерт (Большой концерт).</td>\n",
       "      <td>217027010</td>\n",
       "      <td>2010-06-24</td>\n",
       "      <td>Художественный</td>\n",
       "      <td>ООО \"Барс Рекордс\"</td>\n",
       "      <td>Россия</td>\n",
       "      <td>NaN</td>\n",
       "      <td>NaN</td>\n",
       "      <td>«12+»</td>\n",
       "      <td>NaN</td>\n",
       "      <td>NaN</td>\n",
       "      <td>NaN</td>\n",
       "      <td>NaN</td>\n",
       "      <td>NaN</td>\n",
       "      <td>NaN</td>\n",
       "      <td>NaN</td>\n",
       "    </tr>\n",
       "    <tr>\n",
       "      <th>3844</th>\n",
       "      <td>Ганс Сэйфуллин \"Авылым чишмэлэре. Ганс Сэйфулл...</td>\n",
       "      <td>217017310</td>\n",
       "      <td>2010-04-22</td>\n",
       "      <td>Художественный</td>\n",
       "      <td>ООО \"Барс-Рекордс\"</td>\n",
       "      <td>Россия</td>\n",
       "      <td>NaN</td>\n",
       "      <td>NaN</td>\n",
       "      <td>«0+»</td>\n",
       "      <td>NaN</td>\n",
       "      <td>NaN</td>\n",
       "      <td>NaN</td>\n",
       "      <td>NaN</td>\n",
       "      <td>NaN</td>\n",
       "      <td>NaN</td>\n",
       "      <td>NaN</td>\n",
       "    </tr>\n",
       "    <tr>\n",
       "      <th>4052</th>\n",
       "      <td>Изге Вэли (Святой Валентин)</td>\n",
       "      <td>217020610</td>\n",
       "      <td>2010-05-20</td>\n",
       "      <td>Художественный</td>\n",
       "      <td>ООО \"Барс Рекордс\"</td>\n",
       "      <td>Россия</td>\n",
       "      <td>NaN</td>\n",
       "      <td>NaN</td>\n",
       "      <td>«12+»</td>\n",
       "      <td>NaN</td>\n",
       "      <td>NaN</td>\n",
       "      <td>NaN</td>\n",
       "      <td>NaN</td>\n",
       "      <td>NaN</td>\n",
       "      <td>NaN</td>\n",
       "      <td>NaN</td>\n",
       "    </tr>\n",
       "    <tr>\n",
       "      <th>4146</th>\n",
       "      <td>Bon Jovi. The Circle Tour</td>\n",
       "      <td>126001710</td>\n",
       "      <td>2010-11-11</td>\n",
       "      <td>Прочие</td>\n",
       "      <td>Эншутц Интертейнмент Груп</td>\n",
       "      <td>США</td>\n",
       "      <td>NaN</td>\n",
       "      <td>Эншутц Интертейнмент Груп</td>\n",
       "      <td>«0+»</td>\n",
       "      <td>NaN</td>\n",
       "      <td>NaN</td>\n",
       "      <td>NaN</td>\n",
       "      <td>NaN</td>\n",
       "      <td>7.9</td>\n",
       "      <td>концерт,музыка</td>\n",
       "      <td>NaN</td>\n",
       "    </tr>\n",
       "    <tr>\n",
       "      <th>4165</th>\n",
       "      <td>Мульт личности. Выпуск 5</td>\n",
       "      <td>214000410</td>\n",
       "      <td>2010-01-25</td>\n",
       "      <td>Художественный</td>\n",
       "      <td>прочее</td>\n",
       "      <td>Россия</td>\n",
       "      <td>NaN</td>\n",
       "      <td>NaN</td>\n",
       "      <td>«0+»</td>\n",
       "      <td>NaN</td>\n",
       "      <td>NaN</td>\n",
       "      <td>NaN</td>\n",
       "      <td>NaN</td>\n",
       "      <td>4.0</td>\n",
       "      <td>мультфильм,комедия</td>\n",
       "      <td>NaN</td>\n",
       "    </tr>\n",
       "    <tr>\n",
       "      <th>4518</th>\n",
       "      <td>Георг Фридрих Гендель. Мессия. Оратория. Корол...</td>\n",
       "      <td>126001111</td>\n",
       "      <td>2011-04-25</td>\n",
       "      <td>Прочие</td>\n",
       "      <td>Опус Арт</td>\n",
       "      <td>Великобритания</td>\n",
       "      <td>NaN</td>\n",
       "      <td>Короевский колледж Кембриджа</td>\n",
       "      <td>«0+»</td>\n",
       "      <td>NaN</td>\n",
       "      <td>NaN</td>\n",
       "      <td>NaN</td>\n",
       "      <td>NaN</td>\n",
       "      <td>NaN</td>\n",
       "      <td>NaN</td>\n",
       "      <td>NaN</td>\n",
       "    </tr>\n",
       "    <tr>\n",
       "      <th>4536</th>\n",
       "      <td>Питер Гэбриэл и New Blood Orchestra 3D</td>\n",
       "      <td>126002711</td>\n",
       "      <td>2011-11-11</td>\n",
       "      <td>Прочие</td>\n",
       "      <td>Омниверс Визион</td>\n",
       "      <td>Великобритания</td>\n",
       "      <td>NaN</td>\n",
       "      <td>Омниверс Визион</td>\n",
       "      <td>«0+»</td>\n",
       "      <td>NaN</td>\n",
       "      <td>NaN</td>\n",
       "      <td>NaN</td>\n",
       "      <td>NaN</td>\n",
       "      <td>6.7</td>\n",
       "      <td>концерт,музыка</td>\n",
       "      <td>NaN</td>\n",
       "    </tr>\n",
       "  </tbody>\n",
       "</table>\n",
       "</div>"
      ],
      "text/plain": [
       "                                                  title  pu_number  \\\n",
       "707   Три звезды. Концерт в Waldbuhne Theater, Берли...  126003512   \n",
       "1607                           Помпеи. Британский музей  126003413   \n",
       "3651                     Зур концерт (Большой концерт).  217027010   \n",
       "3844  Ганс Сэйфуллин \"Авылым чишмэлэре. Ганс Сэйфулл...  217017310   \n",
       "4052                        Изге Вэли (Святой Валентин)  217020610   \n",
       "4146                          Bon Jovi. The Circle Tour  126001710   \n",
       "4165                           Мульт личности. Выпуск 5  214000410   \n",
       "4518  Георг Фридрих Гендель. Мессия. Оратория. Корол...  126001111   \n",
       "4536             Питер Гэбриэл и New Blood Orchestra 3D  126002711   \n",
       "\n",
       "     show_start_date            type                   film_studio  \\\n",
       "707       2012-12-04          Прочие            Райзинг Алтернатив   \n",
       "1607      2013-09-11          Прочие  МортуСкрин, Британский музей   \n",
       "3651      2010-06-24  Художественный            ООО \"Барс Рекордс\"   \n",
       "3844      2010-04-22  Художественный            ООО \"Барс-Рекордс\"   \n",
       "4052      2010-05-20  Художественный            ООО \"Барс Рекордс\"   \n",
       "4146      2010-11-11          Прочие     Эншутц Интертейнмент Груп   \n",
       "4165      2010-01-25  Художественный                        прочее   \n",
       "4518      2011-04-25          Прочие                      Опус Арт   \n",
       "4536      2011-11-11          Прочие               Омниверс Визион   \n",
       "\n",
       "     production_country director                      producer  \\\n",
       "707      Великобритания      NaN               Вальдбюне Театр   \n",
       "1607     Великобритания      NaN              Британский музей   \n",
       "3651             Россия      NaN                           NaN   \n",
       "3844             Россия      NaN                           NaN   \n",
       "4052             Россия      NaN                           NaN   \n",
       "4146                США      NaN     Эншутц Интертейнмент Груп   \n",
       "4165             Россия      NaN                           NaN   \n",
       "4518     Великобритания      NaN  Короевский колледж Кембриджа   \n",
       "4536     Великобритания      NaN               Омниверс Визион   \n",
       "\n",
       "     age_restriction  refundable_support  nonrefundable_support  budget  \\\n",
       "707             «0+»                 NaN                    NaN     NaN   \n",
       "1607            «0+»                 NaN                    NaN     NaN   \n",
       "3651           «12+»                 NaN                    NaN     NaN   \n",
       "3844            «0+»                 NaN                    NaN     NaN   \n",
       "4052           «12+»                 NaN                    NaN     NaN   \n",
       "4146            «0+»                 NaN                    NaN     NaN   \n",
       "4165            «0+»                 NaN                    NaN     NaN   \n",
       "4518            «0+»                 NaN                    NaN     NaN   \n",
       "4536            «0+»                 NaN                    NaN     NaN   \n",
       "\n",
       "     financing_source  ratings              genres  box_office  \n",
       "707               NaN      NaN                 NaN        44.0  \n",
       "1607              NaN      NaN                 NaN         NaN  \n",
       "3651              NaN      NaN                 NaN         NaN  \n",
       "3844              NaN      NaN                 NaN         NaN  \n",
       "4052              NaN      NaN                 NaN         NaN  \n",
       "4146              NaN      7.9      концерт,музыка         NaN  \n",
       "4165              NaN      4.0  мультфильм,комедия         NaN  \n",
       "4518              NaN      NaN                 NaN         NaN  \n",
       "4536              NaN      6.7      концерт,музыка         NaN  "
      ]
     },
     "execution_count": 24,
     "metadata": {},
     "output_type": "execute_result"
    }
   ],
   "source": [
    "data_union.query('director.isna()')"
   ]
  },
  {
   "cell_type": "markdown",
   "id": "3edd0132-60f0-4615-bad9-e45a2947a23a",
   "metadata": {},
   "source": [
    "Не представляется возможным заполнить пропуски. Заполняем пропуски значением \"прочие\""
   ]
  },
  {
   "cell_type": "code",
   "execution_count": 25,
   "id": "cde4cb31-7b42-46bb-9763-36a18d595db8",
   "metadata": {},
   "outputs": [
    {
     "data": {
      "text/plain": [
       "0"
      ]
     },
     "execution_count": 25,
     "metadata": {},
     "output_type": "execute_result"
    }
   ],
   "source": [
    "data_union.loc[data_union['director'].isna(), 'director'] = 'прочие'\n",
    "data_union['director'].isna().sum()"
   ]
  },
  {
   "cell_type": "markdown",
   "id": "89c41240-60ae-4225-a7a8-fb34a3f6d0c3",
   "metadata": {},
   "source": [
    "#### producer"
   ]
  },
  {
   "cell_type": "code",
   "execution_count": 26,
   "id": "1417b06b-0f1b-4bd7-a653-e06da1c468f2",
   "metadata": {},
   "outputs": [
    {
     "data": {
      "text/html": [
       "<div>\n",
       "<style scoped>\n",
       "    .dataframe tbody tr th:only-of-type {\n",
       "        vertical-align: middle;\n",
       "    }\n",
       "\n",
       "    .dataframe tbody tr th {\n",
       "        vertical-align: top;\n",
       "    }\n",
       "\n",
       "    .dataframe thead th {\n",
       "        text-align: right;\n",
       "    }\n",
       "</style>\n",
       "<table border=\"1\" class=\"dataframe\">\n",
       "  <thead>\n",
       "    <tr style=\"text-align: right;\">\n",
       "      <th></th>\n",
       "      <th>title</th>\n",
       "      <th>pu_number</th>\n",
       "      <th>show_start_date</th>\n",
       "      <th>type</th>\n",
       "      <th>film_studio</th>\n",
       "      <th>production_country</th>\n",
       "      <th>director</th>\n",
       "      <th>producer</th>\n",
       "      <th>age_restriction</th>\n",
       "      <th>refundable_support</th>\n",
       "      <th>nonrefundable_support</th>\n",
       "      <th>budget</th>\n",
       "      <th>financing_source</th>\n",
       "      <th>ratings</th>\n",
       "      <th>genres</th>\n",
       "      <th>box_office</th>\n",
       "    </tr>\n",
       "  </thead>\n",
       "  <tbody>\n",
       "    <tr>\n",
       "      <th>1</th>\n",
       "      <td>Особо важное задание</td>\n",
       "      <td>111013716</td>\n",
       "      <td>2016-09-13</td>\n",
       "      <td>Художественный</td>\n",
       "      <td>Киностудия \"Мосфильм\"</td>\n",
       "      <td>СССР</td>\n",
       "      <td>Е.Матвеев</td>\n",
       "      <td>NaN</td>\n",
       "      <td>«6+»</td>\n",
       "      <td>NaN</td>\n",
       "      <td>NaN</td>\n",
       "      <td>NaN</td>\n",
       "      <td>NaN</td>\n",
       "      <td>6.6</td>\n",
       "      <td>драма,военный</td>\n",
       "      <td>NaN</td>\n",
       "    </tr>\n",
       "    <tr>\n",
       "      <th>3</th>\n",
       "      <td>Остановился поезд</td>\n",
       "      <td>111013816</td>\n",
       "      <td>2016-09-13</td>\n",
       "      <td>Художественный</td>\n",
       "      <td>Киностудия \"Мосфильм\"</td>\n",
       "      <td>СССР</td>\n",
       "      <td>В.Абдрашитов</td>\n",
       "      <td>NaN</td>\n",
       "      <td>«6+»</td>\n",
       "      <td>NaN</td>\n",
       "      <td>NaN</td>\n",
       "      <td>NaN</td>\n",
       "      <td>NaN</td>\n",
       "      <td>7.7</td>\n",
       "      <td>драма</td>\n",
       "      <td>NaN</td>\n",
       "    </tr>\n",
       "    <tr>\n",
       "      <th>4</th>\n",
       "      <td>Любовь и голуби</td>\n",
       "      <td>111007013</td>\n",
       "      <td>2013-10-18</td>\n",
       "      <td>Художественный</td>\n",
       "      <td>Киностудия \"Мосфильм\"</td>\n",
       "      <td>СССР</td>\n",
       "      <td>В.Меньшов</td>\n",
       "      <td>NaN</td>\n",
       "      <td>«12+»</td>\n",
       "      <td>NaN</td>\n",
       "      <td>NaN</td>\n",
       "      <td>NaN</td>\n",
       "      <td>NaN</td>\n",
       "      <td>8.3</td>\n",
       "      <td>мелодрама,комедия</td>\n",
       "      <td>3.0</td>\n",
       "    </tr>\n",
       "    <tr>\n",
       "      <th>7</th>\n",
       "      <td>Отпуск за свой счет</td>\n",
       "      <td>111019114</td>\n",
       "      <td>2014-12-01</td>\n",
       "      <td>Художественный</td>\n",
       "      <td>Киностудия \"Мосфильм\", Телевидение ВНР</td>\n",
       "      <td>СССР, Венгрия</td>\n",
       "      <td>В.Титов</td>\n",
       "      <td>NaN</td>\n",
       "      <td>«12+»</td>\n",
       "      <td>NaN</td>\n",
       "      <td>NaN</td>\n",
       "      <td>NaN</td>\n",
       "      <td>NaN</td>\n",
       "      <td>7.8</td>\n",
       "      <td>мелодрама,комедия</td>\n",
       "      <td>NaN</td>\n",
       "    </tr>\n",
       "    <tr>\n",
       "      <th>9</th>\n",
       "      <td>Ответный ход</td>\n",
       "      <td>111019014</td>\n",
       "      <td>2014-12-01</td>\n",
       "      <td>Художественный</td>\n",
       "      <td>Киностудия \"Мосфильм\"</td>\n",
       "      <td>СССР</td>\n",
       "      <td>М.Туманишвили</td>\n",
       "      <td>NaN</td>\n",
       "      <td>«12+»</td>\n",
       "      <td>NaN</td>\n",
       "      <td>NaN</td>\n",
       "      <td>NaN</td>\n",
       "      <td>NaN</td>\n",
       "      <td>7.8</td>\n",
       "      <td>боевик,драма,приключения</td>\n",
       "      <td>NaN</td>\n",
       "    </tr>\n",
       "    <tr>\n",
       "      <th>...</th>\n",
       "      <td>...</td>\n",
       "      <td>...</td>\n",
       "      <td>...</td>\n",
       "      <td>...</td>\n",
       "      <td>...</td>\n",
       "      <td>...</td>\n",
       "      <td>...</td>\n",
       "      <td>...</td>\n",
       "      <td>...</td>\n",
       "      <td>...</td>\n",
       "      <td>...</td>\n",
       "      <td>...</td>\n",
       "      <td>...</td>\n",
       "      <td>...</td>\n",
       "      <td>...</td>\n",
       "      <td>...</td>\n",
       "    </tr>\n",
       "    <tr>\n",
       "      <th>6834</th>\n",
       "      <td>Отряд специального назначения</td>\n",
       "      <td>111020419</td>\n",
       "      <td>2019-12-01</td>\n",
       "      <td>Художественный</td>\n",
       "      <td>Свердловская киностудия</td>\n",
       "      <td>СССР</td>\n",
       "      <td>Г.Кузнецов</td>\n",
       "      <td>NaN</td>\n",
       "      <td>«6+»</td>\n",
       "      <td>NaN</td>\n",
       "      <td>NaN</td>\n",
       "      <td>NaN</td>\n",
       "      <td>NaN</td>\n",
       "      <td>7.0</td>\n",
       "      <td>приключения,военный</td>\n",
       "      <td>NaN</td>\n",
       "    </tr>\n",
       "    <tr>\n",
       "      <th>6835</th>\n",
       "      <td>Назначаешься внучкой</td>\n",
       "      <td>111020519</td>\n",
       "      <td>2019-12-01</td>\n",
       "      <td>Художественный</td>\n",
       "      <td>Свердловская киностудия</td>\n",
       "      <td>СССР</td>\n",
       "      <td>Я.Лапшин</td>\n",
       "      <td>NaN</td>\n",
       "      <td>«12+»</td>\n",
       "      <td>NaN</td>\n",
       "      <td>NaN</td>\n",
       "      <td>NaN</td>\n",
       "      <td>NaN</td>\n",
       "      <td>7.0</td>\n",
       "      <td>военный</td>\n",
       "      <td>NaN</td>\n",
       "    </tr>\n",
       "    <tr>\n",
       "      <th>6836</th>\n",
       "      <td>Перед рассветом</td>\n",
       "      <td>111020619</td>\n",
       "      <td>2019-12-01</td>\n",
       "      <td>Художественный</td>\n",
       "      <td>Свердловская киностудия</td>\n",
       "      <td>СССР</td>\n",
       "      <td>Я.Лапшин</td>\n",
       "      <td>NaN</td>\n",
       "      <td>«16+»</td>\n",
       "      <td>NaN</td>\n",
       "      <td>NaN</td>\n",
       "      <td>NaN</td>\n",
       "      <td>NaN</td>\n",
       "      <td>7.9</td>\n",
       "      <td>драма,мелодрама</td>\n",
       "      <td>NaN</td>\n",
       "    </tr>\n",
       "    <tr>\n",
       "      <th>6837</th>\n",
       "      <td>Ты помнишь</td>\n",
       "      <td>111020719</td>\n",
       "      <td>2019-12-01</td>\n",
       "      <td>Художественный</td>\n",
       "      <td>Свердловская киностудия</td>\n",
       "      <td>СССР</td>\n",
       "      <td>О.Николаевский</td>\n",
       "      <td>NaN</td>\n",
       "      <td>«12+»</td>\n",
       "      <td>NaN</td>\n",
       "      <td>NaN</td>\n",
       "      <td>NaN</td>\n",
       "      <td>NaN</td>\n",
       "      <td>7.0</td>\n",
       "      <td>драма,мелодрама,военный</td>\n",
       "      <td>NaN</td>\n",
       "    </tr>\n",
       "    <tr>\n",
       "      <th>6838</th>\n",
       "      <td>Здесь твой фронт</td>\n",
       "      <td>111020819</td>\n",
       "      <td>2019-12-01</td>\n",
       "      <td>Художественный</td>\n",
       "      <td>Свердловская киностудия</td>\n",
       "      <td>СССР</td>\n",
       "      <td>Э.Гаврилов</td>\n",
       "      <td>NaN</td>\n",
       "      <td>«16+»</td>\n",
       "      <td>NaN</td>\n",
       "      <td>NaN</td>\n",
       "      <td>NaN</td>\n",
       "      <td>NaN</td>\n",
       "      <td>5.8</td>\n",
       "      <td>драма,военный</td>\n",
       "      <td>NaN</td>\n",
       "    </tr>\n",
       "  </tbody>\n",
       "</table>\n",
       "<p>559 rows × 16 columns</p>\n",
       "</div>"
      ],
      "text/plain": [
       "                              title  pu_number show_start_date  \\\n",
       "1              Особо важное задание  111013716      2016-09-13   \n",
       "3                 Остановился поезд  111013816      2016-09-13   \n",
       "4                   Любовь и голуби  111007013      2013-10-18   \n",
       "7               Отпуск за свой счет  111019114      2014-12-01   \n",
       "9                      Ответный ход  111019014      2014-12-01   \n",
       "...                             ...        ...             ...   \n",
       "6834  Отряд специального назначения  111020419      2019-12-01   \n",
       "6835           Назначаешься внучкой  111020519      2019-12-01   \n",
       "6836                Перед рассветом  111020619      2019-12-01   \n",
       "6837                     Ты помнишь  111020719      2019-12-01   \n",
       "6838               Здесь твой фронт  111020819      2019-12-01   \n",
       "\n",
       "                type                             film_studio  \\\n",
       "1     Художественный                   Киностудия \"Мосфильм\"   \n",
       "3     Художественный                   Киностудия \"Мосфильм\"   \n",
       "4     Художественный                   Киностудия \"Мосфильм\"   \n",
       "7     Художественный  Киностудия \"Мосфильм\", Телевидение ВНР   \n",
       "9     Художественный                   Киностудия \"Мосфильм\"   \n",
       "...              ...                                     ...   \n",
       "6834  Художественный                 Свердловская киностудия   \n",
       "6835  Художественный                 Свердловская киностудия   \n",
       "6836  Художественный                 Свердловская киностудия   \n",
       "6837  Художественный                 Свердловская киностудия   \n",
       "6838  Художественный                 Свердловская киностудия   \n",
       "\n",
       "     production_country        director producer age_restriction  \\\n",
       "1                  СССР       Е.Матвеев      NaN            «6+»   \n",
       "3                  СССР    В.Абдрашитов      NaN            «6+»   \n",
       "4                  СССР       В.Меньшов      NaN           «12+»   \n",
       "7         СССР, Венгрия         В.Титов      NaN           «12+»   \n",
       "9                  СССР   М.Туманишвили      NaN           «12+»   \n",
       "...                 ...             ...      ...             ...   \n",
       "6834               СССР      Г.Кузнецов      NaN            «6+»   \n",
       "6835               СССР        Я.Лапшин      NaN           «12+»   \n",
       "6836               СССР        Я.Лапшин      NaN           «16+»   \n",
       "6837               СССР  О.Николаевский      NaN           «12+»   \n",
       "6838               СССР      Э.Гаврилов      NaN           «16+»   \n",
       "\n",
       "      refundable_support  nonrefundable_support  budget financing_source  \\\n",
       "1                    NaN                    NaN     NaN              NaN   \n",
       "3                    NaN                    NaN     NaN              NaN   \n",
       "4                    NaN                    NaN     NaN              NaN   \n",
       "7                    NaN                    NaN     NaN              NaN   \n",
       "9                    NaN                    NaN     NaN              NaN   \n",
       "...                  ...                    ...     ...              ...   \n",
       "6834                 NaN                    NaN     NaN              NaN   \n",
       "6835                 NaN                    NaN     NaN              NaN   \n",
       "6836                 NaN                    NaN     NaN              NaN   \n",
       "6837                 NaN                    NaN     NaN              NaN   \n",
       "6838                 NaN                    NaN     NaN              NaN   \n",
       "\n",
       "      ratings                    genres  box_office  \n",
       "1         6.6             драма,военный         NaN  \n",
       "3         7.7                     драма         NaN  \n",
       "4         8.3         мелодрама,комедия         3.0  \n",
       "7         7.8         мелодрама,комедия         NaN  \n",
       "9         7.8  боевик,драма,приключения         NaN  \n",
       "...       ...                       ...         ...  \n",
       "6834      7.0       приключения,военный         NaN  \n",
       "6835      7.0                   военный         NaN  \n",
       "6836      7.9           драма,мелодрама         NaN  \n",
       "6837      7.0   драма,мелодрама,военный         NaN  \n",
       "6838      5.8             драма,военный         NaN  \n",
       "\n",
       "[559 rows x 16 columns]"
      ]
     },
     "execution_count": 26,
     "metadata": {},
     "output_type": "execute_result"
    }
   ],
   "source": [
    "data_union.query('producer.isna()')"
   ]
  },
  {
   "cell_type": "code",
   "execution_count": 27,
   "id": "1d398feb-7335-41eb-b195-4999de771fc9",
   "metadata": {},
   "outputs": [
    {
     "data": {
      "text/html": [
       "<div>\n",
       "<style scoped>\n",
       "    .dataframe tbody tr th:only-of-type {\n",
       "        vertical-align: middle;\n",
       "    }\n",
       "\n",
       "    .dataframe tbody tr th {\n",
       "        vertical-align: top;\n",
       "    }\n",
       "\n",
       "    .dataframe thead th {\n",
       "        text-align: right;\n",
       "    }\n",
       "</style>\n",
       "<table border=\"1\" class=\"dataframe\">\n",
       "  <thead>\n",
       "    <tr style=\"text-align: right;\">\n",
       "      <th></th>\n",
       "      <th>pu_number</th>\n",
       "    </tr>\n",
       "    <tr>\n",
       "      <th>production_country</th>\n",
       "      <th></th>\n",
       "    </tr>\n",
       "  </thead>\n",
       "  <tbody>\n",
       "    <tr>\n",
       "      <th>СССР, Албания</th>\n",
       "      <td>1</td>\n",
       "    </tr>\n",
       "    <tr>\n",
       "      <th>Россия, Казахстан, США</th>\n",
       "      <td>1</td>\n",
       "    </tr>\n",
       "    <tr>\n",
       "      <th>Румыния, ЮАР, Иран, Франция, Канада, Великобритания</th>\n",
       "      <td>1</td>\n",
       "    </tr>\n",
       "    <tr>\n",
       "      <th>Франция-Австралия</th>\n",
       "      <td>1</td>\n",
       "    </tr>\n",
       "    <tr>\n",
       "      <th>СССР - Швейцария - Франция</th>\n",
       "      <td>1</td>\n",
       "    </tr>\n",
       "    <tr>\n",
       "      <th>...</th>\n",
       "      <td>...</td>\n",
       "    </tr>\n",
       "    <tr>\n",
       "      <th>Италия</th>\n",
       "      <td>17</td>\n",
       "    </tr>\n",
       "    <tr>\n",
       "      <th>США</th>\n",
       "      <td>21</td>\n",
       "    </tr>\n",
       "    <tr>\n",
       "      <th>Великобритания</th>\n",
       "      <td>33</td>\n",
       "    </tr>\n",
       "    <tr>\n",
       "      <th>Россия</th>\n",
       "      <td>38</td>\n",
       "    </tr>\n",
       "    <tr>\n",
       "      <th>СССР</th>\n",
       "      <td>370</td>\n",
       "    </tr>\n",
       "  </tbody>\n",
       "</table>\n",
       "<p>61 rows × 1 columns</p>\n",
       "</div>"
      ],
      "text/plain": [
       "                                                    pu_number\n",
       "production_country                                           \n",
       "СССР, Албания                                               1\n",
       "Россия, Казахстан, США                                      1\n",
       "Румыния, ЮАР, Иран, Франция, Канада, Великобрит...          1\n",
       "Франция-Австралия                                           1\n",
       "СССР - Швейцария - Франция                                  1\n",
       "...                                                       ...\n",
       "Италия                                                     17\n",
       "США                                                        21\n",
       "Великобритания                                             33\n",
       "Россия                                                     38\n",
       "СССР                                                      370\n",
       "\n",
       "[61 rows x 1 columns]"
      ]
     },
     "execution_count": 27,
     "metadata": {},
     "output_type": "execute_result"
    }
   ],
   "source": [
    "data_union.query('producer.isna()').pivot_table(\n",
    "    index='production_country', values='pu_number', aggfunc='count'\n",
    ").sort_values(by='pu_number')"
   ]
  },
  {
   "cell_type": "markdown",
   "id": "469e5438-17c0-4bcb-bd47-959593e8677f",
   "metadata": {},
   "source": [
    "На СССР приходится наибольшее кол-во пропусков в части продюсеров, но тем не менее не представляется возможным заполнить пропуски. Заполняем пропуски значением \"прочие\""
   ]
  },
  {
   "cell_type": "code",
   "execution_count": 28,
   "id": "01b257a5-e222-47bf-8887-b63cee3f3c3d",
   "metadata": {},
   "outputs": [
    {
     "data": {
      "text/plain": [
       "0"
      ]
     },
     "execution_count": 28,
     "metadata": {},
     "output_type": "execute_result"
    }
   ],
   "source": [
    "data_union.loc[data_union['producer'].isna(), 'producer'] = 'прочие'\n",
    "data_union['producer'].isna().sum()"
   ]
  },
  {
   "cell_type": "markdown",
   "id": "b939a680-043b-4fa6-97a2-aff86ae210eb",
   "metadata": {},
   "source": [
    "#### genres"
   ]
  },
  {
   "cell_type": "code",
   "execution_count": 29,
   "id": "36143d1e-a080-4341-939e-4ad1cf5163ef",
   "metadata": {},
   "outputs": [
    {
     "data": {
      "text/html": [
       "<div>\n",
       "<style scoped>\n",
       "    .dataframe tbody tr th:only-of-type {\n",
       "        vertical-align: middle;\n",
       "    }\n",
       "\n",
       "    .dataframe tbody tr th {\n",
       "        vertical-align: top;\n",
       "    }\n",
       "\n",
       "    .dataframe thead th {\n",
       "        text-align: right;\n",
       "    }\n",
       "</style>\n",
       "<table border=\"1\" class=\"dataframe\">\n",
       "  <thead>\n",
       "    <tr style=\"text-align: right;\">\n",
       "      <th></th>\n",
       "      <th>title</th>\n",
       "      <th>pu_number</th>\n",
       "      <th>show_start_date</th>\n",
       "      <th>type</th>\n",
       "      <th>film_studio</th>\n",
       "      <th>production_country</th>\n",
       "      <th>director</th>\n",
       "      <th>producer</th>\n",
       "      <th>age_restriction</th>\n",
       "      <th>refundable_support</th>\n",
       "      <th>nonrefundable_support</th>\n",
       "      <th>budget</th>\n",
       "      <th>financing_source</th>\n",
       "      <th>ratings</th>\n",
       "      <th>genres</th>\n",
       "      <th>box_office</th>\n",
       "    </tr>\n",
       "  </thead>\n",
       "  <tbody>\n",
       "    <tr>\n",
       "      <th>40</th>\n",
       "      <td>Мемуары гейши (по роману Артура Голдена)</td>\n",
       "      <td>121000606</td>\n",
       "      <td>2012-12-14</td>\n",
       "      <td>Художественный</td>\n",
       "      <td>Коламбия Пикчерз Корпорейшн, ДримУоркс ЭсКейДж...</td>\n",
       "      <td>США</td>\n",
       "      <td>Роб Маршалл</td>\n",
       "      <td>Стивен Спилберг, Люси Фишер, Дуглас Уик, Джон ...</td>\n",
       "      <td>«12+»</td>\n",
       "      <td>NaN</td>\n",
       "      <td>NaN</td>\n",
       "      <td>NaN</td>\n",
       "      <td>NaN</td>\n",
       "      <td>NaN</td>\n",
       "      <td>NaN</td>\n",
       "      <td>NaN</td>\n",
       "    </tr>\n",
       "    <tr>\n",
       "      <th>146</th>\n",
       "      <td>Жди меня</td>\n",
       "      <td>111013615</td>\n",
       "      <td>2015-08-25</td>\n",
       "      <td>Художественный</td>\n",
       "      <td>Киностудия \"Мосфильм\"</td>\n",
       "      <td>СССР</td>\n",
       "      <td>А.Столпер, Б.Иванов</td>\n",
       "      <td>прочие</td>\n",
       "      <td>«6+»</td>\n",
       "      <td>NaN</td>\n",
       "      <td>NaN</td>\n",
       "      <td>NaN</td>\n",
       "      <td>NaN</td>\n",
       "      <td>NaN</td>\n",
       "      <td>NaN</td>\n",
       "      <td>NaN</td>\n",
       "    </tr>\n",
       "    <tr>\n",
       "      <th>150</th>\n",
       "      <td>Дом из песка и тумана (по книге Андре Дюбуи III)</td>\n",
       "      <td>221037813</td>\n",
       "      <td>2013-10-25</td>\n",
       "      <td>Художественный</td>\n",
       "      <td>Кобальт Пикчерз</td>\n",
       "      <td>США</td>\n",
       "      <td>Вадим Перельман</td>\n",
       "      <td>Майкл Лондон</td>\n",
       "      <td>«16+»</td>\n",
       "      <td>NaN</td>\n",
       "      <td>NaN</td>\n",
       "      <td>NaN</td>\n",
       "      <td>NaN</td>\n",
       "      <td>NaN</td>\n",
       "      <td>NaN</td>\n",
       "      <td>NaN</td>\n",
       "    </tr>\n",
       "    <tr>\n",
       "      <th>155</th>\n",
       "      <td>Жемчужная девушка</td>\n",
       "      <td>224011014</td>\n",
       "      <td>2014-08-28</td>\n",
       "      <td>Художественный</td>\n",
       "      <td>Чешское телевидение,Студия \"Три брата\" агентск...</td>\n",
       "      <td>Чехия</td>\n",
       "      <td>Владимир Дрга</td>\n",
       "      <td>прочие</td>\n",
       "      <td>«0+»</td>\n",
       "      <td>NaN</td>\n",
       "      <td>NaN</td>\n",
       "      <td>NaN</td>\n",
       "      <td>NaN</td>\n",
       "      <td>NaN</td>\n",
       "      <td>NaN</td>\n",
       "      <td>NaN</td>\n",
       "    </tr>\n",
       "    <tr>\n",
       "      <th>222</th>\n",
       "      <td>Полустанок</td>\n",
       "      <td>111026714</td>\n",
       "      <td>2014-12-24</td>\n",
       "      <td>Художественный</td>\n",
       "      <td>Киностудия \"Мосфильм\"</td>\n",
       "      <td>СССР</td>\n",
       "      <td>Б.Барнет</td>\n",
       "      <td>прочие</td>\n",
       "      <td>«12+»</td>\n",
       "      <td>NaN</td>\n",
       "      <td>NaN</td>\n",
       "      <td>NaN</td>\n",
       "      <td>NaN</td>\n",
       "      <td>NaN</td>\n",
       "      <td>NaN</td>\n",
       "      <td>NaN</td>\n",
       "    </tr>\n",
       "    <tr>\n",
       "      <th>...</th>\n",
       "      <td>...</td>\n",
       "      <td>...</td>\n",
       "      <td>...</td>\n",
       "      <td>...</td>\n",
       "      <td>...</td>\n",
       "      <td>...</td>\n",
       "      <td>...</td>\n",
       "      <td>...</td>\n",
       "      <td>...</td>\n",
       "      <td>...</td>\n",
       "      <td>...</td>\n",
       "      <td>...</td>\n",
       "      <td>...</td>\n",
       "      <td>...</td>\n",
       "      <td>...</td>\n",
       "      <td>...</td>\n",
       "    </tr>\n",
       "    <tr>\n",
       "      <th>6906</th>\n",
       "      <td>Эколав</td>\n",
       "      <td>111023219</td>\n",
       "      <td>2019-12-26</td>\n",
       "      <td>Художественный</td>\n",
       "      <td>ВГИК</td>\n",
       "      <td>Россия</td>\n",
       "      <td>Д.Григорьев</td>\n",
       "      <td>ВГИК</td>\n",
       "      <td>«18+»</td>\n",
       "      <td>NaN</td>\n",
       "      <td>NaN</td>\n",
       "      <td>NaN</td>\n",
       "      <td>NaN</td>\n",
       "      <td>NaN</td>\n",
       "      <td>NaN</td>\n",
       "      <td>NaN</td>\n",
       "    </tr>\n",
       "    <tr>\n",
       "      <th>6907</th>\n",
       "      <td>Акрам Хан: Родом из Карри Хауса</td>\n",
       "      <td>126007919</td>\n",
       "      <td>2019-12-23</td>\n",
       "      <td>Прочие</td>\n",
       "      <td>Свон Филмз</td>\n",
       "      <td>Великобритания</td>\n",
       "      <td>Ник Пойнц</td>\n",
       "      <td>Поппи Бегум, Ник Пойнц</td>\n",
       "      <td>«12+»</td>\n",
       "      <td>NaN</td>\n",
       "      <td>NaN</td>\n",
       "      <td>NaN</td>\n",
       "      <td>NaN</td>\n",
       "      <td>NaN</td>\n",
       "      <td>NaN</td>\n",
       "      <td>220.0</td>\n",
       "    </tr>\n",
       "    <tr>\n",
       "      <th>6908</th>\n",
       "      <td>Сад художника: Американский импрессионизм</td>\n",
       "      <td>126008019</td>\n",
       "      <td>2019-12-23</td>\n",
       "      <td>Прочие</td>\n",
       "      <td>Севен Артс Продакшнз</td>\n",
       "      <td>Великобритания</td>\n",
       "      <td>Фил Грабски</td>\n",
       "      <td>Фил Грабски</td>\n",
       "      <td>«12+»</td>\n",
       "      <td>NaN</td>\n",
       "      <td>NaN</td>\n",
       "      <td>NaN</td>\n",
       "      <td>NaN</td>\n",
       "      <td>NaN</td>\n",
       "      <td>NaN</td>\n",
       "      <td>NaN</td>\n",
       "    </tr>\n",
       "    <tr>\n",
       "      <th>6910</th>\n",
       "      <td>Щенячий патруль: Скорей спешим на помощь!</td>\n",
       "      <td>124010819</td>\n",
       "      <td>2019-12-28</td>\n",
       "      <td>Художественный</td>\n",
       "      <td>Никелодеон Анимейшн Студиос, Спин Мастер</td>\n",
       "      <td>США - Канада</td>\n",
       "      <td>Чарльз Е.Бастьен</td>\n",
       "      <td>Дженнифер Додж</td>\n",
       "      <td>«0+»</td>\n",
       "      <td>NaN</td>\n",
       "      <td>NaN</td>\n",
       "      <td>NaN</td>\n",
       "      <td>NaN</td>\n",
       "      <td>NaN</td>\n",
       "      <td>NaN</td>\n",
       "      <td>NaN</td>\n",
       "    </tr>\n",
       "    <tr>\n",
       "      <th>6911</th>\n",
       "      <td>Машины песенки. Серия \"Испанские мотивы\"</td>\n",
       "      <td>124010619</td>\n",
       "      <td>2019-12-30</td>\n",
       "      <td>Анимационный</td>\n",
       "      <td>Анимаккорд Лтд., ООО Студия \"АНИМАККОРД\"</td>\n",
       "      <td>Республика Кипр, Россия</td>\n",
       "      <td>А.Беляев</td>\n",
       "      <td>Д.Ловейко</td>\n",
       "      <td>«0+»</td>\n",
       "      <td>NaN</td>\n",
       "      <td>NaN</td>\n",
       "      <td>NaN</td>\n",
       "      <td>NaN</td>\n",
       "      <td>NaN</td>\n",
       "      <td>NaN</td>\n",
       "      <td>NaN</td>\n",
       "    </tr>\n",
       "  </tbody>\n",
       "</table>\n",
       "<p>964 rows × 16 columns</p>\n",
       "</div>"
      ],
      "text/plain": [
       "                                                 title  pu_number  \\\n",
       "40            Мемуары гейши (по роману Артура Голдена)  121000606   \n",
       "146                                           Жди меня  111013615   \n",
       "150   Дом из песка и тумана (по книге Андре Дюбуи III)  221037813   \n",
       "155                                  Жемчужная девушка  224011014   \n",
       "222                                         Полустанок  111026714   \n",
       "...                                                ...        ...   \n",
       "6906                                            Эколав  111023219   \n",
       "6907                   Акрам Хан: Родом из Карри Хауса  126007919   \n",
       "6908         Сад художника: Американский импрессионизм  126008019   \n",
       "6910         Щенячий патруль: Скорей спешим на помощь!  124010819   \n",
       "6911          Машины песенки. Серия \"Испанские мотивы\"  124010619   \n",
       "\n",
       "     show_start_date            type  \\\n",
       "40        2012-12-14  Художественный   \n",
       "146       2015-08-25  Художественный   \n",
       "150       2013-10-25  Художественный   \n",
       "155       2014-08-28  Художественный   \n",
       "222       2014-12-24  Художественный   \n",
       "...              ...             ...   \n",
       "6906      2019-12-26  Художественный   \n",
       "6907      2019-12-23          Прочие   \n",
       "6908      2019-12-23          Прочие   \n",
       "6910      2019-12-28  Художественный   \n",
       "6911      2019-12-30    Анимационный   \n",
       "\n",
       "                                            film_studio  \\\n",
       "40    Коламбия Пикчерз Корпорейшн, ДримУоркс ЭсКейДж...   \n",
       "146                               Киностудия \"Мосфильм\"   \n",
       "150                                     Кобальт Пикчерз   \n",
       "155   Чешское телевидение,Студия \"Три брата\" агентск...   \n",
       "222                               Киностудия \"Мосфильм\"   \n",
       "...                                                 ...   \n",
       "6906                                               ВГИК   \n",
       "6907                                         Свон Филмз   \n",
       "6908                               Севен Артс Продакшнз   \n",
       "6910           Никелодеон Анимейшн Студиос, Спин Мастер   \n",
       "6911           Анимаккорд Лтд., ООО Студия \"АНИМАККОРД\"   \n",
       "\n",
       "           production_country             director  \\\n",
       "40                        США          Роб Маршалл   \n",
       "146                      СССР  А.Столпер, Б.Иванов   \n",
       "150                       США      Вадим Перельман   \n",
       "155                     Чехия        Владимир Дрга   \n",
       "222                      СССР             Б.Барнет   \n",
       "...                       ...                  ...   \n",
       "6906                   Россия          Д.Григорьев   \n",
       "6907           Великобритания            Ник Пойнц   \n",
       "6908           Великобритания          Фил Грабски   \n",
       "6910             США - Канада     Чарльз Е.Бастьен   \n",
       "6911  Республика Кипр, Россия             А.Беляев   \n",
       "\n",
       "                                               producer age_restriction  \\\n",
       "40    Стивен Спилберг, Люси Фишер, Дуглас Уик, Джон ...           «12+»   \n",
       "146                                              прочие            «6+»   \n",
       "150                                        Майкл Лондон           «16+»   \n",
       "155                                              прочие            «0+»   \n",
       "222                                              прочие           «12+»   \n",
       "...                                                 ...             ...   \n",
       "6906                                               ВГИК           «18+»   \n",
       "6907                             Поппи Бегум, Ник Пойнц           «12+»   \n",
       "6908                                        Фил Грабски           «12+»   \n",
       "6910                                     Дженнифер Додж            «0+»   \n",
       "6911                                          Д.Ловейко            «0+»   \n",
       "\n",
       "      refundable_support  nonrefundable_support  budget financing_source  \\\n",
       "40                   NaN                    NaN     NaN              NaN   \n",
       "146                  NaN                    NaN     NaN              NaN   \n",
       "150                  NaN                    NaN     NaN              NaN   \n",
       "155                  NaN                    NaN     NaN              NaN   \n",
       "222                  NaN                    NaN     NaN              NaN   \n",
       "...                  ...                    ...     ...              ...   \n",
       "6906                 NaN                    NaN     NaN              NaN   \n",
       "6907                 NaN                    NaN     NaN              NaN   \n",
       "6908                 NaN                    NaN     NaN              NaN   \n",
       "6910                 NaN                    NaN     NaN              NaN   \n",
       "6911                 NaN                    NaN     NaN              NaN   \n",
       "\n",
       "      ratings genres  box_office  \n",
       "40        NaN    NaN         NaN  \n",
       "146       NaN    NaN         NaN  \n",
       "150       NaN    NaN         NaN  \n",
       "155       NaN    NaN         NaN  \n",
       "222       NaN    NaN         NaN  \n",
       "...       ...    ...         ...  \n",
       "6906      NaN    NaN         NaN  \n",
       "6907      NaN    NaN       220.0  \n",
       "6908      NaN    NaN         NaN  \n",
       "6910      NaN    NaN         NaN  \n",
       "6911      NaN    NaN         NaN  \n",
       "\n",
       "[964 rows x 16 columns]"
      ]
     },
     "metadata": {},
     "output_type": "display_data"
    }
   ],
   "source": [
    "display(data_union.query('genres.isna()'))"
   ]
  },
  {
   "cell_type": "markdown",
   "id": "b5bfc1ae-38ae-4fed-ae39-1d4b5008ec48",
   "metadata": {},
   "source": [
    "Массив данных слишком большой для заполнения вручную. Напишем в адрес заказчика, чтобы предоставляли более качественные данные."
   ]
  },
  {
   "cell_type": "markdown",
   "id": "a42375f7-f79c-444f-b1c9-75efddfa254a",
   "metadata": {},
   "source": [
    "Заполним пропуски значениями \"прочие\""
   ]
  },
  {
   "cell_type": "code",
   "execution_count": 30,
   "id": "1bcdefca-0d52-4ff1-b057-852cc3c55195",
   "metadata": {},
   "outputs": [
    {
     "data": {
      "text/plain": [
       "0"
      ]
     },
     "execution_count": 30,
     "metadata": {},
     "output_type": "execute_result"
    }
   ],
   "source": [
    "data_union.loc[data_union['genres'].isna(), 'genres'] = 'прочие'\n",
    "data_union['genres'].isna().sum()"
   ]
  },
  {
   "cell_type": "code",
   "execution_count": 31,
   "id": "fd5c0123-6c78-4f16-a2e5-42c7bee362b2",
   "metadata": {
    "scrolled": true
   },
   "outputs": [
    {
     "name": "stdout",
     "output_type": "stream",
     "text": [
      "<class 'pandas.core.frame.DataFrame'>\n",
      "Index: 6884 entries, 0 to 6912\n",
      "Data columns (total 16 columns):\n",
      " #   Column                 Non-Null Count  Dtype         \n",
      "---  ------                 --------------  -----         \n",
      " 0   title                  6884 non-null   object        \n",
      " 1   pu_number              6884 non-null   object        \n",
      " 2   show_start_date        6884 non-null   datetime64[ns]\n",
      " 3   type                   6884 non-null   object        \n",
      " 4   film_studio            6884 non-null   object        \n",
      " 5   production_country     6884 non-null   object        \n",
      " 6   director               6884 non-null   object        \n",
      " 7   producer               6884 non-null   object        \n",
      " 8   age_restriction        6884 non-null   object        \n",
      " 9   refundable_support     330 non-null    float64       \n",
      " 10  nonrefundable_support  330 non-null    float64       \n",
      " 11  budget                 330 non-null    float64       \n",
      " 12  financing_source       330 non-null    object        \n",
      " 13  ratings                5926 non-null   float64       \n",
      " 14  genres                 6884 non-null   object        \n",
      " 15  box_office             3143 non-null   float64       \n",
      "dtypes: datetime64[ns](1), float64(5), object(10)\n",
      "memory usage: 914.3+ KB\n"
     ]
    }
   ],
   "source": [
    "data_union.info()"
   ]
  },
  {
   "cell_type": "markdown",
   "id": "bd684dad-8f1b-4dea-894a-bf13ad881c20",
   "metadata": {},
   "source": [
    "## Строим гисторгаммы по количественным данным. Ищем аномальные значения"
   ]
  },
  {
   "cell_type": "code",
   "execution_count": 32,
   "id": "82563d73-74d2-4a48-94fa-7bf90695d17b",
   "metadata": {},
   "outputs": [
    {
     "data": {
      "image/png": "[encoded data removed]",
      "text/plain": [
       "<Figure size 400x300 with 1 Axes>"
      ]
     },
     "metadata": {},
     "output_type": "display_data"
    }
   ],
   "source": [
    "data_union['refundable_support'].hist(figsize=(4,3),bins=50)\n",
    "plt.ylabel('Кол-во фильмов, шт.')\n",
    "plt.xlabel('Объем возвратных средств, шт.')\n",
    "plt.show()"
   ]
  },
  {
   "cell_type": "code",
   "execution_count": 33,
   "id": "82e88ec7-c6a3-4b29-b55c-71256154cba2",
   "metadata": {},
   "outputs": [
    {
     "data": {
      "image/png": "[encoded data removed]",
      "text/plain": [
       "<Figure size 400x300 with 1 Axes>"
      ]
     },
     "metadata": {},
     "output_type": "display_data"
    }
   ],
   "source": [
    "data_union['nonrefundable_support'].hist(figsize=(4,3),bins=50)\n",
    "plt.ylabel('Кол-во фильмов, шт.')\n",
    "plt.xlabel('Объем невозвратных средств, шт.')\n",
    "plt.show()"
   ]
  },
  {
   "cell_type": "code",
   "execution_count": 34,
   "id": "251019d7-7762-414b-974a-1d89a2716ab2",
   "metadata": {},
   "outputs": [
    {
     "data": {
      "image/png": "[encoded data removed]",
      "text/plain": [
       "<Figure size 400x300 with 1 Axes>"
      ]
     },
     "metadata": {},
     "output_type": "display_data"
    }
   ],
   "source": [
    "data_union['budget'].hist(figsize=(4,3),bins=50)\n",
    "plt.ylabel('Кол-во фильмов, шт.')\n",
    "plt.xlabel('Бюджет, млн.руб.')\n",
    "plt.show()"
   ]
  },
  {
   "cell_type": "code",
   "execution_count": 35,
   "id": "0f450cd0-3421-49a6-9b21-98c97673bf6e",
   "metadata": {},
   "outputs": [
    {
     "data": {
      "image/png": "[encoded data removed]",
      "text/plain": [
       "<Figure size 400x300 with 1 Axes>"
      ]
     },
     "metadata": {},
     "output_type": "display_data"
    }
   ],
   "source": [
    "data_union['ratings'].hist(figsize=(4,3),bins=50)\n",
    "plt.ylabel('Кол-во фильмов, шт.')\n",
    "plt.xlabel('Рейтинг фильма')\n",
    "plt.show()"
   ]
  },
  {
   "cell_type": "code",
   "execution_count": 36,
   "id": "db32b201-ab14-410d-abfb-4765725c67c0",
   "metadata": {
    "scrolled": true
   },
   "outputs": [
    {
     "data": {
      "image/png": "[encoded data removed]",
      "text/plain": [
       "<Figure size 400x300 with 1 Axes>"
      ]
     },
     "metadata": {},
     "output_type": "display_data"
    }
   ],
   "source": [
    "data_union['box_office'].hist(figsize=(4,3),bins=50)\n",
    "plt.ylabel('Кол-во фильмов, шт.')\n",
    "plt.xlabel('Кассовые сборы, млн.руб.')\n",
    "plt.show()"
   ]
  },
  {
   "cell_type": "markdown",
   "id": "dd95e45c-8a9f-4c85-a48d-e1f1af8e1c83",
   "metadata": {},
   "source": [
    "По всей видимости есть аномальные значения и это нормально. Единичные фильмы могут приносить больший доход, чем все остальные вместе взятые. \n",
    "В части рейтингов гистограмма приняла почти идеальное нормальное распределение, хотя в целом ретийнгов \"1\" и \"2\" не видел, надо проверить."
   ]
  },
  {
   "cell_type": "code",
   "execution_count": 37,
   "id": "45b8f23a-d5e4-4727-b013-f38f0b7113e1",
   "metadata": {},
   "outputs": [
    {
     "data": {
      "text/html": [
       "<div>\n",
       "<style scoped>\n",
       "    .dataframe tbody tr th:only-of-type {\n",
       "        vertical-align: middle;\n",
       "    }\n",
       "\n",
       "    .dataframe tbody tr th {\n",
       "        vertical-align: top;\n",
       "    }\n",
       "\n",
       "    .dataframe thead th {\n",
       "        text-align: right;\n",
       "    }\n",
       "</style>\n",
       "<table border=\"1\" class=\"dataframe\">\n",
       "  <thead>\n",
       "    <tr style=\"text-align: right;\">\n",
       "      <th></th>\n",
       "      <th>ratings</th>\n",
       "      <th>title</th>\n",
       "      <th>producer</th>\n",
       "    </tr>\n",
       "  </thead>\n",
       "  <tbody>\n",
       "    <tr>\n",
       "      <th>81</th>\n",
       "      <td>2.4</td>\n",
       "      <td>Блондинка и блондинка</td>\n",
       "      <td>Джефри Бармаш, Кирк Шоу</td>\n",
       "    </tr>\n",
       "    <tr>\n",
       "      <th>442</th>\n",
       "      <td>2.6</td>\n",
       "      <td>Тот еще...!</td>\n",
       "      <td>Г.Малков</td>\n",
       "    </tr>\n",
       "    <tr>\n",
       "      <th>450</th>\n",
       "      <td>3.8</td>\n",
       "      <td>901 километр</td>\n",
       "      <td>А.Крутов, Л.Кашин</td>\n",
       "    </tr>\n",
       "    <tr>\n",
       "      <th>489</th>\n",
       "      <td>3.0</td>\n",
       "      <td>Ржевский против Наполеона</td>\n",
       "      <td>ООО \"Квартал Леополис\"</td>\n",
       "    </tr>\n",
       "    <tr>\n",
       "      <th>490</th>\n",
       "      <td>1.6</td>\n",
       "      <td>Ночь в супермаркете</td>\n",
       "      <td>Джордж Джонсен, Лоуренс Казанофф, Элисон Сэвич...</td>\n",
       "    </tr>\n",
       "  </tbody>\n",
       "</table>\n",
       "</div>"
      ],
      "text/plain": [
       "     ratings                      title  \\\n",
       "81       2.4      Блондинка и блондинка   \n",
       "442      2.6                Тот еще...!   \n",
       "450      3.8               901 километр   \n",
       "489      3.0  Ржевский против Наполеона   \n",
       "490      1.6        Ночь в супермаркете   \n",
       "\n",
       "                                              producer  \n",
       "81                             Джефри Бармаш, Кирк Шоу  \n",
       "442                                           Г.Малков  \n",
       "450                                  А.Крутов, Л.Кашин  \n",
       "489                             ООО \"Квартал Леополис\"  \n",
       "490  Джордж Джонсен, Лоуренс Казанофф, Элисон Сэвич...  "
      ]
     },
     "execution_count": 37,
     "metadata": {},
     "output_type": "execute_result"
    }
   ],
   "source": [
    "data_union[['ratings','title','producer']].query('0<ratings<4').head()"
   ]
  },
  {
   "cell_type": "markdown",
   "id": "9eb02a81-0af5-496a-9ab0-63865b5a1011",
   "metadata": {},
   "source": [
    "**Данные корректны**"
   ]
  },
  {
   "cell_type": "code",
   "execution_count": 38,
   "id": "6b5fc5b7",
   "metadata": {},
   "outputs": [
    {
     "data": {
      "text/plain": [
       "count       3,143.0\n",
       "mean       76,671.6\n",
       "std       240,738.0\n",
       "min             0.0\n",
       "25%            88.0\n",
       "50%         2,352.0\n",
       "75%        24,139.0\n",
       "max     3,073,569.0\n",
       "Name: box_office, dtype: float64"
      ]
     },
     "execution_count": 38,
     "metadata": {},
     "output_type": "execute_result"
    }
   ],
   "source": [
    "data_union['box_office'].describe()"
   ]
  },
  {
   "cell_type": "markdown",
   "id": "8aacf7ce-7b59-463d-bc95-bf27183a63f2",
   "metadata": {},
   "source": [
    "### Анализируем фильмы с аномально низкими кассовыми сборами и высокми рейтингом"
   ]
  },
  {
   "cell_type": "code",
   "execution_count": 39,
   "id": "69ce1310-0838-498b-8594-f57e4dcf07c3",
   "metadata": {
    "scrolled": true
   },
   "outputs": [
    {
     "data": {
      "text/html": [
       "<div>\n",
       "<style scoped>\n",
       "    .dataframe tbody tr th:only-of-type {\n",
       "        vertical-align: middle;\n",
       "    }\n",
       "\n",
       "    .dataframe tbody tr th {\n",
       "        vertical-align: top;\n",
       "    }\n",
       "\n",
       "    .dataframe thead th {\n",
       "        text-align: right;\n",
       "    }\n",
       "</style>\n",
       "<table border=\"1\" class=\"dataframe\">\n",
       "  <thead>\n",
       "    <tr style=\"text-align: right;\">\n",
       "      <th></th>\n",
       "      <th>title</th>\n",
       "      <th>pu_number</th>\n",
       "      <th>show_start_date</th>\n",
       "      <th>type</th>\n",
       "      <th>film_studio</th>\n",
       "      <th>production_country</th>\n",
       "      <th>director</th>\n",
       "      <th>producer</th>\n",
       "      <th>age_restriction</th>\n",
       "      <th>refundable_support</th>\n",
       "      <th>nonrefundable_support</th>\n",
       "      <th>budget</th>\n",
       "      <th>financing_source</th>\n",
       "      <th>ratings</th>\n",
       "      <th>genres</th>\n",
       "      <th>box_office</th>\n",
       "    </tr>\n",
       "  </thead>\n",
       "  <tbody>\n",
       "    <tr>\n",
       "      <th>1636</th>\n",
       "      <td>Ромео и Джульетта /По мотивам пьесы У.Шекспира/</td>\n",
       "      <td>121016913</td>\n",
       "      <td>2013-07-03</td>\n",
       "      <td>Художественный</td>\n",
       "      <td>Фэктори Фикшн</td>\n",
       "      <td>Новая Зеландия</td>\n",
       "      <td>Тим ван Даммен</td>\n",
       "      <td>Аластер Карратерс, Майкл А.Дж.О'Нилл</td>\n",
       "      <td>«12+»</td>\n",
       "      <td>NaN</td>\n",
       "      <td>NaN</td>\n",
       "      <td>NaN</td>\n",
       "      <td>NaN</td>\n",
       "      <td>8.2</td>\n",
       "      <td>драма,мелодрама</td>\n",
       "      <td>1.0</td>\n",
       "    </tr>\n",
       "    <tr>\n",
       "      <th>4614</th>\n",
       "      <td>Детский юмористический киножурнал \"Ералаш\". Вы...</td>\n",
       "      <td>111005311</td>\n",
       "      <td>2011-08-08</td>\n",
       "      <td>Художественный</td>\n",
       "      <td>ООО \"Ералаш\"</td>\n",
       "      <td>Россия</td>\n",
       "      <td>В.Панжев, Г.Курлаев, Ф.Кривошеев, М.Сулейманов...</td>\n",
       "      <td>ООО \"Ералаш\"</td>\n",
       "      <td>«0+»</td>\n",
       "      <td>NaN</td>\n",
       "      <td>NaN</td>\n",
       "      <td>NaN</td>\n",
       "      <td>NaN</td>\n",
       "      <td>7.2</td>\n",
       "      <td>детский,комедия</td>\n",
       "      <td>1.0</td>\n",
       "    </tr>\n",
       "    <tr>\n",
       "      <th>2681</th>\n",
       "      <td>Зверополис</td>\n",
       "      <td>224002216</td>\n",
       "      <td>2016-06-07</td>\n",
       "      <td>Анимационный</td>\n",
       "      <td>Уолт Дисней Анимейшн Студиос, Уолт Дисней Пикчерз</td>\n",
       "      <td>США</td>\n",
       "      <td>Рич Мур, Байрон Ховард</td>\n",
       "      <td>Кларк Спенсер</td>\n",
       "      <td>«6+»</td>\n",
       "      <td>NaN</td>\n",
       "      <td>NaN</td>\n",
       "      <td>NaN</td>\n",
       "      <td>NaN</td>\n",
       "      <td>8.3</td>\n",
       "      <td>мультфильм,комедия,криминал</td>\n",
       "      <td>1.0</td>\n",
       "    </tr>\n",
       "    <tr>\n",
       "      <th>260</th>\n",
       "      <td>Раба любви</td>\n",
       "      <td>111007713</td>\n",
       "      <td>2013-10-18</td>\n",
       "      <td>Художественный</td>\n",
       "      <td>Киностудия \"Мосфильм\"</td>\n",
       "      <td>СССР</td>\n",
       "      <td>Н.Михалков</td>\n",
       "      <td>прочие</td>\n",
       "      <td>«12+»</td>\n",
       "      <td>NaN</td>\n",
       "      <td>NaN</td>\n",
       "      <td>NaN</td>\n",
       "      <td>NaN</td>\n",
       "      <td>7.7</td>\n",
       "      <td>драма,мелодрама,комедия</td>\n",
       "      <td>1.0</td>\n",
       "    </tr>\n",
       "    <tr>\n",
       "      <th>4570</th>\n",
       "      <td>Один день-</td>\n",
       "      <td>121014911</td>\n",
       "      <td>2011-08-10</td>\n",
       "      <td>Художественный</td>\n",
       "      <td>Колор Форс, Филм Фор, Рандом Хаус Филмз</td>\n",
       "      <td>США</td>\n",
       "      <td>Лоне Шерфиг</td>\n",
       "      <td>Нина Джейкобсон</td>\n",
       "      <td>«16+»</td>\n",
       "      <td>NaN</td>\n",
       "      <td>NaN</td>\n",
       "      <td>NaN</td>\n",
       "      <td>NaN</td>\n",
       "      <td>7.7</td>\n",
       "      <td>драма,мелодрама</td>\n",
       "      <td>1.0</td>\n",
       "    </tr>\n",
       "    <tr>\n",
       "      <th>...</th>\n",
       "      <td>...</td>\n",
       "      <td>...</td>\n",
       "      <td>...</td>\n",
       "      <td>...</td>\n",
       "      <td>...</td>\n",
       "      <td>...</td>\n",
       "      <td>...</td>\n",
       "      <td>...</td>\n",
       "      <td>...</td>\n",
       "      <td>...</td>\n",
       "      <td>...</td>\n",
       "      <td>...</td>\n",
       "      <td>...</td>\n",
       "      <td>...</td>\n",
       "      <td>...</td>\n",
       "      <td>...</td>\n",
       "    </tr>\n",
       "    <tr>\n",
       "      <th>593</th>\n",
       "      <td>Артист.</td>\n",
       "      <td>121001712</td>\n",
       "      <td>2012-01-25</td>\n",
       "      <td>Художественный</td>\n",
       "      <td>Франс 3 Синема, ДжиДи Про, Ла Класс Американе,...</td>\n",
       "      <td>Франция-Бельгия</td>\n",
       "      <td>Мишель Хазанавичус</td>\n",
       "      <td>Тома Лангманн, Эммануэль Монтамат, Джернми Бурдек</td>\n",
       "      <td>«0+»</td>\n",
       "      <td>NaN</td>\n",
       "      <td>NaN</td>\n",
       "      <td>NaN</td>\n",
       "      <td>NaN</td>\n",
       "      <td>7.9</td>\n",
       "      <td>драма,мелодрама,комедия</td>\n",
       "      <td>82.0</td>\n",
       "    </tr>\n",
       "    <tr>\n",
       "      <th>3320</th>\n",
       "      <td>Остров лемуров: Мадагаскар 3D.</td>\n",
       "      <td>126004316</td>\n",
       "      <td>2016-08-11</td>\n",
       "      <td>Прочие</td>\n",
       "      <td>Аймакс, Уорнер Бразерс</td>\n",
       "      <td>США - Канада</td>\n",
       "      <td>Дэвид Дуглас</td>\n",
       "      <td>Дрю Фелман</td>\n",
       "      <td>«0+»</td>\n",
       "      <td>NaN</td>\n",
       "      <td>NaN</td>\n",
       "      <td>NaN</td>\n",
       "      <td>NaN</td>\n",
       "      <td>7.9</td>\n",
       "      <td>мультфильм,комедия,приключения</td>\n",
       "      <td>82.0</td>\n",
       "    </tr>\n",
       "    <tr>\n",
       "      <th>3440</th>\n",
       "      <td>Фанат (2016)</td>\n",
       "      <td>121032516</td>\n",
       "      <td>2016-12-08</td>\n",
       "      <td>Художественный</td>\n",
       "      <td>Формула Филм, Рэдчилиз, Яш Рай Филмз</td>\n",
       "      <td>Индия</td>\n",
       "      <td>Маниш Шарма</td>\n",
       "      <td>Адитья Чопра</td>\n",
       "      <td>«12+»</td>\n",
       "      <td>NaN</td>\n",
       "      <td>NaN</td>\n",
       "      <td>NaN</td>\n",
       "      <td>NaN</td>\n",
       "      <td>7.4</td>\n",
       "      <td>боевик,триллер,драма</td>\n",
       "      <td>84.0</td>\n",
       "    </tr>\n",
       "    <tr>\n",
       "      <th>639</th>\n",
       "      <td>Дочь</td>\n",
       "      <td>111004712</td>\n",
       "      <td>2012-09-25</td>\n",
       "      <td>Художественный</td>\n",
       "      <td>ОАО \"ТПО \"Киностудия им. М.Горького\", ООО \"Вал...</td>\n",
       "      <td>Россия</td>\n",
       "      <td>А.Касаткин, Н.Назарова</td>\n",
       "      <td>С.Зернов, С.Кучмаева</td>\n",
       "      <td>«16+»</td>\n",
       "      <td>NaN</td>\n",
       "      <td>NaN</td>\n",
       "      <td>NaN</td>\n",
       "      <td>NaN</td>\n",
       "      <td>7.6</td>\n",
       "      <td>драма,детектив,криминал</td>\n",
       "      <td>85.0</td>\n",
       "    </tr>\n",
       "    <tr>\n",
       "      <th>4741</th>\n",
       "      <td>Кунг-фу Панда 2</td>\n",
       "      <td>124000911</td>\n",
       "      <td>2011-04-28</td>\n",
       "      <td>Анимационный</td>\n",
       "      <td>ДримУоркс Анимэйшн</td>\n",
       "      <td>США</td>\n",
       "      <td>Дженнифер Ю</td>\n",
       "      <td>Мелисса Кобб</td>\n",
       "      <td>«0+»</td>\n",
       "      <td>NaN</td>\n",
       "      <td>NaN</td>\n",
       "      <td>NaN</td>\n",
       "      <td>NaN</td>\n",
       "      <td>7.4</td>\n",
       "      <td>мультфильм,фэнтези,боевик</td>\n",
       "      <td>95.0</td>\n",
       "    </tr>\n",
       "  </tbody>\n",
       "</table>\n",
       "<p>205 rows × 16 columns</p>\n",
       "</div>"
      ],
      "text/plain": [
       "                                                  title  pu_number  \\\n",
       "1636    Ромео и Джульетта /По мотивам пьесы У.Шекспира/  121016913   \n",
       "4614  Детский юмористический киножурнал \"Ералаш\". Вы...  111005311   \n",
       "2681                                         Зверополис  224002216   \n",
       "260                                          Раба любви  111007713   \n",
       "4570                                         Один день-  121014911   \n",
       "...                                                 ...        ...   \n",
       "593                                             Артист.  121001712   \n",
       "3320                     Остров лемуров: Мадагаскар 3D.  126004316   \n",
       "3440                                       Фанат (2016)  121032516   \n",
       "639                                                Дочь  111004712   \n",
       "4741                                    Кунг-фу Панда 2  124000911   \n",
       "\n",
       "     show_start_date            type  \\\n",
       "1636      2013-07-03  Художественный   \n",
       "4614      2011-08-08  Художественный   \n",
       "2681      2016-06-07    Анимационный   \n",
       "260       2013-10-18  Художественный   \n",
       "4570      2011-08-10  Художественный   \n",
       "...              ...             ...   \n",
       "593       2012-01-25  Художественный   \n",
       "3320      2016-08-11          Прочие   \n",
       "3440      2016-12-08  Художественный   \n",
       "639       2012-09-25  Художественный   \n",
       "4741      2011-04-28    Анимационный   \n",
       "\n",
       "                                            film_studio production_country  \\\n",
       "1636                                      Фэктори Фикшн     Новая Зеландия   \n",
       "4614                                       ООО \"Ералаш\"             Россия   \n",
       "2681  Уолт Дисней Анимейшн Студиос, Уолт Дисней Пикчерз                США   \n",
       "260                               Киностудия \"Мосфильм\"               СССР   \n",
       "4570            Колор Форс, Филм Фор, Рандом Хаус Филмз                США   \n",
       "...                                                 ...                ...   \n",
       "593   Франс 3 Синема, ДжиДи Про, Ла Класс Американе,...    Франция-Бельгия   \n",
       "3320                             Аймакс, Уорнер Бразерс       США - Канада   \n",
       "3440               Формула Филм, Рэдчилиз, Яш Рай Филмз              Индия   \n",
       "639   ОАО \"ТПО \"Киностудия им. М.Горького\", ООО \"Вал...             Россия   \n",
       "4741                                 ДримУоркс Анимэйшн                США   \n",
       "\n",
       "                                               director  \\\n",
       "1636                                     Тим ван Даммен   \n",
       "4614  В.Панжев, Г.Курлаев, Ф.Кривошеев, М.Сулейманов...   \n",
       "2681                             Рич Мур, Байрон Ховард   \n",
       "260                                          Н.Михалков   \n",
       "4570                                        Лоне Шерфиг   \n",
       "...                                                 ...   \n",
       "593                                  Мишель Хазанавичус   \n",
       "3320                                       Дэвид Дуглас   \n",
       "3440                                        Маниш Шарма   \n",
       "639                              А.Касаткин, Н.Назарова   \n",
       "4741                                        Дженнифер Ю   \n",
       "\n",
       "                                               producer age_restriction  \\\n",
       "1636               Аластер Карратерс, Майкл А.Дж.О'Нилл           «12+»   \n",
       "4614                                       ООО \"Ералаш\"            «0+»   \n",
       "2681                                      Кларк Спенсер            «6+»   \n",
       "260                                              прочие           «12+»   \n",
       "4570                                    Нина Джейкобсон           «16+»   \n",
       "...                                                 ...             ...   \n",
       "593   Тома Лангманн, Эммануэль Монтамат, Джернми Бурдек            «0+»   \n",
       "3320                                         Дрю Фелман            «0+»   \n",
       "3440                                       Адитья Чопра           «12+»   \n",
       "639                                С.Зернов, С.Кучмаева           «16+»   \n",
       "4741                                       Мелисса Кобб            «0+»   \n",
       "\n",
       "      refundable_support  nonrefundable_support  budget financing_source  \\\n",
       "1636                 NaN                    NaN     NaN              NaN   \n",
       "4614                 NaN                    NaN     NaN              NaN   \n",
       "2681                 NaN                    NaN     NaN              NaN   \n",
       "260                  NaN                    NaN     NaN              NaN   \n",
       "4570                 NaN                    NaN     NaN              NaN   \n",
       "...                  ...                    ...     ...              ...   \n",
       "593                  NaN                    NaN     NaN              NaN   \n",
       "3320                 NaN                    NaN     NaN              NaN   \n",
       "3440                 NaN                    NaN     NaN              NaN   \n",
       "639                  NaN                    NaN     NaN              NaN   \n",
       "4741                 NaN                    NaN     NaN              NaN   \n",
       "\n",
       "      ratings                          genres  box_office  \n",
       "1636      8.2                 драма,мелодрама         1.0  \n",
       "4614      7.2                 детский,комедия         1.0  \n",
       "2681      8.3     мультфильм,комедия,криминал         1.0  \n",
       "260       7.7         драма,мелодрама,комедия         1.0  \n",
       "4570      7.7                 драма,мелодрама         1.0  \n",
       "...       ...                             ...         ...  \n",
       "593       7.9         драма,мелодрама,комедия        82.0  \n",
       "3320      7.9  мультфильм,комедия,приключения        82.0  \n",
       "3440      7.4            боевик,триллер,драма        84.0  \n",
       "639       7.6         драма,детектив,криминал        85.0  \n",
       "4741      7.4       мультфильм,фэнтези,боевик        95.0  \n",
       "\n",
       "[205 rows x 16 columns]"
      ]
     },
     "execution_count": 39,
     "metadata": {},
     "output_type": "execute_result"
    }
   ],
   "source": [
    "data_union.query('100>box_office>0 and ratings > 7').sort_values(by='box_office')"
   ]
  },
  {
   "cell_type": "code",
   "execution_count": 40,
   "id": "f6b42234-cc7b-4a0e-9608-e6fdd4b78ab6",
   "metadata": {},
   "outputs": [
    {
     "data": {
      "text/plain": [
       "count       3,143.0\n",
       "mean       76,671.6\n",
       "std       240,738.0\n",
       "min             0.0\n",
       "25%            88.0\n",
       "50%         2,352.0\n",
       "75%        24,139.0\n",
       "max     3,073,569.0\n",
       "Name: box_office, dtype: float64"
      ]
     },
     "execution_count": 40,
     "metadata": {},
     "output_type": "execute_result"
    }
   ],
   "source": [
    "data_union['box_office'].describe()"
   ]
  },
  {
   "cell_type": "code",
   "execution_count": 41,
   "id": "de187b65-6a3b-45d2-a898-30f9d2516141",
   "metadata": {},
   "outputs": [],
   "source": [
    "#data_union = data_union.dropna(subset=['box_office'])"
   ]
  },
  {
   "cell_type": "code",
   "execution_count": 42,
   "id": "5e86d78a",
   "metadata": {},
   "outputs": [
    {
     "name": "stdout",
     "output_type": "stream",
     "text": [
      "<class 'pandas.core.frame.DataFrame'>\n",
      "Index: 6884 entries, 0 to 6912\n",
      "Data columns (total 16 columns):\n",
      " #   Column                 Non-Null Count  Dtype         \n",
      "---  ------                 --------------  -----         \n",
      " 0   title                  6884 non-null   object        \n",
      " 1   pu_number              6884 non-null   object        \n",
      " 2   show_start_date        6884 non-null   datetime64[ns]\n",
      " 3   type                   6884 non-null   object        \n",
      " 4   film_studio            6884 non-null   object        \n",
      " 5   production_country     6884 non-null   object        \n",
      " 6   director               6884 non-null   object        \n",
      " 7   producer               6884 non-null   object        \n",
      " 8   age_restriction        6884 non-null   object        \n",
      " 9   refundable_support     330 non-null    float64       \n",
      " 10  nonrefundable_support  330 non-null    float64       \n",
      " 11  budget                 330 non-null    float64       \n",
      " 12  financing_source       330 non-null    object        \n",
      " 13  ratings                5926 non-null   float64       \n",
      " 14  genres                 6884 non-null   object        \n",
      " 15  box_office             3143 non-null   float64       \n",
      "dtypes: datetime64[ns](1), float64(5), object(10)\n",
      "memory usage: 914.3+ KB\n"
     ]
    }
   ],
   "source": [
    "# check\n",
    "data_union.info()"
   ]
  },
  {
   "cell_type": "code",
   "execution_count": 43,
   "id": "0dbc243d-e2e1-4613-80ef-1bc43d517d6b",
   "metadata": {},
   "outputs": [],
   "source": [
    "#data_union = data_union.drop(data_union.query('100>box_office>0 and ratings > 7').index)\n",
    "change = data_union.query('100>box_office>0 and ratings > 7')['box_office']\n",
    "data_union = data_union.replace(to_replace=change, value=None)"
   ]
  },
  {
   "cell_type": "code",
   "execution_count": 44,
   "id": "6f58904c",
   "metadata": {},
   "outputs": [
    {
     "data": {
      "text/plain": [
       "4       3.0\n",
       "36      1.0\n",
       "44     23.0\n",
       "49      2.0\n",
       "65      2.0\n",
       "       ... \n",
       "4861    9.0\n",
       "5578   56.0\n",
       "6592   74.0\n",
       "6593   75.0\n",
       "6643   38.0\n",
       "Name: box_office, Length: 205, dtype: float64"
      ]
     },
     "execution_count": 44,
     "metadata": {},
     "output_type": "execute_result"
    }
   ],
   "source": [
    "# check\n",
    "data_union.query('100>box_office>0 and ratings > 7')['box_office']"
   ]
  },
  {
   "cell_type": "code",
   "execution_count": 45,
   "id": "724e0069",
   "metadata": {
    "scrolled": true
   },
   "outputs": [
    {
     "name": "stdout",
     "output_type": "stream",
     "text": [
      "<class 'pandas.core.frame.DataFrame'>\n",
      "Index: 6884 entries, 0 to 6912\n",
      "Data columns (total 16 columns):\n",
      " #   Column                 Non-Null Count  Dtype         \n",
      "---  ------                 --------------  -----         \n",
      " 0   title                  6884 non-null   object        \n",
      " 1   pu_number              6884 non-null   object        \n",
      " 2   show_start_date        6884 non-null   datetime64[ns]\n",
      " 3   type                   6884 non-null   object        \n",
      " 4   film_studio            6884 non-null   object        \n",
      " 5   production_country     6884 non-null   object        \n",
      " 6   director               6884 non-null   object        \n",
      " 7   producer               6884 non-null   object        \n",
      " 8   age_restriction        6884 non-null   object        \n",
      " 9   refundable_support     330 non-null    float64       \n",
      " 10  nonrefundable_support  330 non-null    float64       \n",
      " 11  budget                 330 non-null    float64       \n",
      " 12  financing_source       330 non-null    object        \n",
      " 13  ratings                5926 non-null   float64       \n",
      " 14  genres                 6884 non-null   object        \n",
      " 15  box_office             3143 non-null   float64       \n",
      "dtypes: datetime64[ns](1), float64(5), object(10)\n",
      "memory usage: 914.3+ KB\n"
     ]
    }
   ],
   "source": [
    "data_union.info()"
   ]
  },
  {
   "cell_type": "markdown",
   "id": "03828efa-a8a8-46f3-bd5c-4f007c934f8a",
   "metadata": {},
   "source": [
    "## Добавляем новые столбцы"
   ]
  },
  {
   "cell_type": "code",
   "execution_count": 46,
   "id": "e1479f91-d956-4e08-b351-574e0055e0b7",
   "metadata": {},
   "outputs": [],
   "source": [
    "#добавляем год проката\n",
    "data_union['year'] = data_union['show_start_date'].dt.year"
   ]
  },
  {
   "cell_type": "markdown",
   "id": "709584d6-d0b1-4b2e-a4df-9f4c7ea3d01e",
   "metadata": {},
   "source": [
    "### Имя главного продюссера"
   ]
  },
  {
   "cell_type": "code",
   "execution_count": 47,
   "id": "2cdce1c5-eeec-4b1d-bcf0-e074f7c01d94",
   "metadata": {},
   "outputs": [],
   "source": [
    "# цикл перебирает все значения из колонки 'producer' датасета data_union. \n",
    "# Находим первую запятую, и в новую кололнку добавляем значение до этой запятой\n",
    "# Если запятой нет, берем полностью значение из колонки producer'\n",
    "\n",
    "data_union['producer_main']='' #создаем пустую колонку\n",
    "\n",
    "count = 0\n",
    "while count < data_union['pu_number'].count(): #находим количество строк в датасете и ограничиваем цикл\n",
    "    count += 1\n",
    "    try:\n",
    "        a = data_union.loc[count,'producer']\n",
    "        b = a.find(',')\n",
    "        if b > 0:\n",
    "            data_union.loc[count, 'producer_main'] = a[:b]\n",
    "        else:\n",
    "            data_union.loc[count, 'producer_main'] = data_union.loc[count, 'producer']\n",
    "    except:\n",
    "        data_union.loc[count, 'producer_main'] = 'Nan'"
   ]
  },
  {
   "cell_type": "code",
   "execution_count": 48,
   "id": "8c89f964-6adb-4703-b3b1-b859f3401786",
   "metadata": {
    "scrolled": true
   },
   "outputs": [
    {
     "name": "stdout",
     "output_type": "stream",
     "text": [
      "                                             producer           producer_main\n",
      "0           Дэвид Валдес, Кевин Костнер, Джейк Эбертс                        \n",
      "1                                              прочие                  прочие\n",
      "2   Джим Лемли, Джейсон Нетер, Марк Е.Платт, Яйн Смит              Джим Лемли\n",
      "3                                              прочие                  прочие\n",
      "4                                              прочие                  прочие\n",
      "5                         Джон Пенотти, Джон Туртурро            Джон Пенотти\n",
      "6                                         Патрис Леду             Патрис Леду\n",
      "7                                              прочие                  прочие\n",
      "8          Патрик Кроули, Фрэнк Маршалл, Пол Сэндберг           Патрик Кроули\n",
      "9                                              прочие                  прочие\n",
      "10  Клинт Иствуд, Том Розенберг, Альберт С.Рудди, ...            Клинт Иствуд\n",
      "11                             Саймон Чэннинг Уильямс  Саймон Чэннинг Уильямс\n",
      "12                Этчи Стро, Анни Стюарт, Майк Фиггис               Этчи Стро\n",
      "13                                             прочие                  прочие\n",
      "14                                             прочие                  прочие\n",
      "15                                             прочие                  прочие\n",
      "16                                             прочие                  прочие\n",
      "17                                             прочие                  прочие\n",
      "18                                             прочие                  прочие\n",
      "19  Лесли Холлеран, Алан Лэдд мл., Келлиан Лэдд, Х...          Лесли Холлеран\n"
     ]
    }
   ],
   "source": [
    "#сопоставляем результат с исходными данными\n",
    "print(data_union[['producer','producer_main']].head(20))"
   ]
  },
  {
   "cell_type": "markdown",
   "id": "8d649128-369c-49f2-b0d4-8c642b6332e4",
   "metadata": {},
   "source": [
    "### Название основного жанра"
   ]
  },
  {
   "cell_type": "code",
   "execution_count": 49,
   "id": "82a798eb-a45d-46d1-a080-24041a93a855",
   "metadata": {},
   "outputs": [],
   "source": [
    "# аналогично создаем колонку с основным жанром фильма\n",
    "\n",
    "data_union['genres_main']='' #создаем пустую колонку\n",
    "\n",
    "count = 0\n",
    "while count < data_union['pu_number'].count(): #находим количество строк в датасете и ограничиваем цикл на это количество строк\n",
    "    count += 1\n",
    "    try:\n",
    "        a = data_union.loc[count,'genres']\n",
    "        b = a.find(',')\n",
    "        if b > 0:\n",
    "            data_union.loc[count, 'genres_main'] = a[:b]\n",
    "        else:\n",
    "            data_union.loc[count, 'genres_main'] = data_union.loc[count, 'genres']\n",
    "    except:\n",
    "        data_union.loc[count, 'genres_main'] = 'Nan'"
   ]
  },
  {
   "cell_type": "markdown",
   "id": "514df8b6-7d38-420c-a38d-72a225dd258d",
   "metadata": {},
   "source": [
    "## Находим долю государственной поддержки от общего бюджета фильма"
   ]
  },
  {
   "cell_type": "code",
   "execution_count": 50,
   "id": "5898c317-26be-44c2-9ef8-9d6842625b43",
   "metadata": {},
   "outputs": [
    {
     "data": {
      "text/html": [
       "<div>\n",
       "<style scoped>\n",
       "    .dataframe tbody tr th:only-of-type {\n",
       "        vertical-align: middle;\n",
       "    }\n",
       "\n",
       "    .dataframe tbody tr th {\n",
       "        vertical-align: top;\n",
       "    }\n",
       "\n",
       "    .dataframe thead th {\n",
       "        text-align: right;\n",
       "    }\n",
       "</style>\n",
       "<table border=\"1\" class=\"dataframe\">\n",
       "  <thead>\n",
       "    <tr style=\"text-align: right;\">\n",
       "      <th></th>\n",
       "      <th>title</th>\n",
       "      <th>pu_number</th>\n",
       "      <th>show_start_date</th>\n",
       "      <th>type</th>\n",
       "      <th>film_studio</th>\n",
       "      <th>production_country</th>\n",
       "      <th>director</th>\n",
       "      <th>producer</th>\n",
       "      <th>age_restriction</th>\n",
       "      <th>refundable_support</th>\n",
       "      <th>nonrefundable_support</th>\n",
       "      <th>budget</th>\n",
       "      <th>financing_source</th>\n",
       "      <th>ratings</th>\n",
       "      <th>genres</th>\n",
       "      <th>box_office</th>\n",
       "      <th>year</th>\n",
       "      <th>producer_main</th>\n",
       "      <th>genres_main</th>\n",
       "    </tr>\n",
       "  </thead>\n",
       "  <tbody>\n",
       "  </tbody>\n",
       "</table>\n",
       "</div>"
      ],
      "text/plain": [
       "Empty DataFrame\n",
       "Columns: [title, pu_number, show_start_date, type, film_studio, production_country, director, producer, age_restriction, refundable_support, nonrefundable_support, budget, financing_source, ratings, genres, box_office, year, producer_main, genres_main]\n",
       "Index: []"
      ]
     },
     "metadata": {},
     "output_type": "display_data"
    },
    {
     "data": {
      "text/html": [
       "<div>\n",
       "<style scoped>\n",
       "    .dataframe tbody tr th:only-of-type {\n",
       "        vertical-align: middle;\n",
       "    }\n",
       "\n",
       "    .dataframe tbody tr th {\n",
       "        vertical-align: top;\n",
       "    }\n",
       "\n",
       "    .dataframe thead th {\n",
       "        text-align: right;\n",
       "    }\n",
       "</style>\n",
       "<table border=\"1\" class=\"dataframe\">\n",
       "  <thead>\n",
       "    <tr style=\"text-align: right;\">\n",
       "      <th></th>\n",
       "      <th>title</th>\n",
       "      <th>pu_number</th>\n",
       "      <th>show_start_date</th>\n",
       "      <th>type</th>\n",
       "      <th>film_studio</th>\n",
       "      <th>production_country</th>\n",
       "      <th>director</th>\n",
       "      <th>producer</th>\n",
       "      <th>age_restriction</th>\n",
       "      <th>refundable_support</th>\n",
       "      <th>nonrefundable_support</th>\n",
       "      <th>budget</th>\n",
       "      <th>financing_source</th>\n",
       "      <th>ratings</th>\n",
       "      <th>genres</th>\n",
       "      <th>box_office</th>\n",
       "      <th>year</th>\n",
       "      <th>producer_main</th>\n",
       "      <th>genres_main</th>\n",
       "    </tr>\n",
       "  </thead>\n",
       "  <tbody>\n",
       "  </tbody>\n",
       "</table>\n",
       "</div>"
      ],
      "text/plain": [
       "Empty DataFrame\n",
       "Columns: [title, pu_number, show_start_date, type, film_studio, production_country, director, producer, age_restriction, refundable_support, nonrefundable_support, budget, financing_source, ratings, genres, box_office, year, producer_main, genres_main]\n",
       "Index: []"
      ]
     },
     "metadata": {},
     "output_type": "display_data"
    }
   ],
   "source": [
    "# проверяем, что поля 'refundable_support' и 'refundable_support' имеют одинаковое наполнение \n",
    "# чтобы можно было их складывать\n",
    "display(data_union.query('refundable_support.isnull() and nonrefundable_support >= 0'))\n",
    "display(data_union.query('nonrefundable_support.isnull() and refundable_support >= 0'))"
   ]
  },
  {
   "cell_type": "code",
   "execution_count": 51,
   "id": "d21bd30f-fcb8-43f6-acef-f744037c6c50",
   "metadata": {},
   "outputs": [],
   "source": [
    "data_union['financing_source_perc'] = \\\n",
    "    (data_union['refundable_support'] + data_union['nonrefundable_support']) / data_union['budget']"
   ]
  },
  {
   "cell_type": "markdown",
   "id": "b26d6465-5075-40d6-98a9-1006ceaa725d",
   "metadata": {},
   "source": [
    "# 3 Исследовательский анализ данных"
   ]
  },
  {
   "cell_type": "markdown",
   "id": "48d38635-9368-4026-af89-fe6c89183073",
   "metadata": {},
   "source": [
    "## Смотрим сколько фильмов выходило в год"
   ]
  },
  {
   "cell_type": "code",
   "execution_count": 52,
   "id": "c5213ddd-8dab-4d5b-a0bc-b31bf07ff1a0",
   "metadata": {
    "scrolled": true
   },
   "outputs": [
    {
     "data": {
      "image/png": "[encoded data removed]",
      "text/plain": [
       "<Figure size 500x300 with 1 Axes>"
      ]
     },
     "metadata": {},
     "output_type": "display_data"
    }
   ],
   "source": [
    "data_union.pivot_table(\n",
    "index='year',values='title',aggfunc='count'\n",
    ").plot(y='title',style='o-', figsize=(5, 3), grid=True)\n",
    "plt.suptitle('Все фильмы, в том числе где нет сведений о показах:')\n",
    "plt.xlabel('Исследуемый период, г.г.')\n",
    "plt.ylabel('Кол-во фильмов, шт.')\n",
    "plt.show()"
   ]
  },
  {
   "cell_type": "code",
   "execution_count": 53,
   "id": "f43f5e0a-5062-4240-a821-37069f90936d",
   "metadata": {
    "scrolled": true
   },
   "outputs": [
    {
     "data": {
      "image/png": "[encoded data removed]",
      "text/plain": [
       "<Figure size 500x300 with 1 Axes>"
      ]
     },
     "metadata": {},
     "output_type": "display_data"
    }
   ],
   "source": [
    "data_union.query('box_office>=0').pivot_table(\n",
    "index='year',values='title',aggfunc='count'\n",
    ").plot(y='title',style='o-', figsize=(5, 3), grid=True)\n",
    "plt.suptitle('Фильмы, где есть сведения о показах:')\n",
    "plt.xlabel('Исследуемый период, г.г.')\n",
    "plt.ylabel('Кол-во фильмов, шт.')\n",
    "plt.show()"
   ]
  },
  {
   "cell_type": "markdown",
   "id": "1bbe3ff8-daeb-4c5e-b22d-3a25476f98a2",
   "metadata": {},
   "source": [
    "## Оцениваем долю фильмов с указанной информацией о прокате в кинотеатрах"
   ]
  },
  {
   "cell_type": "code",
   "execution_count": 54,
   "id": "a2d6d553-80f7-440a-8f2e-5ef679b184b5",
   "metadata": {},
   "outputs": [],
   "source": [
    "def inf(boxoffice):\n",
    "    try:\n",
    "        if boxoffice>=0:\n",
    "            return 1\n",
    "        else:\n",
    "            return 0\n",
    "    except:\n",
    "        pass\n",
    "data_union['info'] = data_union['box_office'].apply(inf)"
   ]
  },
  {
   "cell_type": "code",
   "execution_count": 55,
   "id": "bd3804c9-cd53-4345-80c7-0929058b4de4",
   "metadata": {},
   "outputs": [
    {
     "data": {
      "text/html": [
       "<style type=\"text/css\">\n",
       "</style>\n",
       "<table id=\"T_98605\">\n",
       "  <thead>\n",
       "    <tr>\n",
       "      <th class=\"blank level0\" >&nbsp;</th>\n",
       "      <th id=\"T_98605_level0_col0\" class=\"col_heading level0 col0\" >count</th>\n",
       "      <th id=\"T_98605_level0_col1\" class=\"col_heading level0 col1\" >sum</th>\n",
       "      <th id=\"T_98605_level0_col2\" class=\"col_heading level0 col2\" >mean</th>\n",
       "    </tr>\n",
       "    <tr>\n",
       "      <th class=\"blank level1\" >&nbsp;</th>\n",
       "      <th id=\"T_98605_level1_col0\" class=\"col_heading level1 col0\" >info</th>\n",
       "      <th id=\"T_98605_level1_col1\" class=\"col_heading level1 col1\" >info</th>\n",
       "      <th id=\"T_98605_level1_col2\" class=\"col_heading level1 col2\" >info</th>\n",
       "    </tr>\n",
       "    <tr>\n",
       "      <th class=\"index_name level0\" >year</th>\n",
       "      <th class=\"blank col0\" >&nbsp;</th>\n",
       "      <th class=\"blank col1\" >&nbsp;</th>\n",
       "      <th class=\"blank col2\" >&nbsp;</th>\n",
       "    </tr>\n",
       "  </thead>\n",
       "  <tbody>\n",
       "    <tr>\n",
       "      <th id=\"T_98605_level0_row0\" class=\"row_heading level0 row0\" >2010.000000</th>\n",
       "      <td id=\"T_98605_row0_col0\" class=\"data row0 col0\" >777</td>\n",
       "      <td id=\"T_98605_row0_col1\" class=\"data row0 col1\" >105</td>\n",
       "      <td id=\"T_98605_row0_col2\" class=\"data row0 col2\" >13.5%</td>\n",
       "    </tr>\n",
       "    <tr>\n",
       "      <th id=\"T_98605_level0_row1\" class=\"row_heading level0 row1\" >2011.000000</th>\n",
       "      <td id=\"T_98605_row1_col0\" class=\"data row1 col0\" >487</td>\n",
       "      <td id=\"T_98605_row1_col1\" class=\"data row1 col1\" >109</td>\n",
       "      <td id=\"T_98605_row1_col2\" class=\"data row1 col2\" >22.4%</td>\n",
       "    </tr>\n",
       "    <tr>\n",
       "      <th id=\"T_98605_level0_row2\" class=\"row_heading level0 row2\" >2012.000000</th>\n",
       "      <td id=\"T_98605_row2_col0\" class=\"data row2 col0\" >527</td>\n",
       "      <td id=\"T_98605_row2_col1\" class=\"data row2 col1\" >127</td>\n",
       "      <td id=\"T_98605_row2_col2\" class=\"data row2 col2\" >24.1%</td>\n",
       "    </tr>\n",
       "    <tr>\n",
       "      <th id=\"T_98605_level0_row3\" class=\"row_heading level0 row3\" >2013.000000</th>\n",
       "      <td id=\"T_98605_row3_col0\" class=\"data row3 col0\" >597</td>\n",
       "      <td id=\"T_98605_row3_col1\" class=\"data row3 col1\" >184</td>\n",
       "      <td id=\"T_98605_row3_col2\" class=\"data row3 col2\" >30.8%</td>\n",
       "    </tr>\n",
       "    <tr>\n",
       "      <th id=\"T_98605_level0_row4\" class=\"row_heading level0 row4\" >2014.000000</th>\n",
       "      <td id=\"T_98605_row4_col0\" class=\"data row4 col0\" >751</td>\n",
       "      <td id=\"T_98605_row4_col1\" class=\"data row4 col1\" >278</td>\n",
       "      <td id=\"T_98605_row4_col2\" class=\"data row4 col2\" >37.0%</td>\n",
       "    </tr>\n",
       "    <tr>\n",
       "      <th id=\"T_98605_level0_row5\" class=\"row_heading level0 row5\" >2015.000000</th>\n",
       "      <td id=\"T_98605_row5_col0\" class=\"data row5 col0\" >687</td>\n",
       "      <td id=\"T_98605_row5_col1\" class=\"data row5 col1\" >460</td>\n",
       "      <td id=\"T_98605_row5_col2\" class=\"data row5 col2\" >67.0%</td>\n",
       "    </tr>\n",
       "    <tr>\n",
       "      <th id=\"T_98605_level0_row6\" class=\"row_heading level0 row6\" >2016.000000</th>\n",
       "      <td id=\"T_98605_row6_col0\" class=\"data row6 col0\" >791</td>\n",
       "      <td id=\"T_98605_row6_col1\" class=\"data row6 col1\" >523</td>\n",
       "      <td id=\"T_98605_row6_col2\" class=\"data row6 col2\" >66.1%</td>\n",
       "    </tr>\n",
       "    <tr>\n",
       "      <th id=\"T_98605_level0_row7\" class=\"row_heading level0 row7\" >2017.000000</th>\n",
       "      <td id=\"T_98605_row7_col0\" class=\"data row7 col0\" >497</td>\n",
       "      <td id=\"T_98605_row7_col1\" class=\"data row7 col1\" >356</td>\n",
       "      <td id=\"T_98605_row7_col2\" class=\"data row7 col2\" >71.6%</td>\n",
       "    </tr>\n",
       "    <tr>\n",
       "      <th id=\"T_98605_level0_row8\" class=\"row_heading level0 row8\" >2018.000000</th>\n",
       "      <td id=\"T_98605_row8_col0\" class=\"data row8 col0\" >875</td>\n",
       "      <td id=\"T_98605_row8_col1\" class=\"data row8 col1\" >474</td>\n",
       "      <td id=\"T_98605_row8_col2\" class=\"data row8 col2\" >54.2%</td>\n",
       "    </tr>\n",
       "    <tr>\n",
       "      <th id=\"T_98605_level0_row9\" class=\"row_heading level0 row9\" >2019.000000</th>\n",
       "      <td id=\"T_98605_row9_col0\" class=\"data row9 col0\" >895</td>\n",
       "      <td id=\"T_98605_row9_col1\" class=\"data row9 col1\" >527</td>\n",
       "      <td id=\"T_98605_row9_col2\" class=\"data row9 col2\" >58.9%</td>\n",
       "    </tr>\n",
       "  </tbody>\n",
       "</table>\n"
      ],
      "text/plain": [
       "<pandas.io.formats.style.Styler at 0x775b24bc9cc0>"
      ]
     },
     "execution_count": 55,
     "metadata": {},
     "output_type": "execute_result"
    }
   ],
   "source": [
    "data_union.pivot_table(\n",
    "    index='year', values='info', aggfunc = ['count', 'sum', 'mean']).style.format({('mean', 'info') : '{:.1%}'}\n",
    ")"
   ]
  },
  {
   "cell_type": "markdown",
   "id": "0d72eb6c-7e07-48dc-87ab-5e8c19af0ccd",
   "metadata": {},
   "source": [
    "<div style=\"border:solid steelblue 3px; padding: 4px; border-radius: 10px\">\n",
    "Доля фильмов, по которым имеются сведения о показах в российских кинотеатрах росла на протяжении периода с 2010 по 2017 годы с 14% до 72%.\n",
    "Затем эта доля снизилась с 2017 по 2019 год с 72% до 59%.\n",
    "Таким образом, наиболее полная информация о показах была в 2017 году."
   ]
  },
  {
   "cell_type": "markdown",
   "id": "4ac7e43a-6fc8-460d-98d0-834797a27f06",
   "metadata": {},
   "source": [
    "## Изучаем динамику суммы сборов фильмов"
   ]
  },
  {
   "cell_type": "code",
   "execution_count": 56,
   "id": "2cabce7c-9151-4955-9cfc-6240a71d15f4",
   "metadata": {
    "scrolled": true
   },
   "outputs": [
    {
     "data": {
      "text/html": [
       "<style type=\"text/css\">\n",
       "</style>\n",
       "<table id=\"T_58198\">\n",
       "  <thead>\n",
       "    <tr>\n",
       "      <th class=\"blank level0\" >&nbsp;</th>\n",
       "      <th id=\"T_58198_level0_col0\" class=\"col_heading level0 col0\" >sum</th>\n",
       "      <th id=\"T_58198_level0_col1\" class=\"col_heading level0 col1\" >mean</th>\n",
       "      <th id=\"T_58198_level0_col2\" class=\"col_heading level0 col2\" >median</th>\n",
       "    </tr>\n",
       "    <tr>\n",
       "      <th class=\"blank level1\" >&nbsp;</th>\n",
       "      <th id=\"T_58198_level1_col0\" class=\"col_heading level1 col0\" >box_office</th>\n",
       "      <th id=\"T_58198_level1_col1\" class=\"col_heading level1 col1\" >box_office</th>\n",
       "      <th id=\"T_58198_level1_col2\" class=\"col_heading level1 col2\" >box_office</th>\n",
       "    </tr>\n",
       "    <tr>\n",
       "      <th class=\"index_name level0\" >year</th>\n",
       "      <th class=\"blank col0\" >&nbsp;</th>\n",
       "      <th class=\"blank col1\" >&nbsp;</th>\n",
       "      <th class=\"blank col2\" >&nbsp;</th>\n",
       "    </tr>\n",
       "  </thead>\n",
       "  <tbody>\n",
       "    <tr>\n",
       "      <th id=\"T_58198_level0_row0\" class=\"row_heading level0 row0\" >2010.000000</th>\n",
       "      <td id=\"T_58198_row0_col0\" class=\"data row0 col0\" >2431.0</td>\n",
       "      <td id=\"T_58198_row0_col1\" class=\"data row0 col1\" >23.2</td>\n",
       "      <td id=\"T_58198_row0_col2\" class=\"data row0 col2\" >2.0</td>\n",
       "    </tr>\n",
       "    <tr>\n",
       "      <th id=\"T_58198_level0_row1\" class=\"row_heading level0 row1\" >2011.000000</th>\n",
       "      <td id=\"T_58198_row1_col0\" class=\"data row1 col0\" >14097.0</td>\n",
       "      <td id=\"T_58198_row1_col1\" class=\"data row1 col1\" >129.3</td>\n",
       "      <td id=\"T_58198_row1_col2\" class=\"data row1 col2\" >3.0</td>\n",
       "    </tr>\n",
       "    <tr>\n",
       "      <th id=\"T_58198_level0_row2\" class=\"row_heading level0 row2\" >2012.000000</th>\n",
       "      <td id=\"T_58198_row2_col0\" class=\"data row2 col0\" >6947.0</td>\n",
       "      <td id=\"T_58198_row2_col1\" class=\"data row2 col1\" >54.7</td>\n",
       "      <td id=\"T_58198_row2_col2\" class=\"data row2 col2\" >6.0</td>\n",
       "    </tr>\n",
       "    <tr>\n",
       "      <th id=\"T_58198_level0_row3\" class=\"row_heading level0 row3\" >2013.000000</th>\n",
       "      <td id=\"T_58198_row3_col0\" class=\"data row3 col0\" >29802.0</td>\n",
       "      <td id=\"T_58198_row3_col1\" class=\"data row3 col1\" >162.0</td>\n",
       "      <td id=\"T_58198_row3_col2\" class=\"data row3 col2\" >4.0</td>\n",
       "    </tr>\n",
       "    <tr>\n",
       "      <th id=\"T_58198_level0_row4\" class=\"row_heading level0 row4\" >2014.000000</th>\n",
       "      <td id=\"T_58198_row4_col0\" class=\"data row4 col0\" >7444944.0</td>\n",
       "      <td id=\"T_58198_row4_col1\" class=\"data row4 col1\" >26780.4</td>\n",
       "      <td id=\"T_58198_row4_col2\" class=\"data row4 col2\" >19.0</td>\n",
       "    </tr>\n",
       "    <tr>\n",
       "      <th id=\"T_58198_level0_row5\" class=\"row_heading level0 row5\" >2015.000000</th>\n",
       "      <td id=\"T_58198_row5_col0\" class=\"data row5 col0\" >38966070.0</td>\n",
       "      <td id=\"T_58198_row5_col1\" class=\"data row5 col1\" >84708.8</td>\n",
       "      <td id=\"T_58198_row5_col2\" class=\"data row5 col2\" >5003.5</td>\n",
       "    </tr>\n",
       "    <tr>\n",
       "      <th id=\"T_58198_level0_row6\" class=\"row_heading level0 row6\" >2016.000000</th>\n",
       "      <td id=\"T_58198_row6_col0\" class=\"data row6 col0\" >47862923.0</td>\n",
       "      <td id=\"T_58198_row6_col1\" class=\"data row6 col1\" >91516.1</td>\n",
       "      <td id=\"T_58198_row6_col2\" class=\"data row6 col2\" >4001.0</td>\n",
       "    </tr>\n",
       "    <tr>\n",
       "      <th id=\"T_58198_level0_row7\" class=\"row_heading level0 row7\" >2017.000000</th>\n",
       "      <td id=\"T_58198_row7_col0\" class=\"data row7 col0\" >48563663.0</td>\n",
       "      <td id=\"T_58198_row7_col1\" class=\"data row7 col1\" >136414.8</td>\n",
       "      <td id=\"T_58198_row7_col2\" class=\"data row7 col2\" >10177.5</td>\n",
       "    </tr>\n",
       "    <tr>\n",
       "      <th id=\"T_58198_level0_row8\" class=\"row_heading level0 row8\" >2018.000000</th>\n",
       "      <td id=\"T_58198_row8_col0\" class=\"data row8 col0\" >49666816.0</td>\n",
       "      <td id=\"T_58198_row8_col1\" class=\"data row8 col1\" >104782.3</td>\n",
       "      <td id=\"T_58198_row8_col2\" class=\"data row8 col2\" >8911.5</td>\n",
       "    </tr>\n",
       "    <tr>\n",
       "      <th id=\"T_58198_level0_row9\" class=\"row_heading level0 row9\" >2019.000000</th>\n",
       "      <td id=\"T_58198_row9_col0\" class=\"data row9 col0\" >48421069.0</td>\n",
       "      <td id=\"T_58198_row9_col1\" class=\"data row9 col1\" >91880.6</td>\n",
       "      <td id=\"T_58198_row9_col2\" class=\"data row9 col2\" >4733.0</td>\n",
       "    </tr>\n",
       "  </tbody>\n",
       "</table>\n"
      ],
      "text/plain": [
       "<pandas.io.formats.style.Styler at 0x775ae188b0a0>"
      ]
     },
     "execution_count": 56,
     "metadata": {},
     "output_type": "execute_result"
    }
   ],
   "source": [
    "data_union.pivot_table(\n",
    "    index='year', values='box_office', aggfunc = ['sum','mean','median']\n",
    ").style.format({('sum', 'box_office') : \"{:.1f}\", ('mean', 'box_office') : \"{:.1f}\", \\\n",
    "                ('median', 'box_office') : \"{:.1f}\"})"
   ]
  },
  {
   "cell_type": "markdown",
   "id": "366674b7-7785-4f95-b6f2-dcb6c7836224",
   "metadata": {},
   "source": [
    "<div style=\"border:solid steelblue 3px; padding: 4px; border-radius: 10px\">\n",
    "На протяжении почти всего исследуемого периода кассовые сборы росли.\n",
    "В 2019 году сборы были максимильные и составили 49.6 млрд. руб.\n",
    "В 2010 году сборы были на минимуме и составили 2.4 млн. руб.\n",
    "\n",
    "В разрезе каждого года медианные значения кассовых сборов значительно ниже своих средних значений. Это говорит о том, что основную долю кассовых сборов как правило занимают единичные блокбастеры, а остальные фильмы в большинстве своем приносят незначительный доход в общий объем сборов"
   ]
  },
  {
   "cell_type": "markdown",
   "id": "b63e1b14-a678-4088-9cf2-cb4e0105d49a",
   "metadata": {},
   "source": [
    "## Определем, влияет ли возрастное ограничение аудитории на сборы фильма в прокате в период с 2015 по 2019 год"
   ]
  },
  {
   "cell_type": "code",
   "execution_count": 57,
   "id": "942ea6a9-2c89-4bd8-bdc3-0dd26f9dcce9",
   "metadata": {},
   "outputs": [
    {
     "data": {
      "image/png": "[encoded data removed]",
      "text/plain": [
       "<Figure size 800x600 with 1 Axes>"
      ]
     },
     "metadata": {},
     "output_type": "display_data"
    },
    {
     "data": {
      "text/html": [
       "<div>\n",
       "<style scoped>\n",
       "    .dataframe tbody tr th:only-of-type {\n",
       "        vertical-align: middle;\n",
       "    }\n",
       "\n",
       "    .dataframe tbody tr th {\n",
       "        vertical-align: top;\n",
       "    }\n",
       "\n",
       "    .dataframe thead tr th {\n",
       "        text-align: left;\n",
       "    }\n",
       "\n",
       "    .dataframe thead tr:last-of-type th {\n",
       "        text-align: right;\n",
       "    }\n",
       "</style>\n",
       "<table border=\"1\" class=\"dataframe\">\n",
       "  <thead>\n",
       "    <tr>\n",
       "      <th></th>\n",
       "      <th colspan=\"6\" halign=\"left\">sum</th>\n",
       "    </tr>\n",
       "    <tr>\n",
       "      <th>age_restriction</th>\n",
       "      <th>«0+»</th>\n",
       "      <th>«12+»</th>\n",
       "      <th>«16+»</th>\n",
       "      <th>«18+»</th>\n",
       "      <th>«6+»</th>\n",
       "      <th>All</th>\n",
       "    </tr>\n",
       "    <tr>\n",
       "      <th>year</th>\n",
       "      <th></th>\n",
       "      <th></th>\n",
       "      <th></th>\n",
       "      <th></th>\n",
       "      <th></th>\n",
       "      <th></th>\n",
       "    </tr>\n",
       "  </thead>\n",
       "  <tbody>\n",
       "    <tr>\n",
       "      <th>2,015.0</th>\n",
       "      <td>379,052.0</td>\n",
       "      <td>13,616,087.0</td>\n",
       "      <td>11,367,316.0</td>\n",
       "      <td>5,430,881.0</td>\n",
       "      <td>8,172,734.0</td>\n",
       "      <td>38,966,070.0</td>\n",
       "    </tr>\n",
       "    <tr>\n",
       "      <th>2,016.0</th>\n",
       "      <td>150,226.0</td>\n",
       "      <td>12,204,447.0</td>\n",
       "      <td>16,664,466.0</td>\n",
       "      <td>6,790,638.0</td>\n",
       "      <td>12,053,146.0</td>\n",
       "      <td>47,862,923.0</td>\n",
       "    </tr>\n",
       "    <tr>\n",
       "      <th>2,017.0</th>\n",
       "      <td>229,599.0</td>\n",
       "      <td>7,851,390.0</td>\n",
       "      <td>18,745,043.0</td>\n",
       "      <td>9,651,488.0</td>\n",
       "      <td>12,086,143.0</td>\n",
       "      <td>48,563,663.0</td>\n",
       "    </tr>\n",
       "    <tr>\n",
       "      <th>2,018.0</th>\n",
       "      <td>32,449.0</td>\n",
       "      <td>14,267,290.0</td>\n",
       "      <td>16,503,603.0</td>\n",
       "      <td>8,758,499.0</td>\n",
       "      <td>10,104,975.0</td>\n",
       "      <td>49,666,816.0</td>\n",
       "    </tr>\n",
       "    <tr>\n",
       "      <th>2,019.0</th>\n",
       "      <td>17,746.0</td>\n",
       "      <td>12,680,198.0</td>\n",
       "      <td>12,748,817.0</td>\n",
       "      <td>10,121,797.0</td>\n",
       "      <td>12,852,511.0</td>\n",
       "      <td>48,421,069.0</td>\n",
       "    </tr>\n",
       "    <tr>\n",
       "      <th>All</th>\n",
       "      <td>809,072.0</td>\n",
       "      <td>60,619,412.0</td>\n",
       "      <td>76,029,245.0</td>\n",
       "      <td>40,753,303.0</td>\n",
       "      <td>55,269,509.0</td>\n",
       "      <td>233,480,541.0</td>\n",
       "    </tr>\n",
       "  </tbody>\n",
       "</table>\n",
       "</div>"
      ],
      "text/plain": [
       "                      sum                                                      \\\n",
       "age_restriction      «0+»        «12+»        «16+»        «18+»         «6+»   \n",
       "year                                                                            \n",
       "2,015.0         379,052.0 13,616,087.0 11,367,316.0  5,430,881.0  8,172,734.0   \n",
       "2,016.0         150,226.0 12,204,447.0 16,664,466.0  6,790,638.0 12,053,146.0   \n",
       "2,017.0         229,599.0  7,851,390.0 18,745,043.0  9,651,488.0 12,086,143.0   \n",
       "2,018.0          32,449.0 14,267,290.0 16,503,603.0  8,758,499.0 10,104,975.0   \n",
       "2,019.0          17,746.0 12,680,198.0 12,748,817.0 10,121,797.0 12,852,511.0   \n",
       " All            809,072.0 60,619,412.0 76,029,245.0 40,753,303.0 55,269,509.0   \n",
       "\n",
       "                               \n",
       "age_restriction           All  \n",
       "year                           \n",
       "2,015.0          38,966,070.0  \n",
       "2,016.0          47,862,923.0  \n",
       "2,017.0          48,563,663.0  \n",
       "2,018.0          49,666,816.0  \n",
       "2,019.0          48,421,069.0  \n",
       " All            233,480,541.0  "
      ]
     },
     "execution_count": 57,
     "metadata": {},
     "output_type": "execute_result"
    }
   ],
   "source": [
    "data_union.query('2015<=year<=2019').pivot_table(\n",
    "    index='year', columns='age_restriction', values='box_office', aggfunc=['sum']\n",
    ").plot(style='o-', figsize=(8, 6), grid=True)\n",
    "plt.legend(loc='upper right',  bbox_to_anchor=(1.3,1))\n",
    "plt.suptitle('Кассовые сборы в разрезе возратных ограничений')\n",
    "plt.ylabel('Кассовые сборы, млн.руб.')\n",
    "plt.show()\n",
    "\n",
    "data_union.query('2014<year<2020').pivot_table(\n",
    "    index='year', columns='age_restriction', values='box_office', aggfunc=['sum'], margins=True\n",
    ")"
   ]
  },
  {
   "cell_type": "markdown",
   "id": "e38d02e9-b707-406d-93c4-2845547cb1a7",
   "metadata": {},
   "source": [
    "<div style=\"border:solid steelblue 3px; padding: 4px; border-radius: 10px\">\n",
    "В период с 2015 по 2019 годы наибольшие сборы в разрезе возрастных категорий составили 76 млрд.руб. и пришлись на фильмы категории «16+» - для детей старше 16 лет.\n",
    "\n",
    "На протяжении всего периода фильмы данной возрастной категории занимали наибольшую долю. В основном это фильмы Марвел.\n",
    "Но в 2019 году доля фильмов категории «16+» сравнялась с долями фильмов категорий «6+» и «12+». \n",
    "Вероятно это связано с:\n",
    "* выходом в прокат мощнейших ультраблокбастеров в жанре комедия (Холоп), фантастика и мультфильмов (Малефисента), которые своей мощью затмили Марвел.  \n",
    "* увеличением качества и уровня съемок семейных фильмов/мультфильмов, на которые ходят семьями\n",
    "* ужесточением контроля возрастной категории, то есть детей перестали пускать на фильмы «16+»"
   ]
  },
  {
   "cell_type": "code",
   "execution_count": 59,
   "id": "5da95bd6-5737-445d-ac0d-6356a2a05514",
   "metadata": {
    "scrolled": true
   },
   "outputs": [
    {
     "data": {
      "text/html": [
       "<div>\n",
       "<style scoped>\n",
       "    .dataframe tbody tr th:only-of-type {\n",
       "        vertical-align: middle;\n",
       "    }\n",
       "\n",
       "    .dataframe tbody tr th {\n",
       "        vertical-align: top;\n",
       "    }\n",
       "\n",
       "    .dataframe thead th {\n",
       "        text-align: right;\n",
       "    }\n",
       "</style>\n",
       "<table border=\"1\" class=\"dataframe\">\n",
       "  <thead>\n",
       "    <tr style=\"text-align: right;\">\n",
       "      <th></th>\n",
       "      <th>title</th>\n",
       "      <th>box_office</th>\n",
       "      <th>age_restriction</th>\n",
       "      <th>ratings</th>\n",
       "      <th>production_country</th>\n",
       "    </tr>\n",
       "  </thead>\n",
       "  <tbody>\n",
       "    <tr>\n",
       "      <th>6883</th>\n",
       "      <td>Холоп</td>\n",
       "      <td>3,073,569.0</td>\n",
       "      <td>«12+»</td>\n",
       "      <td>6.8</td>\n",
       "      <td>Россия</td>\n",
       "    </tr>\n",
       "    <tr>\n",
       "      <th>6272</th>\n",
       "      <td>Мстители: Финал</td>\n",
       "      <td>2,576,614.0</td>\n",
       "      <td>«16+»</td>\n",
       "      <td>7.6</td>\n",
       "      <td>США</td>\n",
       "    </tr>\n",
       "    <tr>\n",
       "      <th>6654</th>\n",
       "      <td>Малефисента: Владычица тьмы</td>\n",
       "      <td>1,911,945.0</td>\n",
       "      <td>«6+»</td>\n",
       "      <td>6.9</td>\n",
       "      <td>США</td>\n",
       "    </tr>\n",
       "    <tr>\n",
       "      <th>6694</th>\n",
       "      <td>Джокер</td>\n",
       "      <td>1,890,368.0</td>\n",
       "      <td>«18+»</td>\n",
       "      <td>8.0</td>\n",
       "      <td>США - Канада</td>\n",
       "    </tr>\n",
       "    <tr>\n",
       "      <th>6812</th>\n",
       "      <td>Холодное сердце II</td>\n",
       "      <td>1,827,245.0</td>\n",
       "      <td>«6+»</td>\n",
       "      <td>7.1</td>\n",
       "      <td>США</td>\n",
       "    </tr>\n",
       "    <tr>\n",
       "      <th>6170</th>\n",
       "      <td>Как приручить дракона 3</td>\n",
       "      <td>1,689,541.0</td>\n",
       "      <td>«6+»</td>\n",
       "      <td>7.7</td>\n",
       "      <td>США</td>\n",
       "    </tr>\n",
       "    <tr>\n",
       "      <th>6402</th>\n",
       "      <td>Тайная жизнь домашних животных 2</td>\n",
       "      <td>1,478,921.0</td>\n",
       "      <td>«6+»</td>\n",
       "      <td>6.8</td>\n",
       "      <td>США, Франция, Япония</td>\n",
       "    </tr>\n",
       "    <tr>\n",
       "      <th>6499</th>\n",
       "      <td>Человек-Паук: Вдали от дома</td>\n",
       "      <td>1,203,696.0</td>\n",
       "      <td>«12+»</td>\n",
       "      <td>7.2</td>\n",
       "      <td>США</td>\n",
       "    </tr>\n",
       "    <tr>\n",
       "      <th>6182</th>\n",
       "      <td>Капитан Марвел</td>\n",
       "      <td>1,144,426.0</td>\n",
       "      <td>«16+»</td>\n",
       "      <td>6.5</td>\n",
       "      <td>США</td>\n",
       "    </tr>\n",
       "    <tr>\n",
       "      <th>6550</th>\n",
       "      <td>Однажды... в Голливуде</td>\n",
       "      <td>1,121,949.0</td>\n",
       "      <td>«18+»</td>\n",
       "      <td>5.9</td>\n",
       "      <td>США - Великобритания - КНР</td>\n",
       "    </tr>\n",
       "  </tbody>\n",
       "</table>\n",
       "</div>"
      ],
      "text/plain": [
       "                                 title  box_office age_restriction  ratings  \\\n",
       "6883                             Холоп 3,073,569.0           «12+»      6.8   \n",
       "6272                   Мстители: Финал 2,576,614.0           «16+»      7.6   \n",
       "6654       Малефисента: Владычица тьмы 1,911,945.0            «6+»      6.9   \n",
       "6694                            Джокер 1,890,368.0           «18+»      8.0   \n",
       "6812                Холодное сердце II 1,827,245.0            «6+»      7.1   \n",
       "6170           Как приручить дракона 3 1,689,541.0            «6+»      7.7   \n",
       "6402  Тайная жизнь домашних животных 2 1,478,921.0            «6+»      6.8   \n",
       "6499       Человек-Паук: Вдали от дома 1,203,696.0           «12+»      7.2   \n",
       "6182                    Капитан Марвел 1,144,426.0           «16+»      6.5   \n",
       "6550            Однажды... в Голливуде 1,121,949.0           «18+»      5.9   \n",
       "\n",
       "              production_country  \n",
       "6883                      Россия  \n",
       "6272                         США  \n",
       "6654                         США  \n",
       "6694                США - Канада  \n",
       "6812                         США  \n",
       "6170                         США  \n",
       "6402        США, Франция, Япония  \n",
       "6499                         США  \n",
       "6182                         США  \n",
       "6550  США - Великобритания - КНР  "
      ]
     },
     "execution_count": 59,
     "metadata": {},
     "output_type": "execute_result"
    }
   ],
   "source": [
    "data_union.query('year==2019')[['title','box_office','age_restriction','ratings','production_country']].sort_values(by='box_office',ascending=False).head(10)"
   ]
  },
  {
   "cell_type": "code",
   "execution_count": 60,
   "id": "71b305de-bb07-4a1e-af24-db4c9759de9b",
   "metadata": {
    "scrolled": true
   },
   "outputs": [
    {
     "data": {
      "text/html": [
       "<div>\n",
       "<style scoped>\n",
       "    .dataframe tbody tr th:only-of-type {\n",
       "        vertical-align: middle;\n",
       "    }\n",
       "\n",
       "    .dataframe tbody tr th {\n",
       "        vertical-align: top;\n",
       "    }\n",
       "\n",
       "    .dataframe thead tr th {\n",
       "        text-align: left;\n",
       "    }\n",
       "\n",
       "    .dataframe thead tr:last-of-type th {\n",
       "        text-align: right;\n",
       "    }\n",
       "</style>\n",
       "<table border=\"1\" class=\"dataframe\">\n",
       "  <thead>\n",
       "    <tr>\n",
       "      <th></th>\n",
       "      <th colspan=\"6\" halign=\"left\">mean</th>\n",
       "    </tr>\n",
       "    <tr>\n",
       "      <th>year</th>\n",
       "      <th>2,015.0</th>\n",
       "      <th>2,016.0</th>\n",
       "      <th>2,017.0</th>\n",
       "      <th>2,018.0</th>\n",
       "      <th>2,019.0</th>\n",
       "      <th>All</th>\n",
       "    </tr>\n",
       "    <tr>\n",
       "      <th>age_restriction</th>\n",
       "      <th></th>\n",
       "      <th></th>\n",
       "      <th></th>\n",
       "      <th></th>\n",
       "      <th></th>\n",
       "      <th></th>\n",
       "    </tr>\n",
       "  </thead>\n",
       "  <tbody>\n",
       "    <tr>\n",
       "      <th>«0+»</th>\n",
       "      <td>9,719.3</td>\n",
       "      <td>3,664.0</td>\n",
       "      <td>76,533.0</td>\n",
       "      <td>6,489.8</td>\n",
       "      <td>5,915.3</td>\n",
       "      <td>8,890.9</td>\n",
       "    </tr>\n",
       "    <tr>\n",
       "      <th>«12+»</th>\n",
       "      <td>186,521.7</td>\n",
       "      <td>148,834.7</td>\n",
       "      <td>196,284.8</td>\n",
       "      <td>212,944.6</td>\n",
       "      <td>149,178.8</td>\n",
       "      <td>174,695.7</td>\n",
       "    </tr>\n",
       "    <tr>\n",
       "      <th>«16+»</th>\n",
       "      <td>68,477.8</td>\n",
       "      <td>92,068.9</td>\n",
       "      <td>154,917.7</td>\n",
       "      <td>105,792.3</td>\n",
       "      <td>72,436.5</td>\n",
       "      <td>95,036.6</td>\n",
       "    </tr>\n",
       "    <tr>\n",
       "      <th>«18+»</th>\n",
       "      <td>41,457.1</td>\n",
       "      <td>45,574.8</td>\n",
       "      <td>65,656.4</td>\n",
       "      <td>49,205.1</td>\n",
       "      <td>55,310.4</td>\n",
       "      <td>51,717.4</td>\n",
       "    </tr>\n",
       "    <tr>\n",
       "      <th>«6+»</th>\n",
       "      <td>160,249.7</td>\n",
       "      <td>172,187.8</td>\n",
       "      <td>268,581.0</td>\n",
       "      <td>148,602.6</td>\n",
       "      <td>160,656.4</td>\n",
       "      <td>176,017.5</td>\n",
       "    </tr>\n",
       "    <tr>\n",
       "      <th>All</th>\n",
       "      <td>84,708.8</td>\n",
       "      <td>91,516.1</td>\n",
       "      <td>136,414.8</td>\n",
       "      <td>104,782.3</td>\n",
       "      <td>91,880.6</td>\n",
       "      <td>99,778.0</td>\n",
       "    </tr>\n",
       "  </tbody>\n",
       "</table>\n",
       "</div>"
      ],
      "text/plain": [
       "                     mean                                                  \n",
       "year              2,015.0   2,016.0   2,017.0   2,018.0   2,019.0       All\n",
       "age_restriction                                                            \n",
       "«0+»              9,719.3   3,664.0  76,533.0   6,489.8   5,915.3   8,890.9\n",
       "«12+»           186,521.7 148,834.7 196,284.8 212,944.6 149,178.8 174,695.7\n",
       "«16+»            68,477.8  92,068.9 154,917.7 105,792.3  72,436.5  95,036.6\n",
       "«18+»            41,457.1  45,574.8  65,656.4  49,205.1  55,310.4  51,717.4\n",
       "«6+»            160,249.7 172,187.8 268,581.0 148,602.6 160,656.4 176,017.5\n",
       "All              84,708.8  91,516.1 136,414.8 104,782.3  91,880.6  99,778.0"
      ]
     },
     "execution_count": 60,
     "metadata": {},
     "output_type": "execute_result"
    }
   ],
   "source": [
    "data_union.query('2014<year<2020').pivot_table(\n",
    "    index='age_restriction', columns='year', values='box_office', aggfunc=['mean'], margins=True\n",
    ")"
   ]
  },
  {
   "cell_type": "markdown",
   "id": "8aa22e3c-071a-41d5-a5bc-3a2d68710726",
   "metadata": {},
   "source": [
    "Средние продажи категории 12+ составили 227 млн. руб. за исследуемый период (пик пришелся на 2018 год), в категории 0+ - 13 млн. руб. (пик пришелся на 2018 год)."
   ]
  },
  {
   "cell_type": "markdown",
   "id": "63665381-b667-4755-9661-81907314099b",
   "metadata": {},
   "source": [
    "# 4 Анализиурем фильмы с гос. поддержкой\n",
    "Исследуйте фильмы, которые получили государственную поддержку\n",
    "На этом этапе нет конкретных инструкций и заданий — поищите интересные закономерности в данных. Посмотрите, сколько выделяют средств на поддержку кино. Проверьте, хорошо ли окупаются такие фильмы, какой у них рейтинг. \n"
   ]
  },
  {
   "cell_type": "code",
   "execution_count": 61,
   "id": "6ef1b802-4583-4b78-a0b0-07c900814228",
   "metadata": {},
   "outputs": [],
   "source": [
    "data_union['support'] = data_union['refundable_support'] + data_union['nonrefundable_support']\n",
    "gos_film = data_union.query('support>0') #оставляем фильмы с гос поддержкой"
   ]
  },
  {
   "cell_type": "code",
   "execution_count": 62,
   "id": "587cb00f-2f93-4fcb-aa01-579cca08f6d3",
   "metadata": {},
   "outputs": [
    {
     "data": {
      "text/html": [
       "<div>\n",
       "<style scoped>\n",
       "    .dataframe tbody tr th:only-of-type {\n",
       "        vertical-align: middle;\n",
       "    }\n",
       "\n",
       "    .dataframe tbody tr th {\n",
       "        vertical-align: top;\n",
       "    }\n",
       "\n",
       "    .dataframe thead th {\n",
       "        text-align: right;\n",
       "    }\n",
       "</style>\n",
       "<table border=\"1\" class=\"dataframe\">\n",
       "  <thead>\n",
       "    <tr style=\"text-align: right;\">\n",
       "      <th></th>\n",
       "      <th>title</th>\n",
       "      <th>box_office</th>\n",
       "      <th>support</th>\n",
       "    </tr>\n",
       "  </thead>\n",
       "  <tbody>\n",
       "    <tr>\n",
       "      <th>6901</th>\n",
       "      <td>Вторжение</td>\n",
       "      <td>NaN</td>\n",
       "      <td>500,000.0</td>\n",
       "    </tr>\n",
       "    <tr>\n",
       "      <th>6891</th>\n",
       "      <td>Союз спасения</td>\n",
       "      <td>717,703.0</td>\n",
       "      <td>500,000.0</td>\n",
       "    </tr>\n",
       "    <tr>\n",
       "      <th>3163</th>\n",
       "      <td>Дуэлянт</td>\n",
       "      <td>364,285.0</td>\n",
       "      <td>450,000.0</td>\n",
       "    </tr>\n",
       "    <tr>\n",
       "      <th>2741</th>\n",
       "      <td>Экипаж .</td>\n",
       "      <td>1,402,255.0</td>\n",
       "      <td>442,104.0</td>\n",
       "    </tr>\n",
       "    <tr>\n",
       "      <th>5123</th>\n",
       "      <td>Движение вверх</td>\n",
       "      <td>2,779,686.0</td>\n",
       "      <td>400,000.0</td>\n",
       "    </tr>\n",
       "    <tr>\n",
       "      <th>5039</th>\n",
       "      <td>Легенда о Коловрате</td>\n",
       "      <td>590,405.0</td>\n",
       "      <td>350,000.0</td>\n",
       "    </tr>\n",
       "    <tr>\n",
       "      <th>6335</th>\n",
       "      <td>Девятая</td>\n",
       "      <td>55,877.0</td>\n",
       "      <td>300,000.0</td>\n",
       "    </tr>\n",
       "    <tr>\n",
       "      <th>3265</th>\n",
       "      <td>Ледокол</td>\n",
       "      <td>337,070.0</td>\n",
       "      <td>300,000.0</td>\n",
       "    </tr>\n",
       "    <tr>\n",
       "      <th>4908</th>\n",
       "      <td>Матильда</td>\n",
       "      <td>511,776.0</td>\n",
       "      <td>300,000.0</td>\n",
       "    </tr>\n",
       "    <tr>\n",
       "      <th>6555</th>\n",
       "      <td>Тайна Печати Дракона</td>\n",
       "      <td>333,597.0</td>\n",
       "      <td>270,000.0</td>\n",
       "    </tr>\n",
       "  </tbody>\n",
       "</table>\n",
       "</div>"
      ],
      "text/plain": [
       "                     title  box_office   support\n",
       "6901             Вторжение         NaN 500,000.0\n",
       "6891         Союз спасения   717,703.0 500,000.0\n",
       "3163               Дуэлянт   364,285.0 450,000.0\n",
       "2741              Экипаж . 1,402,255.0 442,104.0\n",
       "5123        Движение вверх 2,779,686.0 400,000.0\n",
       "5039   Легенда о Коловрате   590,405.0 350,000.0\n",
       "6335               Девятая    55,877.0 300,000.0\n",
       "3265               Ледокол   337,070.0 300,000.0\n",
       "4908              Матильда   511,776.0 300,000.0\n",
       "6555  Тайна Печати Дракона   333,597.0 270,000.0"
      ]
     },
     "execution_count": 62,
     "metadata": {},
     "output_type": "execute_result"
    }
   ],
   "source": [
    "#смотрим по всем ли фильмам можем посмотреть прибыльность\n",
    "gos_film[['title','box_office','support']].sort_values(by='support', ascending=False).head(10)"
   ]
  },
  {
   "cell_type": "markdown",
   "id": "8f5de30d-b3d2-46b9-8ce5-34d6c3e0c7f1",
   "metadata": {},
   "source": [
    "Отсутсвтует значение по фильму \"Вторжение\" с наибольшим бюджетом. Заполняем данными из интернета"
   ]
  },
  {
   "cell_type": "code",
   "execution_count": 63,
   "id": "12d2c0db-e995-42ba-ad1c-b96dad792fef",
   "metadata": {
    "scrolled": true
   },
   "outputs": [],
   "source": [
    "gos_film.loc[7474,'box_office'] = 100 #(по курсу 60)"
   ]
  },
  {
   "cell_type": "code",
   "execution_count": 64,
   "id": "f770e4ca-43e0-4c91-9f2d-276a8d34746f",
   "metadata": {},
   "outputs": [
    {
     "data": {
      "text/plain": [
       "1186    79,412.0\n",
       "1341    37,143.0\n",
       "1388   176,023.0\n",
       "1411    40,574.0\n",
       "1663    40,015.0\n",
       "          ...   \n",
       "6893   190,000.0\n",
       "6901   944,000.0\n",
       "6903    46,154.0\n",
       "6905   150,148.0\n",
       "7474         NaN\n",
       "Name: budget, Length: 331, dtype: float64"
      ]
     },
     "execution_count": 64,
     "metadata": {},
     "output_type": "execute_result"
    }
   ],
   "source": [
    "gos_film['budget']"
   ]
  },
  {
   "cell_type": "code",
   "execution_count": 65,
   "id": "b454d238-b6c4-4a5f-a26b-b401f5badd4b",
   "metadata": {},
   "outputs": [],
   "source": [
    "#находим прибыль\n",
    "gos_film['revenue'] = gos_film['box_office'] - gos_film['budget']"
   ]
  },
  {
   "cell_type": "markdown",
   "id": "45996112-7c66-4984-8bd0-30989dcab9fe",
   "metadata": {},
   "source": [
    "### Смотрим динамику гос поддержки в разрезе годов и фондов"
   ]
  },
  {
   "cell_type": "code",
   "execution_count": 66,
   "id": "fb44e491-1a5c-4f8d-b839-16d849c29048",
   "metadata": {
    "scrolled": true
   },
   "outputs": [
    {
     "data": {
      "image/png": "[encoded data removed]",
      "text/plain": [
       "<Figure size 900x400 with 1 Axes>"
      ]
     },
     "metadata": {},
     "output_type": "display_data"
    }
   ],
   "source": [
    "gos_film.pivot_table(\n",
    "    index='year',columns='financing_source', values='support', aggfunc='sum'#, margins=True\n",
    ").plot(style='o-', figsize=(9, 4), grid=True)\n",
    "plt.legend(loc='upper right',  bbox_to_anchor=(1.3,1))\n",
    "plt.suptitle('Кассовые сборы в разрезе возратных ограничений')\n",
    "plt.ylabel('Кассовые сборы, млн.руб.')\n",
    "plt.show()\n"
   ]
  },
  {
   "cell_type": "markdown",
   "id": "ae8ef27e-c395-4649-a329-a3bd3d61f755",
   "metadata": {},
   "source": [
    "<div style=\"border:solid steelblue 3px; padding: 4px; border-radius: 10px\">\n",
    "В основном финансирование осуществляется за счет бюджета Фонда кино. В период с 2013 по 2016 объем финансирования существенно вырос. Затем в оставшиеся периоды практически не изменялся"
   ]
  },
  {
   "cell_type": "markdown",
   "id": "818d51c0-b7a6-4a48-b6dc-5a43933e284b",
   "metadata": {},
   "source": [
    "### Анализируем прибыльность фильмов с гос. поддержкой "
   ]
  },
  {
   "cell_type": "code",
   "execution_count": 67,
   "id": "d2160696-7d2b-4a3f-8cab-715cc8f67aaf",
   "metadata": {},
   "outputs": [
    {
     "data": {
      "image/png": "[encoded data removed]",
      "text/plain": [
       "<Figure size 500x300 with 1 Axes>"
      ]
     },
     "metadata": {},
     "output_type": "display_data"
    },
    {
     "data": {
      "text/plain": [
       "0.11205757183257078"
      ]
     },
     "execution_count": 67,
     "metadata": {},
     "output_type": "execute_result"
    }
   ],
   "source": [
    "gos_film.plot(x='support',y='revenue', kind='scatter', figsize=(5, 3), grid=True, alpha=0.2)\n",
    "plt.show()\n",
    "gos_film['revenue'].corr(gos_film['support'])"
   ]
  },
  {
   "cell_type": "markdown",
   "id": "0c2f3baf-6ffd-4310-bb29-77614b6fade1",
   "metadata": {},
   "source": [
    "<div style=\"border:solid steelblue 3px; padding: 4px; border-radius: 10px\">\n",
    "Зависимость прибыльности фильма от гос поддержки отсуствует. В целом на график видим равномерное распредление как прибыльных (в положительной зоне оси У) так и убыточных (в отрицательной зоне оси У) фильмов.\n",
    "При этом есть несколько аномальных значений, получивших высокую прибыль при сопоставимой с другими фильмами гос. поддержкой.\n",
    "Выведем их на экран ниже"
   ]
  },
  {
   "cell_type": "code",
   "execution_count": 68,
   "id": "7b3ecb56-f73b-47aa-b817-eda7bb8aa5ae",
   "metadata": {},
   "outputs": [
    {
     "data": {
      "text/html": [
       "<div>\n",
       "<style scoped>\n",
       "    .dataframe tbody tr th:only-of-type {\n",
       "        vertical-align: middle;\n",
       "    }\n",
       "\n",
       "    .dataframe tbody tr th {\n",
       "        vertical-align: top;\n",
       "    }\n",
       "\n",
       "    .dataframe thead th {\n",
       "        text-align: right;\n",
       "    }\n",
       "</style>\n",
       "<table border=\"1\" class=\"dataframe\">\n",
       "  <thead>\n",
       "    <tr style=\"text-align: right;\">\n",
       "      <th></th>\n",
       "      <th>title</th>\n",
       "      <th>revenue</th>\n",
       "      <th>support</th>\n",
       "      <th>box_office</th>\n",
       "      <th>budget</th>\n",
       "    </tr>\n",
       "  </thead>\n",
       "  <tbody>\n",
       "    <tr>\n",
       "      <th>6883</th>\n",
       "      <td>Холоп</td>\n",
       "      <td>2,913,569.0</td>\n",
       "      <td>60,000.0</td>\n",
       "      <td>3,073,569.0</td>\n",
       "      <td>160,000.0</td>\n",
       "    </tr>\n",
       "    <tr>\n",
       "      <th>5123</th>\n",
       "      <td>Движение вверх</td>\n",
       "      <td>2,189,494.0</td>\n",
       "      <td>400,000.0</td>\n",
       "      <td>2,779,686.0</td>\n",
       "      <td>590,192.0</td>\n",
       "    </tr>\n",
       "    <tr>\n",
       "      <th>6007</th>\n",
       "      <td>Т-34</td>\n",
       "      <td>1,707,969.0</td>\n",
       "      <td>180,000.0</td>\n",
       "      <td>2,271,754.0</td>\n",
       "      <td>563,785.0</td>\n",
       "    </tr>\n",
       "    <tr>\n",
       "      <th>4976</th>\n",
       "      <td>Последний богатырь</td>\n",
       "      <td>1,302,560.0</td>\n",
       "      <td>100,000.0</td>\n",
       "      <td>1,655,038.0</td>\n",
       "      <td>352,478.0</td>\n",
       "    </tr>\n",
       "    <tr>\n",
       "      <th>5178</th>\n",
       "      <td>Лёд</td>\n",
       "      <td>1,297,147.0</td>\n",
       "      <td>85,000.0</td>\n",
       "      <td>1,445,732.0</td>\n",
       "      <td>148,585.0</td>\n",
       "    </tr>\n",
       "  </tbody>\n",
       "</table>\n",
       "</div>"
      ],
      "text/plain": [
       "                   title     revenue   support  box_office    budget\n",
       "6883               Холоп 2,913,569.0  60,000.0 3,073,569.0 160,000.0\n",
       "5123      Движение вверх 2,189,494.0 400,000.0 2,779,686.0 590,192.0\n",
       "6007                Т-34 1,707,969.0 180,000.0 2,271,754.0 563,785.0\n",
       "4976  Последний богатырь 1,302,560.0 100,000.0 1,655,038.0 352,478.0\n",
       "5178                 Лёд 1,297,147.0  85,000.0 1,445,732.0 148,585.0"
      ]
     },
     "execution_count": 68,
     "metadata": {},
     "output_type": "execute_result"
    }
   ],
   "source": [
    "#топ-5 наиболее прибыльных фильмов\n",
    "gos_film[['title','revenue','support','box_office','budget']].sort_values(by='revenue',ascending=False).head(5)"
   ]
  },
  {
   "cell_type": "markdown",
   "id": "8c907632-2f90-471e-bfa9-a2795e9c4964",
   "metadata": {},
   "source": [
    "### Анализируем рейтинг фильмов с гос. поддержкой"
   ]
  },
  {
   "cell_type": "code",
   "execution_count": 69,
   "id": "61678c34-8fef-4bc7-88da-44df61af7f66",
   "metadata": {},
   "outputs": [
    {
     "data": {
      "image/png": "[encoded data removed]",
      "text/plain": [
       "<Figure size 500x300 with 1 Axes>"
      ]
     },
     "metadata": {},
     "output_type": "display_data"
    },
    {
     "data": {
      "text/plain": [
       "0.11828742671998188"
      ]
     },
     "execution_count": 69,
     "metadata": {},
     "output_type": "execute_result"
    }
   ],
   "source": [
    "gos_film.plot(x='support',y='ratings', kind='scatter', figsize=(5, 3), grid=True)\n",
    "plt.show()\n",
    "gos_film['ratings'].corr(gos_film['support'])"
   ]
  },
  {
   "cell_type": "markdown",
   "id": "00649490-e01f-4e35-a9df-310175df0bfc",
   "metadata": {},
   "source": [
    "<div style=\"border:solid steelblue 3px; padding: 4px; border-radius: 10px\">\n",
    "Зависимость рейтинга от гос поддержки отсуствует."
   ]
  },
  {
   "cell_type": "markdown",
   "id": "bbfb1ca3-62a0-4a59-8362-b6ef93e0eb94",
   "metadata": {},
   "source": [
    "### Анализируем насколько часто и какие суммы получали из бюджета продюсеры и директоры"
   ]
  },
  {
   "cell_type": "code",
   "execution_count": 70,
   "id": "5481827d-4d7b-446c-8eaa-3118f79631bf",
   "metadata": {},
   "outputs": [],
   "source": [
    "dir_proc = gos_film.pivot_table(\n",
    "    index=['director','producer_main','ratings','year','title','financing_source'], values=['support','revenue'], aggfunc=['sum','count']\n",
    ")\n",
    "dir_proc.columns = ['sum_revenue','sum_support','revenue_count', 'support_count']"
   ]
  },
  {
   "cell_type": "code",
   "execution_count": 71,
   "id": "61d6a741-0ec1-4b43-9590-e11ba3bd0c77",
   "metadata": {
    "scrolled": true
   },
   "outputs": [
    {
     "data": {
      "text/html": [
       "<div>\n",
       "<style scoped>\n",
       "    .dataframe tbody tr th:only-of-type {\n",
       "        vertical-align: middle;\n",
       "    }\n",
       "\n",
       "    .dataframe tbody tr th {\n",
       "        vertical-align: top;\n",
       "    }\n",
       "\n",
       "    .dataframe thead th {\n",
       "        text-align: right;\n",
       "    }\n",
       "</style>\n",
       "<table border=\"1\" class=\"dataframe\">\n",
       "  <thead>\n",
       "    <tr style=\"text-align: right;\">\n",
       "      <th></th>\n",
       "      <th></th>\n",
       "      <th></th>\n",
       "      <th></th>\n",
       "      <th></th>\n",
       "      <th></th>\n",
       "      <th>sum_revenue</th>\n",
       "      <th>sum_support</th>\n",
       "      <th>revenue_count</th>\n",
       "      <th>support_count</th>\n",
       "    </tr>\n",
       "    <tr>\n",
       "      <th>director</th>\n",
       "      <th>producer_main</th>\n",
       "      <th>ratings</th>\n",
       "      <th>year</th>\n",
       "      <th>title</th>\n",
       "      <th>financing_source</th>\n",
       "      <th></th>\n",
       "      <th></th>\n",
       "      <th></th>\n",
       "      <th></th>\n",
       "    </tr>\n",
       "  </thead>\n",
       "  <tbody>\n",
       "    <tr>\n",
       "      <th>А.Кравчук</th>\n",
       "      <th></th>\n",
       "      <th>6.0</th>\n",
       "      <th>2,019.0</th>\n",
       "      <th>Союз спасения</th>\n",
       "      <th>Фонд кино</th>\n",
       "      <td>-262,297.0</td>\n",
       "      <td>500,000.0</td>\n",
       "      <td>1</td>\n",
       "      <td>1</td>\n",
       "    </tr>\n",
       "    <tr>\n",
       "      <th>Ф.Бондарчук</th>\n",
       "      <th></th>\n",
       "      <th>5.7</th>\n",
       "      <th>2,019.0</th>\n",
       "      <th>Вторжение</th>\n",
       "      <th>Фонд кино</th>\n",
       "      <td>0.0</td>\n",
       "      <td>500,000.0</td>\n",
       "      <td>0</td>\n",
       "      <td>1</td>\n",
       "    </tr>\n",
       "    <tr>\n",
       "      <th>А.Мизгирев</th>\n",
       "      <th>А.Роднянский</th>\n",
       "      <th>6.6</th>\n",
       "      <th>2,016.0</th>\n",
       "      <th>Дуэлянт</th>\n",
       "      <th>Фонд кино</th>\n",
       "      <td>-319,916.0</td>\n",
       "      <td>450,000.0</td>\n",
       "      <td>1</td>\n",
       "      <td>1</td>\n",
       "    </tr>\n",
       "    <tr>\n",
       "      <th>Н.Лебедев</th>\n",
       "      <th>Л.Верещагин</th>\n",
       "      <th>7.6</th>\n",
       "      <th>2,016.0</th>\n",
       "      <th>Экипаж .</th>\n",
       "      <th>Фонд кино</th>\n",
       "      <td>766,971.0</td>\n",
       "      <td>442,104.0</td>\n",
       "      <td>1</td>\n",
       "      <td>1</td>\n",
       "    </tr>\n",
       "    <tr>\n",
       "      <th>А.Мегердичев</th>\n",
       "      <th>Л.Верещагин</th>\n",
       "      <th>7.5</th>\n",
       "      <th>2,017.0</th>\n",
       "      <th>Движение вверх</th>\n",
       "      <th>Фонд кино</th>\n",
       "      <td>2,189,494.0</td>\n",
       "      <td>400,000.0</td>\n",
       "      <td>1</td>\n",
       "      <td>1</td>\n",
       "    </tr>\n",
       "    <tr>\n",
       "      <th>И.Шурховецкий</th>\n",
       "      <th>ООО \"Централ Партнершип\"</th>\n",
       "      <th>6.4</th>\n",
       "      <th>2,017.0</th>\n",
       "      <th>Легенда о Коловрате</th>\n",
       "      <th>Фонд кино</th>\n",
       "      <td>90,392.0</td>\n",
       "      <td>350,000.0</td>\n",
       "      <td>1</td>\n",
       "      <td>1</td>\n",
       "    </tr>\n",
       "    <tr>\n",
       "      <th>Н.Хомерики</th>\n",
       "      <th>И.Толстунов</th>\n",
       "      <th>6.5</th>\n",
       "      <th>2,016.0</th>\n",
       "      <th>Ледокол</th>\n",
       "      <th>Фонд кино</th>\n",
       "      <td>-92,930.0</td>\n",
       "      <td>300,000.0</td>\n",
       "      <td>1</td>\n",
       "      <td>1</td>\n",
       "    </tr>\n",
       "    <tr>\n",
       "      <th>А.Учитель</th>\n",
       "      <th>А.Учитель</th>\n",
       "      <th>7.7</th>\n",
       "      <th>2,017.0</th>\n",
       "      <th>Матильда</th>\n",
       "      <th>Фонд кино</th>\n",
       "      <td>-521,130.0</td>\n",
       "      <td>300,000.0</td>\n",
       "      <td>1</td>\n",
       "      <td>1</td>\n",
       "    </tr>\n",
       "    <tr>\n",
       "      <th>Н.Хомерики</th>\n",
       "      <th>С.Мелькумов</th>\n",
       "      <th>5.8</th>\n",
       "      <th>2,019.0</th>\n",
       "      <th>Девятая</th>\n",
       "      <th>Фонд кино</th>\n",
       "      <td>-397,828.0</td>\n",
       "      <td>300,000.0</td>\n",
       "      <td>1</td>\n",
       "      <td>1</td>\n",
       "    </tr>\n",
       "    <tr>\n",
       "      <th>О.Степченко</th>\n",
       "      <th>С.Сельянов</th>\n",
       "      <th>5.8</th>\n",
       "      <th>2,019.0</th>\n",
       "      <th>Тайна Печати Дракона</th>\n",
       "      <th>Фонд кино</th>\n",
       "      <td>-1,971,477.0</td>\n",
       "      <td>270,000.0</td>\n",
       "      <td>1</td>\n",
       "      <td>1</td>\n",
       "    </tr>\n",
       "  </tbody>\n",
       "</table>\n",
       "</div>"
      ],
      "text/plain": [
       "                                                                                              sum_revenue  \\\n",
       "director      producer_main            ratings year    title                financing_source                \n",
       "А.Кравчук                              6.0     2,019.0 Союз спасения        Фонд кино          -262,297.0   \n",
       "Ф.Бондарчук                            5.7     2,019.0 Вторжение            Фонд кино                 0.0   \n",
       "А.Мизгирев    А.Роднянский             6.6     2,016.0 Дуэлянт              Фонд кино          -319,916.0   \n",
       "Н.Лебедев     Л.Верещагин              7.6     2,016.0 Экипаж .             Фонд кино           766,971.0   \n",
       "А.Мегердичев  Л.Верещагин              7.5     2,017.0 Движение вверх       Фонд кино         2,189,494.0   \n",
       "И.Шурховецкий ООО \"Централ Партнершип\" 6.4     2,017.0 Легенда о Коловрате  Фонд кино            90,392.0   \n",
       "Н.Хомерики    И.Толстунов              6.5     2,016.0 Ледокол              Фонд кино           -92,930.0   \n",
       "А.Учитель     А.Учитель                7.7     2,017.0 Матильда             Фонд кино          -521,130.0   \n",
       "Н.Хомерики    С.Мелькумов              5.8     2,019.0 Девятая              Фонд кино          -397,828.0   \n",
       "О.Степченко   С.Сельянов               5.8     2,019.0 Тайна Печати Дракона Фонд кино        -1,971,477.0   \n",
       "\n",
       "                                                                                              sum_support  \\\n",
       "director      producer_main            ratings year    title                financing_source                \n",
       "А.Кравчук                              6.0     2,019.0 Союз спасения        Фонд кино           500,000.0   \n",
       "Ф.Бондарчук                            5.7     2,019.0 Вторжение            Фонд кино           500,000.0   \n",
       "А.Мизгирев    А.Роднянский             6.6     2,016.0 Дуэлянт              Фонд кино           450,000.0   \n",
       "Н.Лебедев     Л.Верещагин              7.6     2,016.0 Экипаж .             Фонд кино           442,104.0   \n",
       "А.Мегердичев  Л.Верещагин              7.5     2,017.0 Движение вверх       Фонд кино           400,000.0   \n",
       "И.Шурховецкий ООО \"Централ Партнершип\" 6.4     2,017.0 Легенда о Коловрате  Фонд кино           350,000.0   \n",
       "Н.Хомерики    И.Толстунов              6.5     2,016.0 Ледокол              Фонд кино           300,000.0   \n",
       "А.Учитель     А.Учитель                7.7     2,017.0 Матильда             Фонд кино           300,000.0   \n",
       "Н.Хомерики    С.Мелькумов              5.8     2,019.0 Девятая              Фонд кино           300,000.0   \n",
       "О.Степченко   С.Сельянов               5.8     2,019.0 Тайна Печати Дракона Фонд кино           270,000.0   \n",
       "\n",
       "                                                                                              revenue_count  \\\n",
       "director      producer_main            ratings year    title                financing_source                  \n",
       "А.Кравчук                              6.0     2,019.0 Союз спасения        Фонд кино                     1   \n",
       "Ф.Бондарчук                            5.7     2,019.0 Вторжение            Фонд кино                     0   \n",
       "А.Мизгирев    А.Роднянский             6.6     2,016.0 Дуэлянт              Фонд кино                     1   \n",
       "Н.Лебедев     Л.Верещагин              7.6     2,016.0 Экипаж .             Фонд кино                     1   \n",
       "А.Мегердичев  Л.Верещагин              7.5     2,017.0 Движение вверх       Фонд кино                     1   \n",
       "И.Шурховецкий ООО \"Централ Партнершип\" 6.4     2,017.0 Легенда о Коловрате  Фонд кино                     1   \n",
       "Н.Хомерики    И.Толстунов              6.5     2,016.0 Ледокол              Фонд кино                     1   \n",
       "А.Учитель     А.Учитель                7.7     2,017.0 Матильда             Фонд кино                     1   \n",
       "Н.Хомерики    С.Мелькумов              5.8     2,019.0 Девятая              Фонд кино                     1   \n",
       "О.Степченко   С.Сельянов               5.8     2,019.0 Тайна Печати Дракона Фонд кино                     1   \n",
       "\n",
       "                                                                                              support_count  \n",
       "director      producer_main            ratings year    title                financing_source                 \n",
       "А.Кравчук                              6.0     2,019.0 Союз спасения        Фонд кино                     1  \n",
       "Ф.Бондарчук                            5.7     2,019.0 Вторжение            Фонд кино                     1  \n",
       "А.Мизгирев    А.Роднянский             6.6     2,016.0 Дуэлянт              Фонд кино                     1  \n",
       "Н.Лебедев     Л.Верещагин              7.6     2,016.0 Экипаж .             Фонд кино                     1  \n",
       "А.Мегердичев  Л.Верещагин              7.5     2,017.0 Движение вверх       Фонд кино                     1  \n",
       "И.Шурховецкий ООО \"Централ Партнершип\" 6.4     2,017.0 Легенда о Коловрате  Фонд кино                     1  \n",
       "Н.Хомерики    И.Толстунов              6.5     2,016.0 Ледокол              Фонд кино                     1  \n",
       "А.Учитель     А.Учитель                7.7     2,017.0 Матильда             Фонд кино                     1  \n",
       "Н.Хомерики    С.Мелькумов              5.8     2,019.0 Девятая              Фонд кино                     1  \n",
       "О.Степченко   С.Сельянов               5.8     2,019.0 Тайна Печати Дракона Фонд кино                     1  "
      ]
     },
     "metadata": {},
     "output_type": "display_data"
    },
    {
     "data": {
      "text/html": [
       "<div>\n",
       "<style scoped>\n",
       "    .dataframe tbody tr th:only-of-type {\n",
       "        vertical-align: middle;\n",
       "    }\n",
       "\n",
       "    .dataframe tbody tr th {\n",
       "        vertical-align: top;\n",
       "    }\n",
       "\n",
       "    .dataframe thead th {\n",
       "        text-align: right;\n",
       "    }\n",
       "</style>\n",
       "<table border=\"1\" class=\"dataframe\">\n",
       "  <thead>\n",
       "    <tr style=\"text-align: right;\">\n",
       "      <th></th>\n",
       "      <th></th>\n",
       "      <th></th>\n",
       "      <th></th>\n",
       "      <th></th>\n",
       "      <th></th>\n",
       "      <th>sum_revenue</th>\n",
       "      <th>sum_support</th>\n",
       "      <th>revenue_count</th>\n",
       "      <th>support_count</th>\n",
       "    </tr>\n",
       "    <tr>\n",
       "      <th>director</th>\n",
       "      <th>producer_main</th>\n",
       "      <th>ratings</th>\n",
       "      <th>year</th>\n",
       "      <th>title</th>\n",
       "      <th>financing_source</th>\n",
       "      <th></th>\n",
       "      <th></th>\n",
       "      <th></th>\n",
       "      <th></th>\n",
       "    </tr>\n",
       "  </thead>\n",
       "  <tbody>\n",
       "    <tr>\n",
       "      <th>К.Шипенко</th>\n",
       "      <th>Э.Илоян</th>\n",
       "      <th>6.8</th>\n",
       "      <th>2,019.0</th>\n",
       "      <th>Холоп</th>\n",
       "      <th>Фонд кино</th>\n",
       "      <td>2,913,569.0</td>\n",
       "      <td>60,000.0</td>\n",
       "      <td>1</td>\n",
       "      <td>1</td>\n",
       "    </tr>\n",
       "    <tr>\n",
       "      <th>А.Мегердичев</th>\n",
       "      <th>Л.Верещагин</th>\n",
       "      <th>7.5</th>\n",
       "      <th>2,017.0</th>\n",
       "      <th>Движение вверх</th>\n",
       "      <th>Фонд кино</th>\n",
       "      <td>2,189,494.0</td>\n",
       "      <td>400,000.0</td>\n",
       "      <td>1</td>\n",
       "      <td>1</td>\n",
       "    </tr>\n",
       "    <tr>\n",
       "      <th>А.Сидоров</th>\n",
       "      <th>А.Златопольский</th>\n",
       "      <th>6.5</th>\n",
       "      <th>2,018.0</th>\n",
       "      <th>Т-34</th>\n",
       "      <th>Фонд кино</th>\n",
       "      <td>1,707,969.0</td>\n",
       "      <td>180,000.0</td>\n",
       "      <td>1</td>\n",
       "      <td>1</td>\n",
       "    </tr>\n",
       "    <tr>\n",
       "      <th>Д.Дьяченко</th>\n",
       "      <th>Э.Илоян</th>\n",
       "      <th>6.8</th>\n",
       "      <th>2,017.0</th>\n",
       "      <th>Последний богатырь</th>\n",
       "      <th>Фонд кино</th>\n",
       "      <td>1,302,560.0</td>\n",
       "      <td>100,000.0</td>\n",
       "      <td>1</td>\n",
       "      <td>1</td>\n",
       "    </tr>\n",
       "    <tr>\n",
       "      <th>Ф.Бондарчук</th>\n",
       "      <th>ООО \"Арт Пикчерс Студия\"</th>\n",
       "      <th>5.6</th>\n",
       "      <th>2,016.0</th>\n",
       "      <th>Притяжение (2016)</th>\n",
       "      <th>Фонд кино</th>\n",
       "      <td>1,038,321.0</td>\n",
       "      <td>250,000.0</td>\n",
       "      <td>1</td>\n",
       "      <td>1</td>\n",
       "    </tr>\n",
       "    <tr>\n",
       "      <th>Н.Лебедев</th>\n",
       "      <th>Л.Верещагин</th>\n",
       "      <th>7.6</th>\n",
       "      <th>2,016.0</th>\n",
       "      <th>Экипаж .</th>\n",
       "      <th>Фонд кино</th>\n",
       "      <td>766,971.0</td>\n",
       "      <td>442,104.0</td>\n",
       "      <td>1</td>\n",
       "      <td>1</td>\n",
       "    </tr>\n",
       "    <tr>\n",
       "      <th>Д.Киселев, А.Першин (Ж.Крыжовников), А.Карпиловский, А.Черномазов (А.Нужный)</th>\n",
       "      <th>Т.Бекмамбетов</th>\n",
       "      <th>5.8</th>\n",
       "      <th>2,017.0</th>\n",
       "      <th>Ёлки Новые</th>\n",
       "      <th>Фонд кино</th>\n",
       "      <td>681,069.0</td>\n",
       "      <td>100,000.0</td>\n",
       "      <td>1</td>\n",
       "      <td>1</td>\n",
       "    </tr>\n",
       "    <tr>\n",
       "      <th>К.Феоктистов</th>\n",
       "      <th>С.Сельянов</th>\n",
       "      <th>5.5</th>\n",
       "      <th>2,017.0</th>\n",
       "      <th>Три богатыря и принцесса Египта</th>\n",
       "      <th>Фонд кино</th>\n",
       "      <td>584,763.0</td>\n",
       "      <td>50,000.0</td>\n",
       "      <td>1</td>\n",
       "      <td>1</td>\n",
       "    </tr>\n",
       "    <tr>\n",
       "      <th>А.Першин (псевдоним Ж.Крыжовников)</th>\n",
       "      <th>Т.Бекмамбетов</th>\n",
       "      <th>4.7</th>\n",
       "      <th>2,015.0</th>\n",
       "      <th>Самый Лучший День</th>\n",
       "      <th>Фонд кино</th>\n",
       "      <td>552,410.0</td>\n",
       "      <td>63,000.0</td>\n",
       "      <td>1</td>\n",
       "      <td>1</td>\n",
       "    </tr>\n",
       "    <tr>\n",
       "      <th>А.Черномазов (псевдоним Алексей Нужный)</th>\n",
       "      <th>С.Корнихин</th>\n",
       "      <th>6.9</th>\n",
       "      <th>2,018.0</th>\n",
       "      <th>Я худею</th>\n",
       "      <th>Министерство культуры</th>\n",
       "      <td>545,813.0</td>\n",
       "      <td>30,000.0</td>\n",
       "      <td>1</td>\n",
       "      <td>1</td>\n",
       "    </tr>\n",
       "  </tbody>\n",
       "</table>\n",
       "</div>"
      ],
      "text/plain": [
       "                                                                                                                                                   sum_revenue  \\\n",
       "director                                           producer_main            ratings year    title                           financing_source                     \n",
       "К.Шипенко                                          Э.Илоян                  6.8     2,019.0 Холоп                           Фонд кино              2,913,569.0   \n",
       "А.Мегердичев                                       Л.Верещагин              7.5     2,017.0 Движение вверх                  Фонд кино              2,189,494.0   \n",
       "А.Сидоров                                          А.Златопольский          6.5     2,018.0 Т-34                            Фонд кино              1,707,969.0   \n",
       "Д.Дьяченко                                         Э.Илоян                  6.8     2,017.0 Последний богатырь              Фонд кино              1,302,560.0   \n",
       "Ф.Бондарчук                                        ООО \"Арт Пикчерс Студия\" 5.6     2,016.0 Притяжение (2016)               Фонд кино              1,038,321.0   \n",
       "Н.Лебедев                                          Л.Верещагин              7.6     2,016.0 Экипаж .                        Фонд кино                766,971.0   \n",
       "Д.Киселев, А.Першин (Ж.Крыжовников), А.Карпилов... Т.Бекмамбетов            5.8     2,017.0 Ёлки Новые                      Фонд кино                681,069.0   \n",
       "К.Феоктистов                                       С.Сельянов               5.5     2,017.0 Три богатыря и принцесса Египта Фонд кино                584,763.0   \n",
       "А.Першин (псевдоним Ж.Крыжовников)                 Т.Бекмамбетов            4.7     2,015.0 Самый Лучший День               Фонд кино                552,410.0   \n",
       "А.Черномазов (псевдоним Алексей Нужный)            С.Корнихин               6.9     2,018.0 Я худею                         Министерство культуры    545,813.0   \n",
       "\n",
       "                                                                                                                                                   sum_support  \\\n",
       "director                                           producer_main            ratings year    title                           financing_source                     \n",
       "К.Шипенко                                          Э.Илоян                  6.8     2,019.0 Холоп                           Фонд кино                 60,000.0   \n",
       "А.Мегердичев                                       Л.Верещагин              7.5     2,017.0 Движение вверх                  Фонд кино                400,000.0   \n",
       "А.Сидоров                                          А.Златопольский          6.5     2,018.0 Т-34                            Фонд кино                180,000.0   \n",
       "Д.Дьяченко                                         Э.Илоян                  6.8     2,017.0 Последний богатырь              Фонд кино                100,000.0   \n",
       "Ф.Бондарчук                                        ООО \"Арт Пикчерс Студия\" 5.6     2,016.0 Притяжение (2016)               Фонд кино                250,000.0   \n",
       "Н.Лебедев                                          Л.Верещагин              7.6     2,016.0 Экипаж .                        Фонд кино                442,104.0   \n",
       "Д.Киселев, А.Першин (Ж.Крыжовников), А.Карпилов... Т.Бекмамбетов            5.8     2,017.0 Ёлки Новые                      Фонд кино                100,000.0   \n",
       "К.Феоктистов                                       С.Сельянов               5.5     2,017.0 Три богатыря и принцесса Египта Фонд кино                 50,000.0   \n",
       "А.Першин (псевдоним Ж.Крыжовников)                 Т.Бекмамбетов            4.7     2,015.0 Самый Лучший День               Фонд кино                 63,000.0   \n",
       "А.Черномазов (псевдоним Алексей Нужный)            С.Корнихин               6.9     2,018.0 Я худею                         Министерство культуры     30,000.0   \n",
       "\n",
       "                                                                                                                                                   revenue_count  \\\n",
       "director                                           producer_main            ratings year    title                           financing_source                       \n",
       "К.Шипенко                                          Э.Илоян                  6.8     2,019.0 Холоп                           Фонд кино                          1   \n",
       "А.Мегердичев                                       Л.Верещагин              7.5     2,017.0 Движение вверх                  Фонд кино                          1   \n",
       "А.Сидоров                                          А.Златопольский          6.5     2,018.0 Т-34                            Фонд кино                          1   \n",
       "Д.Дьяченко                                         Э.Илоян                  6.8     2,017.0 Последний богатырь              Фонд кино                          1   \n",
       "Ф.Бондарчук                                        ООО \"Арт Пикчерс Студия\" 5.6     2,016.0 Притяжение (2016)               Фонд кино                          1   \n",
       "Н.Лебедев                                          Л.Верещагин              7.6     2,016.0 Экипаж .                        Фонд кино                          1   \n",
       "Д.Киселев, А.Першин (Ж.Крыжовников), А.Карпилов... Т.Бекмамбетов            5.8     2,017.0 Ёлки Новые                      Фонд кино                          1   \n",
       "К.Феоктистов                                       С.Сельянов               5.5     2,017.0 Три богатыря и принцесса Египта Фонд кино                          1   \n",
       "А.Першин (псевдоним Ж.Крыжовников)                 Т.Бекмамбетов            4.7     2,015.0 Самый Лучший День               Фонд кино                          1   \n",
       "А.Черномазов (псевдоним Алексей Нужный)            С.Корнихин               6.9     2,018.0 Я худею                         Министерство культуры              1   \n",
       "\n",
       "                                                                                                                                                   support_count  \n",
       "director                                           producer_main            ratings year    title                           financing_source                      \n",
       "К.Шипенко                                          Э.Илоян                  6.8     2,019.0 Холоп                           Фонд кино                          1  \n",
       "А.Мегердичев                                       Л.Верещагин              7.5     2,017.0 Движение вверх                  Фонд кино                          1  \n",
       "А.Сидоров                                          А.Златопольский          6.5     2,018.0 Т-34                            Фонд кино                          1  \n",
       "Д.Дьяченко                                         Э.Илоян                  6.8     2,017.0 Последний богатырь              Фонд кино                          1  \n",
       "Ф.Бондарчук                                        ООО \"Арт Пикчерс Студия\" 5.6     2,016.0 Притяжение (2016)               Фонд кино                          1  \n",
       "Н.Лебедев                                          Л.Верещагин              7.6     2,016.0 Экипаж .                        Фонд кино                          1  \n",
       "Д.Киселев, А.Першин (Ж.Крыжовников), А.Карпилов... Т.Бекмамбетов            5.8     2,017.0 Ёлки Новые                      Фонд кино                          1  \n",
       "К.Феоктистов                                       С.Сельянов               5.5     2,017.0 Три богатыря и принцесса Египта Фонд кино                          1  \n",
       "А.Першин (псевдоним Ж.Крыжовников)                 Т.Бекмамбетов            4.7     2,015.0 Самый Лучший День               Фонд кино                          1  \n",
       "А.Черномазов (псевдоним Алексей Нужный)            С.Корнихин               6.9     2,018.0 Я худею                         Министерство культуры              1  "
      ]
     },
     "metadata": {},
     "output_type": "display_data"
    }
   ],
   "source": [
    "display(dir_proc.sort_values(by='sum_support',ascending=False).head(10))\n",
    "display(dir_proc.sort_values(by='sum_revenue',ascending=False).head(10))"
   ]
  },
  {
   "cell_type": "markdown",
   "id": "ad826c0a-264e-4524-82b6-002f35f82e85",
   "metadata": {},
   "source": [
    "<div style=\"border:solid steelblue 3px; padding: 4px; border-radius: 10px\">\n",
    "В целом видим, что у многих продюсеров был шанс реализовать фильм с использованием бюджетных средств. \n",
    "\n",
    "Наибольшего успеха достиг главный продюсер Э.Илоян, суммарно его фильмы \"Холоп\" и \"Последний богатырь\" принесли более 4 млрд. руб. чистой прибыли.\n",
    "\n",
    "Можно с уверенностью сказать, что Э.Илоян разбирается в талантах."
   ]
  },
  {
   "cell_type": "markdown",
   "id": "1f9d501d-8066-4017-9fc5-e98b561da03a",
   "metadata": {},
   "source": [
    "# 5 Общий вывод"
   ]
  },
  {
   "cell_type": "markdown",
   "id": "aba087e8-1942-4b57-97eb-f540fdc75c89",
   "metadata": {},
   "source": [
    "Перед нами поставлена задача изучить рынок российского кинопроката и выявить текущие тренды. Заказчиком этого исследования ялвяется Министерство культуры Российской Федерации.\n",
    "\n",
    "Описание данных:\n",
    "\n",
    "   У одного фильма может быть несколько прокатных удостоверений. \n",
    "\n",
    "    title — название фильма;\n",
    "    puNumber — номер прокатного удостоверения;\n",
    "    show_start_date — дата премьеры фильма;\n",
    "    type — тип фильма;\n",
    "    film_studio — студия-производитель;\n",
    "    production_country — страна-производитель;\n",
    "    director — режиссёр;\n",
    "    producer — продюсер;\n",
    "    age_restriction — возрастная категория;\n",
    "    refundable_support — объём возвратных средств государственной поддержки;\n",
    "    nonrefundable_support — объём невозвратных средств государственной поддержки;\n",
    "    financing_source — источник государственного финансирования;\n",
    "    budget — общий бюджет фильма;\n",
    "    ratings — рейтинг фильма на КиноПоиске;\n",
    "    genres — жанр фильма;\n",
    "    box_office — сборы в рублях."
   ]
  },
  {
   "cell_type": "markdown",
   "id": "0f4b4f15-4f5a-4c97-81a6-985c99f886c6",
   "metadata": {},
   "source": [
    "**Выполнена предобработка данных:**\n",
    "* заполнены пропущенные значения там где это возможно\n",
    "* добавлены новые столбцы\n",
    "* изменены типы данных\n",
    "* исправлены не явные дубликаты"
   ]
  },
  {
   "cell_type": "markdown",
   "id": "6200e3e8-a39f-4a87-b1fc-a985e35a6b21",
   "metadata": {},
   "source": [
    "**Выявлены следующие тренды:**\n",
    "1. Доля фильмов, по которым имеются сведения о показах в российских кинотеатрах росла на протяжении периода с 2010 по 2017 годы с 11% до 71%. Затем эта доля снизилась с 2017 по 2019 год с 71% до 57%. Таким образом, наиболее полная информация о показах была в 2017 году.\n",
    "2. На протяжении почти всего исследуемого периода кассовые сборы росли.\n",
    "В 2019 году сборы были максимильные и составили 49.6 млрд. руб.\n",
    "В 2010 году сборы были на минимуме и составили 2.4 млн. руб.\n",
    "В разрезе каждого года медианные значения кассовых сборов значительно ниже своих средних значений. Это говорит о том, что основную долю кассовых сборов как правило занимают единичные блокбастеры, а остальные фильмы в большинстве своем приносят незначительный доход в общий объем сборов\n",
    "3. В период с 2015 по 2019 годы наибольшие сборы в разрезе возрастных категорий составили 76 млрд.руб. и пришлись на фильмы категории «16+» - для детей старше 16 лет. \n",
    "На протяжении всего периода фильмы данной возрастной категории занимали наибольшую долю. В основном это фильмы Марвел. Но в 2019 году доля фильмов категории «16+» сравнялась с долями фильмов категорий «6+» и «12+». Вероятно это связано с:\n",
    "- выходом в прокат мощнейших ультраблокбастеров в жанре комедия (Холоп), фантастика и мультфильмов (Малефисента), которые своей мощью затмили Марвел.\n",
    "- увеличением качества и уровня съемок семейных фильмов/мультфильмов, на которые ходят семьями\n",
    "- ужесточением контроля возрастной категории, то есть детей перестали пускать на фильмы «16+»\n",
    "\n",
    "4. В основном финансирование осуществляется за счет бюджета Фонда кино. В период с 2013 по 2016 объем финансирования существенно вырос. Затем в оставшиеся периоды практически не изменялся\n",
    "5. Зависимость прибыльности фильма от гос поддержки отсуствует. В целом на график видим равномерное распредление как прибыльных (в положительной зоне оси У) так и убыточных (в отрицательной зоне оси У) фильмов. При этом есть несколько аномальных значений, получивших высокую прибыль при сопоставимой с другими фильмами гос. поддержкой.\n",
    "6. Зависимость рейтинга от гос поддержки отсуствует.\n",
    "7. У многих продюсеров был шанс реализовать фильм с использованием бюджетных средств.\n",
    "Наибольшего успеха достиг главный продюсер Э.Илоян, суммарно его фильмы \"Холоп\" и \"Последний богатырь\" принесли более 4 млрд. руб. чистой прибыли.\n",
    "Можно с уверенностью сказать, что Э.Илоян разбирается в талантах."
   ]
  }
 ],
 "metadata": {
  "ExecuteTimeLog": [
   {
    "duration": 804,
    "start_time": "2024-04-10T17:26:49.475Z"
   },
   {
    "duration": 14,
    "start_time": "2024-04-10T17:26:50.281Z"
   },
   {
    "duration": 10,
    "start_time": "2024-04-10T17:26:50.296Z"
   },
   {
    "duration": 9,
    "start_time": "2024-04-10T17:26:50.308Z"
   },
   {
    "duration": 56,
    "start_time": "2024-04-10T17:26:50.318Z"
   },
   {
    "duration": 37,
    "start_time": "2024-04-10T17:26:50.375Z"
   },
   {
    "duration": 14,
    "start_time": "2024-04-10T17:26:50.414Z"
   },
   {
    "duration": 8,
    "start_time": "2024-04-10T17:26:50.429Z"
   },
   {
    "duration": 4,
    "start_time": "2024-04-10T17:26:50.439Z"
   },
   {
    "duration": 13,
    "start_time": "2024-04-10T17:26:50.445Z"
   },
   {
    "duration": 679,
    "start_time": "2024-04-10T17:26:50.459Z"
   },
   {
    "duration": 3,
    "start_time": "2024-04-10T17:26:51.139Z"
   },
   {
    "duration": 4828,
    "start_time": "2024-04-10T17:26:51.143Z"
   },
   {
    "duration": 6,
    "start_time": "2024-04-10T17:26:55.973Z"
   },
   {
    "duration": 4055,
    "start_time": "2024-04-10T17:26:55.980Z"
   },
   {
    "duration": 20,
    "start_time": "2024-04-10T17:27:00.037Z"
   },
   {
    "duration": 74,
    "start_time": "2024-04-10T17:27:00.058Z"
   },
   {
    "duration": 151,
    "start_time": "2024-04-10T17:27:00.133Z"
   },
   {
    "duration": 225,
    "start_time": "2024-04-10T17:27:00.286Z"
   },
   {
    "duration": 5,
    "start_time": "2024-04-10T17:27:00.512Z"
   },
   {
    "duration": 197,
    "start_time": "2024-04-10T17:27:00.518Z"
   },
   {
    "duration": 21,
    "start_time": "2024-04-10T17:27:00.716Z"
   },
   {
    "duration": 434,
    "start_time": "2024-04-10T17:27:00.739Z"
   },
   {
    "duration": 40,
    "start_time": "2024-04-10T17:27:01.174Z"
   },
   {
    "duration": 122,
    "start_time": "2024-04-10T17:27:01.216Z"
   },
   {
    "duration": 109,
    "start_time": "2024-04-10T17:27:01.340Z"
   },
   {
    "duration": 131,
    "start_time": "2024-04-10T17:27:01.450Z"
   },
   {
    "duration": 36,
    "start_time": "2024-04-10T17:27:01.583Z"
   },
   {
    "duration": 58,
    "start_time": "2024-04-10T17:27:01.621Z"
   },
   {
    "duration": 196,
    "start_time": "2024-04-10T17:27:01.681Z"
   },
   {
    "duration": 328,
    "start_time": "2024-04-10T17:27:01.879Z"
   },
   {
    "duration": 10,
    "start_time": "2024-04-10T17:27:02.208Z"
   },
   {
    "duration": 226,
    "start_time": "2024-04-10T17:27:02.220Z"
   },
   {
    "duration": 19,
    "start_time": "2024-04-10T17:27:02.502Z"
   },
   {
    "duration": 83,
    "start_time": "2024-04-10T17:27:02.522Z"
   },
   {
    "duration": 12,
    "start_time": "2024-04-10T19:40:26.429Z"
   },
   {
    "duration": 5,
    "start_time": "2024-04-10T19:42:16.320Z"
   },
   {
    "duration": 62,
    "start_time": "2024-04-10T19:46:39.386Z"
   },
   {
    "duration": 3,
    "start_time": "2024-04-10T19:46:44.979Z"
   },
   {
    "duration": 154,
    "start_time": "2024-04-10T19:53:56.587Z"
   },
   {
    "duration": 18,
    "start_time": "2024-04-10T19:54:53.013Z"
   },
   {
    "duration": 16,
    "start_time": "2024-04-10T19:55:02.983Z"
   },
   {
    "duration": 18,
    "start_time": "2024-04-10T19:55:20.263Z"
   },
   {
    "duration": 5,
    "start_time": "2024-04-10T19:55:32.383Z"
   },
   {
    "duration": 5,
    "start_time": "2024-04-10T19:55:45.023Z"
   },
   {
    "duration": 153,
    "start_time": "2024-04-10T19:55:53.551Z"
   },
   {
    "duration": 14,
    "start_time": "2024-04-10T19:56:19.625Z"
   },
   {
    "duration": 15,
    "start_time": "2024-04-10T19:56:30.946Z"
   },
   {
    "duration": 19,
    "start_time": "2024-04-10T19:56:39.594Z"
   },
   {
    "duration": 5,
    "start_time": "2024-04-10T19:57:05.020Z"
   },
   {
    "duration": 29,
    "start_time": "2024-04-10T19:57:33.259Z"
   },
   {
    "duration": 2169,
    "start_time": "2024-04-10T19:57:40.867Z"
   },
   {
    "duration": 246,
    "start_time": "2024-04-10T19:57:52.660Z"
   },
   {
    "duration": 3,
    "start_time": "2024-04-10T20:11:26.026Z"
   },
   {
    "duration": 892,
    "start_time": "2024-04-10T20:18:51.357Z"
   },
   {
    "duration": 12,
    "start_time": "2024-04-10T20:18:52.250Z"
   },
   {
    "duration": 19,
    "start_time": "2024-04-10T20:18:52.264Z"
   },
   {
    "duration": 8,
    "start_time": "2024-04-10T20:18:52.285Z"
   },
   {
    "duration": 41,
    "start_time": "2024-04-10T20:18:52.295Z"
   },
   {
    "duration": 14,
    "start_time": "2024-04-10T20:18:52.337Z"
   },
   {
    "duration": 14,
    "start_time": "2024-04-10T20:18:52.352Z"
   },
   {
    "duration": 8,
    "start_time": "2024-04-10T20:18:52.367Z"
   },
   {
    "duration": 6,
    "start_time": "2024-04-10T20:18:52.376Z"
   },
   {
    "duration": 33,
    "start_time": "2024-04-10T20:18:52.384Z"
   },
   {
    "duration": 1133,
    "start_time": "2024-04-10T20:18:52.418Z"
   },
   {
    "duration": 4,
    "start_time": "2024-04-10T20:18:53.552Z"
   },
   {
    "duration": 4225,
    "start_time": "2024-04-10T20:18:53.557Z"
   },
   {
    "duration": 7,
    "start_time": "2024-04-10T20:18:57.785Z"
   },
   {
    "duration": 4114,
    "start_time": "2024-04-10T20:18:57.793Z"
   },
   {
    "duration": 22,
    "start_time": "2024-04-10T20:19:01.909Z"
   },
   {
    "duration": 53,
    "start_time": "2024-04-10T20:19:01.932Z"
   },
   {
    "duration": 317,
    "start_time": "2024-04-10T20:19:01.986Z"
   },
   {
    "duration": 249,
    "start_time": "2024-04-10T20:19:02.304Z"
   },
   {
    "duration": 5,
    "start_time": "2024-04-10T20:19:02.554Z"
   },
   {
    "duration": 58,
    "start_time": "2024-04-10T20:19:02.560Z"
   },
   {
    "duration": 21,
    "start_time": "2024-04-10T20:19:02.619Z"
   },
   {
    "duration": 331,
    "start_time": "2024-04-10T20:19:02.641Z"
   },
   {
    "duration": 11,
    "start_time": "2024-04-10T20:19:02.974Z"
   },
   {
    "duration": 19,
    "start_time": "2024-04-10T20:19:02.987Z"
   },
   {
    "duration": 18,
    "start_time": "2024-04-10T20:19:03.008Z"
   },
   {
    "duration": 4,
    "start_time": "2024-04-10T20:19:03.027Z"
   },
   {
    "duration": 8,
    "start_time": "2024-04-10T20:19:03.033Z"
   },
   {
    "duration": 7,
    "start_time": "2024-04-10T20:19:03.043Z"
   },
   {
    "duration": 298,
    "start_time": "2024-04-10T20:19:03.051Z"
   },
   {
    "duration": 203,
    "start_time": "2024-04-10T20:19:03.351Z"
   },
   {
    "duration": 12,
    "start_time": "2024-04-10T20:19:03.556Z"
   },
   {
    "duration": 252,
    "start_time": "2024-04-10T20:19:03.569Z"
   },
   {
    "duration": 18,
    "start_time": "2024-04-10T20:19:03.822Z"
   },
   {
    "duration": 22,
    "start_time": "2024-04-10T20:19:03.841Z"
   },
   {
    "duration": 1566,
    "start_time": "2024-04-11T10:14:58.289Z"
   },
   {
    "duration": 5,
    "start_time": "2024-04-11T10:18:19.789Z"
   },
   {
    "duration": 6,
    "start_time": "2024-04-11T10:18:41.320Z"
   },
   {
    "duration": 7,
    "start_time": "2024-04-11T10:18:50.384Z"
   },
   {
    "duration": 5,
    "start_time": "2024-04-11T10:18:55.873Z"
   },
   {
    "duration": 16,
    "start_time": "2024-04-11T10:19:18.522Z"
   },
   {
    "duration": 20,
    "start_time": "2024-04-11T10:20:28.893Z"
   },
   {
    "duration": 28,
    "start_time": "2024-04-11T10:20:49.090Z"
   },
   {
    "duration": 37,
    "start_time": "2024-04-11T10:21:15.607Z"
   },
   {
    "duration": 7,
    "start_time": "2024-04-11T10:22:21.387Z"
   },
   {
    "duration": 25,
    "start_time": "2024-04-11T10:26:12.042Z"
   },
   {
    "duration": 358,
    "start_time": "2024-04-11T10:27:59.479Z"
   },
   {
    "duration": 6,
    "start_time": "2024-04-11T10:28:04.110Z"
   },
   {
    "duration": 25,
    "start_time": "2024-04-11T10:28:05.928Z"
   },
   {
    "duration": 20,
    "start_time": "2024-04-11T10:28:34.005Z"
   },
   {
    "duration": 18,
    "start_time": "2024-04-11T10:28:38.143Z"
   },
   {
    "duration": 1116,
    "start_time": "2024-04-11T10:30:04.634Z"
   },
   {
    "duration": 0,
    "start_time": "2024-04-11T10:30:05.752Z"
   },
   {
    "duration": 0,
    "start_time": "2024-04-11T10:30:05.754Z"
   },
   {
    "duration": 0,
    "start_time": "2024-04-11T10:30:05.755Z"
   },
   {
    "duration": 0,
    "start_time": "2024-04-11T10:30:05.756Z"
   },
   {
    "duration": 0,
    "start_time": "2024-04-11T10:30:05.757Z"
   },
   {
    "duration": 0,
    "start_time": "2024-04-11T10:30:05.758Z"
   },
   {
    "duration": 0,
    "start_time": "2024-04-11T10:30:05.759Z"
   },
   {
    "duration": 0,
    "start_time": "2024-04-11T10:30:05.761Z"
   },
   {
    "duration": 0,
    "start_time": "2024-04-11T10:30:05.762Z"
   },
   {
    "duration": 0,
    "start_time": "2024-04-11T10:30:05.763Z"
   },
   {
    "duration": 0,
    "start_time": "2024-04-11T10:30:05.764Z"
   },
   {
    "duration": 0,
    "start_time": "2024-04-11T10:30:05.780Z"
   },
   {
    "duration": 0,
    "start_time": "2024-04-11T10:30:05.782Z"
   },
   {
    "duration": 0,
    "start_time": "2024-04-11T10:30:05.783Z"
   },
   {
    "duration": 0,
    "start_time": "2024-04-11T10:30:05.784Z"
   },
   {
    "duration": 0,
    "start_time": "2024-04-11T10:30:05.786Z"
   },
   {
    "duration": 0,
    "start_time": "2024-04-11T10:30:05.787Z"
   },
   {
    "duration": 0,
    "start_time": "2024-04-11T10:30:05.788Z"
   },
   {
    "duration": 0,
    "start_time": "2024-04-11T10:30:05.789Z"
   },
   {
    "duration": 0,
    "start_time": "2024-04-11T10:30:05.790Z"
   },
   {
    "duration": 0,
    "start_time": "2024-04-11T10:30:05.792Z"
   },
   {
    "duration": 0,
    "start_time": "2024-04-11T10:30:05.793Z"
   },
   {
    "duration": 0,
    "start_time": "2024-04-11T10:30:05.794Z"
   },
   {
    "duration": 0,
    "start_time": "2024-04-11T10:30:05.795Z"
   },
   {
    "duration": 0,
    "start_time": "2024-04-11T10:30:05.796Z"
   },
   {
    "duration": 0,
    "start_time": "2024-04-11T10:30:05.797Z"
   },
   {
    "duration": 0,
    "start_time": "2024-04-11T10:30:05.798Z"
   },
   {
    "duration": 0,
    "start_time": "2024-04-11T10:30:05.799Z"
   },
   {
    "duration": 0,
    "start_time": "2024-04-11T10:30:05.800Z"
   },
   {
    "duration": 0,
    "start_time": "2024-04-11T10:30:05.801Z"
   },
   {
    "duration": 0,
    "start_time": "2024-04-11T10:30:05.802Z"
   },
   {
    "duration": 0,
    "start_time": "2024-04-11T10:30:05.804Z"
   },
   {
    "duration": 0,
    "start_time": "2024-04-11T10:30:05.805Z"
   },
   {
    "duration": 0,
    "start_time": "2024-04-11T10:30:05.806Z"
   },
   {
    "duration": 0,
    "start_time": "2024-04-11T10:30:05.807Z"
   },
   {
    "duration": 0,
    "start_time": "2024-04-11T10:30:05.809Z"
   },
   {
    "duration": 956,
    "start_time": "2024-04-11T10:30:28.486Z"
   },
   {
    "duration": 0,
    "start_time": "2024-04-11T10:30:29.445Z"
   },
   {
    "duration": 0,
    "start_time": "2024-04-11T10:30:29.446Z"
   },
   {
    "duration": 0,
    "start_time": "2024-04-11T10:30:29.447Z"
   },
   {
    "duration": 0,
    "start_time": "2024-04-11T10:30:29.448Z"
   },
   {
    "duration": 0,
    "start_time": "2024-04-11T10:30:29.449Z"
   },
   {
    "duration": 0,
    "start_time": "2024-04-11T10:30:29.450Z"
   },
   {
    "duration": 0,
    "start_time": "2024-04-11T10:30:29.451Z"
   },
   {
    "duration": 0,
    "start_time": "2024-04-11T10:30:29.452Z"
   },
   {
    "duration": 0,
    "start_time": "2024-04-11T10:30:29.453Z"
   },
   {
    "duration": 0,
    "start_time": "2024-04-11T10:30:29.455Z"
   },
   {
    "duration": 0,
    "start_time": "2024-04-11T10:30:29.456Z"
   },
   {
    "duration": 0,
    "start_time": "2024-04-11T10:30:29.457Z"
   },
   {
    "duration": 0,
    "start_time": "2024-04-11T10:30:29.458Z"
   },
   {
    "duration": 0,
    "start_time": "2024-04-11T10:30:29.459Z"
   },
   {
    "duration": 0,
    "start_time": "2024-04-11T10:30:29.481Z"
   },
   {
    "duration": 0,
    "start_time": "2024-04-11T10:30:29.482Z"
   },
   {
    "duration": 0,
    "start_time": "2024-04-11T10:30:29.483Z"
   },
   {
    "duration": 0,
    "start_time": "2024-04-11T10:30:29.484Z"
   },
   {
    "duration": 0,
    "start_time": "2024-04-11T10:30:29.485Z"
   },
   {
    "duration": 0,
    "start_time": "2024-04-11T10:30:29.486Z"
   },
   {
    "duration": 0,
    "start_time": "2024-04-11T10:30:29.487Z"
   },
   {
    "duration": 0,
    "start_time": "2024-04-11T10:30:29.488Z"
   },
   {
    "duration": 0,
    "start_time": "2024-04-11T10:30:29.489Z"
   },
   {
    "duration": 0,
    "start_time": "2024-04-11T10:30:29.490Z"
   },
   {
    "duration": 0,
    "start_time": "2024-04-11T10:30:29.491Z"
   },
   {
    "duration": 0,
    "start_time": "2024-04-11T10:30:29.492Z"
   },
   {
    "duration": 0,
    "start_time": "2024-04-11T10:30:29.493Z"
   },
   {
    "duration": 0,
    "start_time": "2024-04-11T10:30:29.494Z"
   },
   {
    "duration": 0,
    "start_time": "2024-04-11T10:30:29.496Z"
   },
   {
    "duration": 0,
    "start_time": "2024-04-11T10:30:29.497Z"
   },
   {
    "duration": 0,
    "start_time": "2024-04-11T10:30:29.498Z"
   },
   {
    "duration": 0,
    "start_time": "2024-04-11T10:30:29.499Z"
   },
   {
    "duration": 0,
    "start_time": "2024-04-11T10:30:29.500Z"
   },
   {
    "duration": 0,
    "start_time": "2024-04-11T10:30:29.501Z"
   },
   {
    "duration": 0,
    "start_time": "2024-04-11T10:30:29.502Z"
   },
   {
    "duration": 0,
    "start_time": "2024-04-11T10:30:29.503Z"
   },
   {
    "duration": 5,
    "start_time": "2024-04-11T10:32:26.296Z"
   },
   {
    "duration": 26,
    "start_time": "2024-04-11T10:32:39.843Z"
   },
   {
    "duration": 19,
    "start_time": "2024-04-11T10:32:42.130Z"
   },
   {
    "duration": 15,
    "start_time": "2024-04-11T10:32:58.614Z"
   },
   {
    "duration": 96,
    "start_time": "2024-04-11T10:33:55.733Z"
   },
   {
    "duration": 82,
    "start_time": "2024-04-11T10:36:40.377Z"
   },
   {
    "duration": 17,
    "start_time": "2024-04-11T16:22:02.674Z"
   },
   {
    "duration": 8,
    "start_time": "2024-04-11T16:22:07.318Z"
   },
   {
    "duration": 30,
    "start_time": "2024-04-11T16:22:14.850Z"
   },
   {
    "duration": 81,
    "start_time": "2024-04-11T16:25:23.868Z"
   },
   {
    "duration": 77,
    "start_time": "2024-04-11T16:36:11.025Z"
   },
   {
    "duration": 8,
    "start_time": "2024-04-11T16:36:22.735Z"
   },
   {
    "duration": 250,
    "start_time": "2024-04-11T16:37:56.137Z"
   },
   {
    "duration": 6,
    "start_time": "2024-04-11T16:37:58.910Z"
   },
   {
    "duration": 26,
    "start_time": "2024-04-11T16:37:59.305Z"
   },
   {
    "duration": 956,
    "start_time": "2024-04-11T16:38:15.563Z"
   },
   {
    "duration": 7,
    "start_time": "2024-04-11T16:38:19.408Z"
   },
   {
    "duration": 27,
    "start_time": "2024-04-11T16:38:19.780Z"
   },
   {
    "duration": 18,
    "start_time": "2024-04-11T16:38:20.457Z"
   },
   {
    "duration": 15,
    "start_time": "2024-04-11T16:38:23.907Z"
   },
   {
    "duration": 3,
    "start_time": "2024-04-11T16:38:33.159Z"
   },
   {
    "duration": 53,
    "start_time": "2024-04-11T16:38:36.624Z"
   },
   {
    "duration": 22,
    "start_time": "2024-04-11T16:38:38.401Z"
   },
   {
    "duration": 19,
    "start_time": "2024-04-11T16:38:45.083Z"
   },
   {
    "duration": 11,
    "start_time": "2024-04-11T16:38:46.796Z"
   },
   {
    "duration": 6,
    "start_time": "2024-04-11T16:38:48.763Z"
   },
   {
    "duration": 16,
    "start_time": "2024-04-11T16:38:58.902Z"
   },
   {
    "duration": 33,
    "start_time": "2024-04-11T16:39:37.345Z"
   },
   {
    "duration": 8,
    "start_time": "2024-04-11T16:41:04.887Z"
   },
   {
    "duration": 8,
    "start_time": "2024-04-11T16:41:23.002Z"
   },
   {
    "duration": 6,
    "start_time": "2024-04-11T16:41:46.113Z"
   },
   {
    "duration": 908,
    "start_time": "2024-04-11T16:47:27.068Z"
   },
   {
    "duration": 872,
    "start_time": "2024-04-11T16:47:37.298Z"
   },
   {
    "duration": 94,
    "start_time": "2024-04-11T16:49:50.060Z"
   },
   {
    "duration": 161,
    "start_time": "2024-04-11T16:49:52.846Z"
   },
   {
    "duration": 179,
    "start_time": "2024-04-11T16:50:00.834Z"
   },
   {
    "duration": 215,
    "start_time": "2024-04-11T16:51:46.579Z"
   },
   {
    "duration": 975,
    "start_time": "2024-04-11T16:53:15.414Z"
   },
   {
    "duration": 169,
    "start_time": "2024-04-11T16:53:35.352Z"
   },
   {
    "duration": 190,
    "start_time": "2024-04-11T16:53:57.138Z"
   },
   {
    "duration": 197,
    "start_time": "2024-04-11T16:54:03.699Z"
   },
   {
    "duration": 173,
    "start_time": "2024-04-11T16:54:30.184Z"
   },
   {
    "duration": 1123,
    "start_time": "2024-04-11T16:56:02.010Z"
   },
   {
    "duration": 966,
    "start_time": "2024-04-11T16:56:25.241Z"
   },
   {
    "duration": 1027,
    "start_time": "2024-04-11T16:56:32.383Z"
   },
   {
    "duration": 10,
    "start_time": "2024-04-11T16:59:09.952Z"
   },
   {
    "duration": 239,
    "start_time": "2024-04-11T16:59:34.092Z"
   },
   {
    "duration": 99,
    "start_time": "2024-04-11T16:59:49.139Z"
   },
   {
    "duration": 106,
    "start_time": "2024-04-11T17:00:01.964Z"
   },
   {
    "duration": 134,
    "start_time": "2024-04-11T17:00:14.967Z"
   },
   {
    "duration": 28,
    "start_time": "2024-04-11T17:01:00.566Z"
   },
   {
    "duration": 32,
    "start_time": "2024-04-11T17:01:22.114Z"
   },
   {
    "duration": 29,
    "start_time": "2024-04-11T17:03:02.395Z"
   },
   {
    "duration": 25,
    "start_time": "2024-04-11T17:03:58.305Z"
   },
   {
    "duration": 1402,
    "start_time": "2024-04-11T17:04:39.544Z"
   },
   {
    "duration": 10,
    "start_time": "2024-04-11T17:04:46.696Z"
   },
   {
    "duration": 7,
    "start_time": "2024-04-11T17:08:37.399Z"
   },
   {
    "duration": 48,
    "start_time": "2024-04-11T17:13:42.560Z"
   },
   {
    "duration": 10,
    "start_time": "2024-04-11T17:13:58.513Z"
   },
   {
    "duration": 8,
    "start_time": "2024-04-11T17:14:41.797Z"
   },
   {
    "duration": 57,
    "start_time": "2024-04-12T17:00:33.604Z"
   },
   {
    "duration": 970,
    "start_time": "2024-04-12T17:00:38.028Z"
   },
   {
    "duration": 6,
    "start_time": "2024-04-12T17:00:39.000Z"
   },
   {
    "duration": 35,
    "start_time": "2024-04-12T17:00:39.008Z"
   },
   {
    "duration": 15,
    "start_time": "2024-04-12T17:00:39.045Z"
   },
   {
    "duration": 16,
    "start_time": "2024-04-12T17:00:39.062Z"
   },
   {
    "duration": 2,
    "start_time": "2024-04-12T17:00:39.080Z"
   },
   {
    "duration": 77,
    "start_time": "2024-04-12T17:00:39.083Z"
   },
   {
    "duration": 21,
    "start_time": "2024-04-12T17:00:39.162Z"
   },
   {
    "duration": 50,
    "start_time": "2024-04-12T17:00:39.184Z"
   },
   {
    "duration": 6,
    "start_time": "2024-04-12T17:00:39.236Z"
   },
   {
    "duration": 7,
    "start_time": "2024-04-12T17:00:39.244Z"
   },
   {
    "duration": 14,
    "start_time": "2024-04-12T17:00:39.253Z"
   },
   {
    "duration": 54,
    "start_time": "2024-04-12T17:00:39.269Z"
   },
   {
    "duration": 12,
    "start_time": "2024-04-12T17:00:39.329Z"
   },
   {
    "duration": 7,
    "start_time": "2024-04-12T17:00:39.343Z"
   },
   {
    "duration": 17,
    "start_time": "2024-04-12T17:00:39.351Z"
   },
   {
    "duration": 8,
    "start_time": "2024-04-12T17:00:39.369Z"
   },
   {
    "duration": 5,
    "start_time": "2024-04-12T17:00:39.379Z"
   },
   {
    "duration": 4,
    "start_time": "2024-04-12T17:00:39.386Z"
   },
   {
    "duration": 34,
    "start_time": "2024-04-12T17:00:39.416Z"
   },
   {
    "duration": 17,
    "start_time": "2024-04-12T17:00:39.452Z"
   },
   {
    "duration": 210,
    "start_time": "2024-04-12T17:00:39.470Z"
   },
   {
    "duration": 215,
    "start_time": "2024-04-12T17:00:39.682Z"
   },
   {
    "duration": 244,
    "start_time": "2024-04-12T17:00:39.899Z"
   },
   {
    "duration": 194,
    "start_time": "2024-04-12T17:00:40.145Z"
   },
   {
    "duration": 272,
    "start_time": "2024-04-12T17:00:40.341Z"
   },
   {
    "duration": 16,
    "start_time": "2024-04-12T17:00:40.619Z"
   },
   {
    "duration": 8,
    "start_time": "2024-04-12T17:00:40.638Z"
   },
   {
    "duration": 27,
    "start_time": "2024-04-12T17:00:40.647Z"
   },
   {
    "duration": 7,
    "start_time": "2024-04-12T17:00:40.676Z"
   },
   {
    "duration": 38,
    "start_time": "2024-04-12T17:00:40.684Z"
   },
   {
    "duration": 11,
    "start_time": "2024-04-12T17:00:40.724Z"
   },
   {
    "duration": 14,
    "start_time": "2024-04-12T17:00:40.737Z"
   },
   {
    "duration": 10,
    "start_time": "2024-04-12T17:00:40.753Z"
   },
   {
    "duration": 3914,
    "start_time": "2024-04-12T17:00:40.765Z"
   },
   {
    "duration": 7,
    "start_time": "2024-04-12T17:00:44.680Z"
   },
   {
    "duration": 1936,
    "start_time": "2024-04-12T17:00:44.689Z"
   },
   {
    "duration": 25,
    "start_time": "2024-04-12T17:00:46.627Z"
   },
   {
    "duration": 11,
    "start_time": "2024-04-12T17:00:46.653Z"
   },
   {
    "duration": 167,
    "start_time": "2024-04-12T17:00:46.665Z"
   },
   {
    "duration": 189,
    "start_time": "2024-04-12T17:00:46.835Z"
   },
   {
    "duration": 7,
    "start_time": "2024-04-12T17:00:47.026Z"
   },
   {
    "duration": 110,
    "start_time": "2024-04-12T17:00:47.035Z"
   },
   {
    "duration": 27,
    "start_time": "2024-04-12T17:00:47.147Z"
   },
   {
    "duration": 346,
    "start_time": "2024-04-12T17:00:47.176Z"
   },
   {
    "duration": 62,
    "start_time": "2024-04-12T17:00:47.525Z"
   },
   {
    "duration": 0,
    "start_time": "2024-04-12T17:00:47.589Z"
   },
   {
    "duration": 0,
    "start_time": "2024-04-12T17:00:47.592Z"
   },
   {
    "duration": 0,
    "start_time": "2024-04-12T17:00:47.594Z"
   },
   {
    "duration": 0,
    "start_time": "2024-04-12T17:00:47.596Z"
   },
   {
    "duration": 0,
    "start_time": "2024-04-12T17:00:47.598Z"
   },
   {
    "duration": 0,
    "start_time": "2024-04-12T17:00:47.600Z"
   },
   {
    "duration": 0,
    "start_time": "2024-04-12T17:00:47.602Z"
   },
   {
    "duration": 0,
    "start_time": "2024-04-12T17:00:47.604Z"
   },
   {
    "duration": 0,
    "start_time": "2024-04-12T17:00:47.605Z"
   },
   {
    "duration": 0,
    "start_time": "2024-04-12T17:00:47.607Z"
   },
   {
    "duration": 0,
    "start_time": "2024-04-12T17:00:47.609Z"
   },
   {
    "duration": 0,
    "start_time": "2024-04-12T17:00:47.611Z"
   },
   {
    "duration": 0,
    "start_time": "2024-04-12T17:00:47.613Z"
   },
   {
    "duration": 5,
    "start_time": "2024-04-12T17:04:33.048Z"
   },
   {
    "duration": 50,
    "start_time": "2024-04-12T17:14:44.894Z"
   },
   {
    "duration": 25,
    "start_time": "2024-04-12T17:14:56.530Z"
   },
   {
    "duration": 377,
    "start_time": "2024-04-12T17:18:31.903Z"
   },
   {
    "duration": 268,
    "start_time": "2024-04-12T17:19:39.913Z"
   },
   {
    "duration": 58,
    "start_time": "2024-04-12T17:19:45.926Z"
   },
   {
    "duration": 295,
    "start_time": "2024-04-12T17:19:51.526Z"
   },
   {
    "duration": 280,
    "start_time": "2024-04-12T17:20:03.386Z"
   },
   {
    "duration": 5,
    "start_time": "2024-04-12T17:20:19.331Z"
   },
   {
    "duration": 20,
    "start_time": "2024-04-12T17:20:28.683Z"
   },
   {
    "duration": 260,
    "start_time": "2024-04-12T17:21:24.929Z"
   },
   {
    "duration": 11,
    "start_time": "2024-04-12T17:22:34.386Z"
   },
   {
    "duration": 13,
    "start_time": "2024-04-12T17:22:48.841Z"
   },
   {
    "duration": 2,
    "start_time": "2024-04-12T17:23:27.082Z"
   },
   {
    "duration": 17,
    "start_time": "2024-04-12T17:23:57.317Z"
   },
   {
    "duration": 46,
    "start_time": "2024-04-12T17:24:07.898Z"
   },
   {
    "duration": 16,
    "start_time": "2024-04-12T17:24:47.413Z"
   },
   {
    "duration": 12,
    "start_time": "2024-04-12T17:24:47.719Z"
   },
   {
    "duration": 5,
    "start_time": "2024-04-12T17:24:48.771Z"
   },
   {
    "duration": 6,
    "start_time": "2024-04-12T17:26:02.767Z"
   },
   {
    "duration": 4,
    "start_time": "2024-04-12T17:26:03.439Z"
   },
   {
    "duration": 219,
    "start_time": "2024-04-12T17:26:18.439Z"
   },
   {
    "duration": 147,
    "start_time": "2024-04-12T17:26:24.495Z"
   },
   {
    "duration": 12,
    "start_time": "2024-04-12T17:26:25.551Z"
   },
   {
    "duration": 147,
    "start_time": "2024-04-12T17:26:28.712Z"
   },
   {
    "duration": 28,
    "start_time": "2024-04-12T17:26:37.006Z"
   },
   {
    "duration": 30,
    "start_time": "2024-04-12T17:26:43.721Z"
   },
   {
    "duration": 1004,
    "start_time": "2024-04-12T17:27:15.904Z"
   },
   {
    "duration": 7,
    "start_time": "2024-04-12T17:27:16.910Z"
   },
   {
    "duration": 30,
    "start_time": "2024-04-12T17:27:16.922Z"
   },
   {
    "duration": 16,
    "start_time": "2024-04-12T17:27:16.954Z"
   },
   {
    "duration": 16,
    "start_time": "2024-04-12T17:27:16.972Z"
   },
   {
    "duration": 3,
    "start_time": "2024-04-12T17:27:16.990Z"
   },
   {
    "duration": 81,
    "start_time": "2024-04-12T17:27:16.994Z"
   },
   {
    "duration": 20,
    "start_time": "2024-04-12T17:27:17.077Z"
   },
   {
    "duration": 42,
    "start_time": "2024-04-12T17:27:17.098Z"
   },
   {
    "duration": 7,
    "start_time": "2024-04-12T17:27:17.143Z"
   },
   {
    "duration": 6,
    "start_time": "2024-04-12T17:27:17.151Z"
   },
   {
    "duration": 19,
    "start_time": "2024-04-12T17:27:17.159Z"
   },
   {
    "duration": 51,
    "start_time": "2024-04-12T17:27:17.179Z"
   },
   {
    "duration": 9,
    "start_time": "2024-04-12T17:27:17.231Z"
   },
   {
    "duration": 30,
    "start_time": "2024-04-12T17:27:17.242Z"
   },
   {
    "duration": 9,
    "start_time": "2024-04-12T17:27:17.274Z"
   },
   {
    "duration": 6,
    "start_time": "2024-04-12T17:27:17.284Z"
   },
   {
    "duration": 5,
    "start_time": "2024-04-12T17:27:17.292Z"
   },
   {
    "duration": 38,
    "start_time": "2024-04-12T17:27:17.299Z"
   },
   {
    "duration": 17,
    "start_time": "2024-04-12T17:27:17.339Z"
   },
   {
    "duration": 204,
    "start_time": "2024-04-12T17:27:17.358Z"
   },
   {
    "duration": 205,
    "start_time": "2024-04-12T17:27:17.564Z"
   },
   {
    "duration": 214,
    "start_time": "2024-04-12T17:27:17.771Z"
   },
   {
    "duration": 215,
    "start_time": "2024-04-12T17:27:17.987Z"
   },
   {
    "duration": 264,
    "start_time": "2024-04-12T17:27:18.204Z"
   },
   {
    "duration": 13,
    "start_time": "2024-04-12T17:27:18.470Z"
   },
   {
    "duration": 12,
    "start_time": "2024-04-12T17:27:18.484Z"
   },
   {
    "duration": 38,
    "start_time": "2024-04-12T17:27:18.516Z"
   },
   {
    "duration": 9,
    "start_time": "2024-04-12T17:27:18.555Z"
   },
   {
    "duration": 7,
    "start_time": "2024-04-12T17:27:18.565Z"
   },
   {
    "duration": 17,
    "start_time": "2024-04-12T17:27:18.573Z"
   },
   {
    "duration": 32,
    "start_time": "2024-04-12T17:27:18.591Z"
   },
   {
    "duration": 15,
    "start_time": "2024-04-12T17:27:18.626Z"
   },
   {
    "duration": 4,
    "start_time": "2024-04-12T17:27:18.642Z"
   },
   {
    "duration": 3764,
    "start_time": "2024-04-12T17:27:18.647Z"
   },
   {
    "duration": 12,
    "start_time": "2024-04-12T17:27:22.412Z"
   },
   {
    "duration": 1882,
    "start_time": "2024-04-12T17:27:22.429Z"
   },
   {
    "duration": 33,
    "start_time": "2024-04-12T17:27:24.312Z"
   },
   {
    "duration": 3,
    "start_time": "2024-04-12T17:27:24.347Z"
   },
   {
    "duration": 166,
    "start_time": "2024-04-12T17:27:24.352Z"
   },
   {
    "duration": 156,
    "start_time": "2024-04-12T17:27:24.528Z"
   },
   {
    "duration": 7,
    "start_time": "2024-04-12T17:27:24.687Z"
   },
   {
    "duration": 90,
    "start_time": "2024-04-12T17:27:24.696Z"
   },
   {
    "duration": 45,
    "start_time": "2024-04-12T17:27:24.788Z"
   },
   {
    "duration": 339,
    "start_time": "2024-04-12T17:27:24.834Z"
   },
   {
    "duration": 3,
    "start_time": "2024-04-12T17:27:25.175Z"
   },
   {
    "duration": 15,
    "start_time": "2024-04-12T17:27:25.180Z"
   },
   {
    "duration": 44,
    "start_time": "2024-04-12T17:27:25.216Z"
   },
   {
    "duration": 7,
    "start_time": "2024-04-12T17:27:25.262Z"
   },
   {
    "duration": 15,
    "start_time": "2024-04-12T17:27:25.271Z"
   },
   {
    "duration": 36,
    "start_time": "2024-04-12T17:27:25.287Z"
   },
   {
    "duration": 7,
    "start_time": "2024-04-12T17:27:25.329Z"
   },
   {
    "duration": 4,
    "start_time": "2024-04-12T17:27:25.337Z"
   },
   {
    "duration": 221,
    "start_time": "2024-04-12T17:27:25.343Z"
   },
   {
    "duration": 152,
    "start_time": "2024-04-12T17:27:25.566Z"
   },
   {
    "duration": 17,
    "start_time": "2024-04-12T17:27:25.721Z"
   },
   {
    "duration": 159,
    "start_time": "2024-04-12T17:27:25.740Z"
   },
   {
    "duration": 37,
    "start_time": "2024-04-12T17:27:25.901Z"
   },
   {
    "duration": 27,
    "start_time": "2024-04-12T17:27:25.939Z"
   },
   {
    "duration": 1021,
    "start_time": "2024-04-15T20:13:38.865Z"
   },
   {
    "duration": 5,
    "start_time": "2024-04-15T20:13:39.888Z"
   },
   {
    "duration": 34,
    "start_time": "2024-04-15T20:13:39.894Z"
   },
   {
    "duration": 17,
    "start_time": "2024-04-15T20:13:39.930Z"
   },
   {
    "duration": 31,
    "start_time": "2024-04-15T20:13:39.949Z"
   },
   {
    "duration": 3,
    "start_time": "2024-04-15T20:13:39.981Z"
   },
   {
    "duration": 50,
    "start_time": "2024-04-15T20:13:39.985Z"
   },
   {
    "duration": 18,
    "start_time": "2024-04-15T20:13:40.037Z"
   },
   {
    "duration": 44,
    "start_time": "2024-04-15T20:13:40.056Z"
   },
   {
    "duration": 31,
    "start_time": "2024-04-15T20:13:40.102Z"
   },
   {
    "duration": 25,
    "start_time": "2024-04-15T20:13:40.135Z"
   },
   {
    "duration": 17,
    "start_time": "2024-04-15T20:13:40.162Z"
   },
   {
    "duration": 10,
    "start_time": "2024-04-15T20:13:40.180Z"
   },
   {
    "duration": 9,
    "start_time": "2024-04-15T20:13:40.192Z"
   },
   {
    "duration": 13,
    "start_time": "2024-04-15T20:13:40.203Z"
   },
   {
    "duration": 8,
    "start_time": "2024-04-15T20:13:40.218Z"
   },
   {
    "duration": 9,
    "start_time": "2024-04-15T20:13:40.227Z"
   },
   {
    "duration": 5,
    "start_time": "2024-04-15T20:13:40.237Z"
   },
   {
    "duration": 51,
    "start_time": "2024-04-15T20:13:40.243Z"
   },
   {
    "duration": 24,
    "start_time": "2024-04-15T20:13:40.296Z"
   },
   {
    "duration": 7,
    "start_time": "2024-04-15T20:13:40.322Z"
   },
   {
    "duration": 24,
    "start_time": "2024-04-15T20:13:40.331Z"
   },
   {
    "duration": 27,
    "start_time": "2024-04-15T20:13:40.357Z"
   },
   {
    "duration": 23,
    "start_time": "2024-04-15T20:13:40.385Z"
   },
   {
    "duration": 6,
    "start_time": "2024-04-15T20:13:40.410Z"
   },
   {
    "duration": 34,
    "start_time": "2024-04-15T20:13:40.418Z"
   },
   {
    "duration": 41,
    "start_time": "2024-04-15T20:13:40.454Z"
   },
   {
    "duration": 28,
    "start_time": "2024-04-15T20:13:40.500Z"
   },
   {
    "duration": 27,
    "start_time": "2024-04-15T20:13:40.530Z"
   },
   {
    "duration": 7,
    "start_time": "2024-04-15T20:13:40.559Z"
   },
   {
    "duration": 14,
    "start_time": "2024-04-15T20:13:40.580Z"
   },
   {
    "duration": 192,
    "start_time": "2024-04-15T20:13:40.596Z"
   },
   {
    "duration": 196,
    "start_time": "2024-04-15T20:13:40.790Z"
   },
   {
    "duration": 182,
    "start_time": "2024-04-15T20:13:40.988Z"
   },
   {
    "duration": 177,
    "start_time": "2024-04-15T20:13:41.172Z"
   },
   {
    "duration": 249,
    "start_time": "2024-04-15T20:13:41.351Z"
   },
   {
    "duration": 13,
    "start_time": "2024-04-15T20:13:41.602Z"
   },
   {
    "duration": 12,
    "start_time": "2024-04-15T20:13:41.617Z"
   },
   {
    "duration": 27,
    "start_time": "2024-04-15T20:13:41.631Z"
   },
   {
    "duration": 28,
    "start_time": "2024-04-15T20:13:41.659Z"
   },
   {
    "duration": 2,
    "start_time": "2024-04-15T20:13:41.689Z"
   },
   {
    "duration": 16,
    "start_time": "2024-04-15T20:13:41.693Z"
   },
   {
    "duration": 409,
    "start_time": "2024-04-15T20:13:41.710Z"
   },
   {
    "duration": 17,
    "start_time": "2024-04-15T20:13:42.121Z"
   },
   {
    "duration": 10,
    "start_time": "2024-04-15T20:13:42.140Z"
   },
   {
    "duration": 5231,
    "start_time": "2024-04-15T20:13:42.152Z"
   },
   {
    "duration": 6,
    "start_time": "2024-04-15T20:13:47.384Z"
   },
   {
    "duration": 4966,
    "start_time": "2024-04-15T20:13:47.391Z"
   },
   {
    "duration": 32,
    "start_time": "2024-04-15T20:13:52.358Z"
   },
   {
    "duration": 8,
    "start_time": "2024-04-15T20:13:52.392Z"
   },
   {
    "duration": 163,
    "start_time": "2024-04-15T20:13:52.401Z"
   },
   {
    "duration": 158,
    "start_time": "2024-04-15T20:13:52.566Z"
   },
   {
    "duration": 7,
    "start_time": "2024-04-15T20:13:52.726Z"
   },
   {
    "duration": 72,
    "start_time": "2024-04-15T20:13:52.734Z"
   },
   {
    "duration": 25,
    "start_time": "2024-04-15T20:13:52.808Z"
   },
   {
    "duration": 285,
    "start_time": "2024-04-15T20:13:52.835Z"
   },
   {
    "duration": 2,
    "start_time": "2024-04-15T20:13:53.121Z"
   },
   {
    "duration": 21,
    "start_time": "2024-04-15T20:13:53.124Z"
   },
   {
    "duration": 54,
    "start_time": "2024-04-15T20:13:53.147Z"
   },
   {
    "duration": 7,
    "start_time": "2024-04-15T20:13:53.203Z"
   },
   {
    "duration": 14,
    "start_time": "2024-04-15T20:13:53.211Z"
   },
   {
    "duration": 9,
    "start_time": "2024-04-15T20:13:53.226Z"
   },
   {
    "duration": 6,
    "start_time": "2024-04-15T20:13:53.237Z"
   },
   {
    "duration": 9,
    "start_time": "2024-04-15T20:13:53.244Z"
   },
   {
    "duration": 226,
    "start_time": "2024-04-15T20:13:53.254Z"
   },
   {
    "duration": 145,
    "start_time": "2024-04-15T20:13:53.481Z"
   },
   {
    "duration": 10,
    "start_time": "2024-04-15T20:13:53.628Z"
   },
   {
    "duration": 129,
    "start_time": "2024-04-15T20:13:53.639Z"
   },
   {
    "duration": 30,
    "start_time": "2024-04-15T20:13:53.769Z"
   },
   {
    "duration": 21,
    "start_time": "2024-04-15T20:13:53.801Z"
   },
   {
    "duration": 10,
    "start_time": "2024-04-15T20:21:08.723Z"
   },
   {
    "duration": 5,
    "start_time": "2024-04-15T20:25:18.857Z"
   },
   {
    "duration": 8,
    "start_time": "2024-04-15T20:25:19.187Z"
   },
   {
    "duration": 10,
    "start_time": "2024-04-15T20:25:19.410Z"
   },
   {
    "duration": 10,
    "start_time": "2024-04-15T20:25:19.628Z"
   },
   {
    "duration": 13,
    "start_time": "2024-04-15T20:25:19.988Z"
   },
   {
    "duration": 1082,
    "start_time": "2024-04-15T20:26:43.522Z"
   },
   {
    "duration": 5,
    "start_time": "2024-04-15T20:26:44.606Z"
   },
   {
    "duration": 27,
    "start_time": "2024-04-15T20:26:44.612Z"
   },
   {
    "duration": 43,
    "start_time": "2024-04-15T20:26:44.641Z"
   },
   {
    "duration": 15,
    "start_time": "2024-04-15T20:26:44.686Z"
   },
   {
    "duration": 2,
    "start_time": "2024-04-15T20:26:44.702Z"
   },
   {
    "duration": 55,
    "start_time": "2024-04-15T20:26:44.706Z"
   },
   {
    "duration": 33,
    "start_time": "2024-04-15T20:26:44.762Z"
   },
   {
    "duration": 22,
    "start_time": "2024-04-15T20:26:44.797Z"
   },
   {
    "duration": 5,
    "start_time": "2024-04-15T20:26:44.822Z"
   },
   {
    "duration": 16,
    "start_time": "2024-04-15T20:26:44.829Z"
   },
   {
    "duration": 44,
    "start_time": "2024-04-15T20:26:44.846Z"
   },
   {
    "duration": 10,
    "start_time": "2024-04-15T20:26:44.892Z"
   },
   {
    "duration": 7,
    "start_time": "2024-04-15T20:26:44.903Z"
   },
   {
    "duration": 16,
    "start_time": "2024-04-15T20:26:44.911Z"
   },
   {
    "duration": 8,
    "start_time": "2024-04-15T20:26:44.928Z"
   },
   {
    "duration": 5,
    "start_time": "2024-04-15T20:26:44.937Z"
   },
   {
    "duration": 21,
    "start_time": "2024-04-15T20:26:44.944Z"
   },
   {
    "duration": 38,
    "start_time": "2024-04-15T20:26:44.967Z"
   },
   {
    "duration": 22,
    "start_time": "2024-04-15T20:26:45.007Z"
   },
   {
    "duration": 59,
    "start_time": "2024-04-15T20:26:45.030Z"
   },
   {
    "duration": 102,
    "start_time": "2024-04-15T20:26:45.090Z"
   },
   {
    "duration": 76,
    "start_time": "2024-04-15T20:26:45.194Z"
   },
   {
    "duration": 51,
    "start_time": "2024-04-15T20:26:45.272Z"
   },
   {
    "duration": 24,
    "start_time": "2024-04-15T20:26:45.325Z"
   },
   {
    "duration": 43,
    "start_time": "2024-04-15T20:26:45.351Z"
   },
   {
    "duration": 17,
    "start_time": "2024-04-15T20:26:45.395Z"
   },
   {
    "duration": 11,
    "start_time": "2024-04-15T20:26:45.416Z"
   },
   {
    "duration": 27,
    "start_time": "2024-04-15T20:26:45.429Z"
   },
   {
    "duration": 7,
    "start_time": "2024-04-15T20:26:45.479Z"
   },
   {
    "duration": 17,
    "start_time": "2024-04-15T20:26:45.487Z"
   },
   {
    "duration": 196,
    "start_time": "2024-04-15T20:26:45.506Z"
   },
   {
    "duration": 186,
    "start_time": "2024-04-15T20:26:45.704Z"
   },
   {
    "duration": 174,
    "start_time": "2024-04-15T20:26:45.891Z"
   },
   {
    "duration": 171,
    "start_time": "2024-04-15T20:26:46.067Z"
   },
   {
    "duration": 240,
    "start_time": "2024-04-15T20:26:46.240Z"
   },
   {
    "duration": 12,
    "start_time": "2024-04-15T20:26:46.481Z"
   },
   {
    "duration": 8,
    "start_time": "2024-04-15T20:26:46.494Z"
   },
   {
    "duration": 42,
    "start_time": "2024-04-15T20:26:46.503Z"
   },
   {
    "duration": 9,
    "start_time": "2024-04-15T20:26:46.547Z"
   },
   {
    "duration": 3,
    "start_time": "2024-04-15T20:26:46.557Z"
   },
   {
    "duration": 34,
    "start_time": "2024-04-15T20:26:46.561Z"
   },
   {
    "duration": 412,
    "start_time": "2024-04-15T20:26:46.597Z"
   },
   {
    "duration": 8,
    "start_time": "2024-04-15T20:26:47.011Z"
   },
   {
    "duration": 27,
    "start_time": "2024-04-15T20:26:47.021Z"
   },
   {
    "duration": 3,
    "start_time": "2024-04-15T20:26:47.050Z"
   },
   {
    "duration": 5333,
    "start_time": "2024-04-15T20:26:47.055Z"
   },
   {
    "duration": 6,
    "start_time": "2024-04-15T20:26:52.390Z"
   },
   {
    "duration": 5089,
    "start_time": "2024-04-15T20:26:52.397Z"
   },
   {
    "duration": 24,
    "start_time": "2024-04-15T20:26:57.487Z"
   },
   {
    "duration": 4,
    "start_time": "2024-04-15T20:26:57.512Z"
   },
   {
    "duration": 155,
    "start_time": "2024-04-15T20:26:57.517Z"
   },
   {
    "duration": 148,
    "start_time": "2024-04-15T20:26:57.673Z"
   },
   {
    "duration": 7,
    "start_time": "2024-04-15T20:26:57.823Z"
   },
   {
    "duration": 70,
    "start_time": "2024-04-15T20:26:57.831Z"
   },
   {
    "duration": 26,
    "start_time": "2024-04-15T20:26:57.903Z"
   },
   {
    "duration": 302,
    "start_time": "2024-04-15T20:26:57.931Z"
   },
   {
    "duration": 3,
    "start_time": "2024-04-15T20:26:58.234Z"
   },
   {
    "duration": 14,
    "start_time": "2024-04-15T20:26:58.238Z"
   },
   {
    "duration": 54,
    "start_time": "2024-04-15T20:26:58.253Z"
   },
   {
    "duration": 6,
    "start_time": "2024-04-15T20:26:58.309Z"
   },
   {
    "duration": 12,
    "start_time": "2024-04-15T20:26:58.317Z"
   },
   {
    "duration": 6,
    "start_time": "2024-04-15T20:26:58.330Z"
   },
   {
    "duration": 7,
    "start_time": "2024-04-15T20:26:58.337Z"
   },
   {
    "duration": 5,
    "start_time": "2024-04-15T20:26:58.346Z"
   },
   {
    "duration": 223,
    "start_time": "2024-04-15T20:26:58.352Z"
   },
   {
    "duration": 139,
    "start_time": "2024-04-15T20:26:58.580Z"
   },
   {
    "duration": 9,
    "start_time": "2024-04-15T20:26:58.721Z"
   },
   {
    "duration": 132,
    "start_time": "2024-04-15T20:26:58.732Z"
   },
   {
    "duration": 31,
    "start_time": "2024-04-15T20:26:58.865Z"
   },
   {
    "duration": 20,
    "start_time": "2024-04-15T20:26:58.897Z"
   },
   {
    "duration": 20,
    "start_time": "2024-04-15T20:26:58.918Z"
   },
   {
    "duration": 22,
    "start_time": "2024-04-15T20:26:58.940Z"
   },
   {
    "duration": 27,
    "start_time": "2024-04-15T20:26:58.964Z"
   },
   {
    "duration": 10,
    "start_time": "2024-04-15T20:26:58.992Z"
   },
   {
    "duration": 13,
    "start_time": "2024-04-15T20:26:59.004Z"
   },
   {
    "duration": 16,
    "start_time": "2024-04-15T20:26:59.018Z"
   }
  ],
  "kernelspec": {
   "display_name": "Python 3 (ipykernel)",
   "language": "python",
   "name": "python3"
  },
  "language_info": {
   "codemirror_mode": {
    "name": "ipython",
    "version": 3
   },
   "file_extension": ".py",
   "mimetype": "text/x-python",
   "name": "python",
   "nbconvert_exporter": "python",
   "pygments_lexer": "ipython3",
   "version": "3.10.12"
  },
  "toc": {
   "base_numbering": 1,
   "nav_menu": {},
   "number_sections": true,
   "sideBar": true,
   "skip_h1_title": true,
   "title_cell": "Table of Contents",
   "title_sidebar": "Contents",
   "toc_cell": false,
   "toc_position": {},
   "toc_section_display": true,
   "toc_window_display": true
  }
 },
 "nbformat": 4,
 "nbformat_minor": 5
}
